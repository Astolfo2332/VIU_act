{
 "nbformat": 4,
 "nbformat_minor": 0,
 "metadata": {
  "colab": {
   "provenance": []
  },
  "kernelspec": {
   "name": "python3",
   "display_name": "Python 3 (ipykernel)",
   "language": "python"
  }
 },
 "cells": [
  {
   "metadata": {},
   "cell_type": "markdown",
   "source": [
    "\n",
    "<a href=\"https://githubtocolab.com/Astolfo2332/VIU_act/blob/main/optimizacion/Algoritmos_TP.ipynb\" target=\"_parent\\\">\n",
    "<img src=\"https://colab.research.google.com/assets/colab-badge.svg\" alt=\"Open in Colab\" > </a>\n"
   ]
  },
  {
   "cell_type": "markdown",
   "metadata": {
    "id": "hVbXYX-RfPWh"
   },
   "source": [
    "# Algoritmos de optimización - Seminario<br>\n",
    "Nombre y Apellidos: Miguel López Vélez <br>\n",
    "Url: [Trabajo Práctico](https://github.com/Astolfo2332/VIU_act/blob/main/optimizacion/Algoritmos_TP.ipynb)<br>\n",
    "Problema:\n",
    "> 1. Sesiones de doblaje <br>\n",
    "> 2. Organizar los horarios de partidos de La Liga<br>\n",
    "> 3. Combinar cifras y operaciones\n",
    "\n",
    "Descripción del problema:\n",
    "\n",
    "- El problema consiste en analizar el siguiente problema y diseñar un algoritmo que lo resuelva.\n",
    "- Disponemos de las 9 cifras del 1 al 9 (excluimos el cero) y de los 4 signos básicos de las operaciones fundamentales: suma(+), resta(-), multiplicación(*) y división(/)\n",
    "- Debemos combinarlos alternativamente sin repetir ninguno de ellos para obtener una cantidad dada. Un ejemplo sería para obtener el 4:\n",
    "\n",
    "$$\n",
    "4+2-6/3*1 = 4\n",
    "$$\n",
    "\n",
    "Debe analizarse el problema para encontrar todos los valores enteros posibles planteando las siguientes cuestiones:\n",
    "- ¿Qué valor máximo y mínimo se pueden obtener según las condiciones del problema?\n",
    "- ¿Es posible encontrar todos los valores enteros posibles entre dicho mínimo y máximo?\n",
    "\n"
   ]
  },
  {
   "cell_type": "markdown",
   "metadata": {
    "id": "3_-exlrTgLd-"
   },
   "source": [
    "(*)¿Cuantas posibilidades hay sin tener en cuenta las restricciones?<br>\n",
    "\n",
    "\n",
    "\n",
    "¿Cuantas posibilidades hay teniendo en cuenta todas las restricciones.\n",
    "\n",
    "\n"
   ]
  },
  {
   "cell_type": "markdown",
   "metadata": {
    "id": "WfCUqJyKhPcw"
   },
   "source": [
    "Respuesta"
   ]
  },
  {
   "metadata": {},
   "cell_type": "markdown",
   "source": [
    "Inicialmente, debemos determinar las restricciones del problema, las cuales son las siguientes:\n",
    "- No se pueden repetir los números\n",
    "- No se pueden repetir los signos\n",
    "- Se deben alternar los números y los signos\n",
    "- Los resultados deben ser enteros\n",
    "\n",
    "De esta forma la cantidad de posibilidades se limitan por el número de signos, ya que solo podemos usar 4 a la vez limita el uso de los números a 5, y estos al no poder repetirse lo vuelve un problema de permutación, porque el orden no importa:\n",
    "\n",
    "$$\n",
    "P_{9,5} = \\frac{9!}{9!-5!} = 15120\n",
    "$$\n",
    "\n",
    "A esto se le debe multiplicar la cantidad de posibles combinaciones de signos sin repetir, lo cual es un problema de permutaciones de la forma:\n",
    "\n",
    "$$\n",
    "P_{4} = 4! = 24\n",
    "$$\n",
    "\n",
    "Dando como resultado un espacio de:\n",
    "\n",
    "$$\n",
    "15120 * 24 = 362880 posibilidades\n",
    "$$\n",
    "\n",
    "Ahora agregando la restricción de que el resultado debe ser un número entero, se debe analizar el rango de valores que se pueden obtener y evaluar si pertenecen o no al conjunto de enteros.\n"
   ]
  },
  {
   "cell_type": "markdown",
   "metadata": {
    "id": "dzynfVJahHoY"
   },
   "source": [
    "Modelo para el espacio de soluciones<br>\n",
    "(*) ¿Cual es la estructura de datos que mejor se adapta al problema? Argumentalo.(Es posible que hayas elegido una al principio y veas la necesidad de cambiar, argumentalo)\n",
    "\n",
    "Se puede implementar un diccionario para almacenar el valor de los resultados en la clave y que su valor sea una lista de expresiones que den como resultado dicho valor, facilitando la búsqueda de los valores enteros."
   ]
  },
  {
   "cell_type": "markdown",
   "metadata": {
    "id": "xFIJrOwKi2Ti"
   },
   "source": [
    "Respuesta"
   ]
  },
  {
   "cell_type": "markdown",
   "metadata": {
    "id": "7Z9U2W7bi-XS"
   },
   "source": [
    "Según el modelo para el espacio de soluciones<br>\n",
    "(*)¿Cual es la función objetivo?\n",
    "Estableciendo\n",
    "$$\n",
    "N = \\{1, 2, 3, 4, 5, 6, 7, 8, 9\\}\n",
    "$$\n",
    "\n",
    "y\n",
    "\n",
    "$$\n",
    "O = \\{+, -, *, /\\}\n",
    "$$\n",
    "\n",
    "$$\n",
    "f(N, O) = \\{x \\in \\mathbb{Z} \\ | \\ \\text{existe una combinación válida de } N \\text{ y } O \\text{ tal que } E(N, O) = x\\}\n",
    "$$\n",
    "\n",
    "Así que la función objetivo es tal que:\n",
    "\n",
    "$$\n",
    "\\max \\left| f(N, O) \\right|\n",
    "$$\n",
    "\n",
    "y\n",
    "\n",
    "$$\n",
    "\\min \\left| f(N, O) \\right|\n",
    "$$\n",
    "\n",
    "\n",
    "(*)¿Es un problema de maximización o minimización?\n",
    "\n",
    "Ambos ya que debemos establecer el máximo y mínimo de la expresión dada."
   ]
  },
  {
   "cell_type": "markdown",
   "metadata": {
    "id": "rlnTYgY1j6I2"
   },
   "source": [
    "Diseña un algoritmo para resolver el problema por fuerza bruta"
   ]
  },
  {
   "cell_type": "markdown",
   "metadata": {
    "id": "70rDgxYXkC8r"
   },
   "source": [
    "Respuesta"
   ]
  },
  {
   "metadata": {},
   "cell_type": "markdown",
   "source": [
    "### Método # 1:\n",
    "\n",
    "Mediante fuerza bruta por generación y eliminación de expresiones."
   ]
  },
  {
   "metadata": {
    "ExecuteTime": {
     "end_time": "2025-03-05T04:07:48.097718Z",
     "start_time": "2025-03-05T04:07:32.217354Z"
    }
   },
   "cell_type": "code",
   "source": [
    "\n",
    "class Solution:\n",
    "    def __init__(self, problem:str, operations:list):\n",
    "        self.problem = list(problem)\n",
    "        self.operations = operations\n",
    "        self.rest_dict = {}\n",
    "        self.result = []\n",
    "        self.path = []\n",
    "        self.used = set()\n",
    "        self.used_op = []\n",
    "        self.intentos = 0\n",
    "\n",
    "    def backtrack(self):\n",
    "\n",
    "        if len(self.path) == 9:\n",
    "            path = \"\".join(self.path)\n",
    "            result = eval(path)\n",
    "            self.intentos += 1\n",
    "            # print(path, result)\n",
    "            if result.is_integer() and path not in self.result:\n",
    "                self.result.append(path)\n",
    "                if result not in self.rest_dict:\n",
    "                    self.rest_dict[result] = [path]\n",
    "                else:\n",
    "                    self.rest_dict[result].append(path)\n",
    "                return False\n",
    "\n",
    "\n",
    "        if len(self.path) % 2 == 0:\n",
    "            for num in self.problem:\n",
    "                if num in self.used:\n",
    "                    continue\n",
    "                self.path.append(num)\n",
    "                self.used.add(num)\n",
    "                self.problem.remove(num)\n",
    "                if self.backtrack():\n",
    "                    return True\n",
    "                self.path.remove(num)\n",
    "                self.used.remove(num)\n",
    "                self.problem.append(num)\n",
    "        else:\n",
    "            for op in self.operations:\n",
    "                if op in self.used_op:\n",
    "                    continue\n",
    "                self.path.append(op)\n",
    "                self.used_op.append(op)\n",
    "                self.operations.remove(op)\n",
    "                if self.backtrack():\n",
    "                    return True\n",
    "                self.path.remove(op)\n",
    "                self.operations.append(op)\n",
    "                self.used_op.remove(op)\n",
    "\n",
    "        return False\n",
    "\n",
    "    def find_values(self):\n",
    "        self.backtrack()\n",
    "        return self.result\n",
    "\n",
    "\n",
    "\n",
    "a = '123456789'\n",
    "operations = ['+', '-', '*', '/']\n",
    "\n",
    "\n",
    "fuerza_bruta = Solution(a, operations)\n",
    "\n",
    "a = fuerza_bruta.find_values()\n",
    "\n",
    "iteraciones_fuerza_bruta = fuerza_bruta.intentos"
   ],
   "outputs": [],
   "execution_count": 56
  },
  {
   "metadata": {
    "ExecuteTime": {
     "end_time": "2025-03-04T22:51:48.465056Z",
     "start_time": "2025-03-04T22:51:48.461539Z"
    }
   },
   "cell_type": "code",
   "source": [
    "def continuidad(res_dict):\n",
    "    min_res = min(res_dict.keys())\n",
    "    max_res = max(res_dict.keys())\n",
    "    for i in range(int(min_res), int(max_res)+1):\n",
    "        if i not in res_dict:\n",
    "            return False, min_res, max_res\n",
    "    return True, min_res, max_res"
   ],
   "outputs": [],
   "execution_count": 2
  },
  {
   "metadata": {
    "ExecuteTime": {
     "end_time": "2025-03-04T21:57:05.549541Z",
     "start_time": "2025-03-04T21:57:05.535514Z"
    }
   },
   "cell_type": "code",
   "source": [
    "\n",
    "continuo, min_res, max_res = continuidad(fuerza_bruta.rest_dict)\n",
    "\n",
    "print(\"Mínimo:\", min_res)\n",
    "print(\"Máximo:\", max_res)\n",
    "print(\"Es continuo el resultado?\", \"si\" if continuo else \"no\")\n",
    "print(\"Intentos:\", fuerza_bruta.intentos)\n"
   ],
   "outputs": [
    {
     "name": "stdout",
     "output_type": "stream",
     "text": [
      "Mínimo: -69.0\n",
      "Máximo: 77.0\n",
      "Es continuo el resultado? si\n",
      "Intentos: 362880\n"
     ]
    }
   ],
   "execution_count": 6
  },
  {
   "metadata": {},
   "cell_type": "markdown",
   "source": [
    "### Método # 2:\n",
    "\n",
    "De una manera más eficiente podemos generar todas las posibles permutaciones del sistema de antemano y a coste de memoria se pueden calcular más rápido que el método anterior."
   ]
  },
  {
   "metadata": {
    "id": "38c-7-ejhJmA",
    "ExecuteTime": {
     "end_time": "2025-03-04T21:58:24.334747Z",
     "start_time": "2025-03-04T21:58:21.727921Z"
    }
   },
   "cell_type": "code",
   "source": [
    "from itertools import permutations\n",
    "\n",
    "res_dict = {}\n",
    "\n",
    "def eval_expresssion(exp, res_dict):\n",
    "    result = eval(exp)\n",
    "    if result.is_integer():\n",
    "        if result in res_dict:\n",
    "            res_dict[result].append(exp)\n",
    "        else:\n",
    "            res_dict[result] = [exp]\n",
    "    return res_dict\n",
    "\n",
    "def get_expressions(res_dict, iter_counter):\n",
    "    #Generamos las permutaciones de numeros\n",
    "    for nums in permutations('123456789', 5):\n",
    "        #Generamos las permutaciones de operaciones\n",
    "        for ops in permutations('+-*/', 4):\n",
    "            #Unimos los números y las operaciones, recordemos que se pone el número adicional al final\n",
    "            expression = ''.join([f'{nums[i]}{ops[i]}' for i in range(4)]) + nums[4]\n",
    "            #Se evalua el valor de la expresión\n",
    "            res_dict = eval_expresssion(expression, res_dict)\n",
    "            iter_counter[0] += 1\n",
    "    return res_dict, iter_counter\n",
    "\n",
    "res_dict, all_option_counter = get_expressions(res_dict, [0])\n"
   ],
   "outputs": [],
   "execution_count": 8
  },
  {
   "metadata": {
    "ExecuteTime": {
     "end_time": "2025-03-04T21:58:26.515985Z",
     "start_time": "2025-03-04T21:58:26.498865Z"
    }
   },
   "cell_type": "code",
   "source": [
    "continuo, min_res, max_res = continuidad(res_dict)\n",
    "\n",
    "print(\"Mínimo:\", min_res)\n",
    "print(\"Máximo:\", max_res)\n",
    "print(\"Es continuo el resultado?\", \"si\" if continuo else \"no\")\n",
    "print(\"Intentos:\", all_option_counter[0])"
   ],
   "outputs": [
    {
     "name": "stdout",
     "output_type": "stream",
     "text": [
      "Mínimo: -69.0\n",
      "Máximo: 77.0\n",
      "Es continuo el resultado? si\n",
      "Intentos: 362880\n"
     ]
    }
   ],
   "execution_count": 9
  },
  {
   "cell_type": "markdown",
   "metadata": {
    "id": "tgrnsC2nkFa8"
   },
   "source": [
    "Calcula la complejidad del algoritmo por fuerza bruta"
   ]
  },
  {
   "cell_type": "markdown",
   "metadata": {
    "id": "9eUd3xwckP68"
   },
   "source": [
    "Respuesta"
   ]
  },
  {
   "metadata": {},
   "cell_type": "markdown",
   "source": [
    "En este caso la complejidad es dada por el número de permutaciones de los números y las operaciones, si lo definimos como $m$ y $n$ respectivamente, y sabemos que la permutación esta definida como:\n",
    "\n",
    "$$\n",
    "P_{n,k} = \\frac{n!}{(n-k)!}\n",
    "$$\n",
    "\n",
    "Si los valores de $n$ tienden a $\\infty$ la complejidad del algoritmo es del orden factorial de $n$ o $m$, así es igual a $O((n^2)!)$ o $O(n!)$."
   ]
  },
  {
   "cell_type": "markdown",
   "metadata": {
    "id": "txbrmLmskReM"
   },
   "source": [
    "(*)Diseña un algoritmo que mejore la complejidad del algortimo por fuerza bruta. Argumenta porque crees que mejora el algoritmo por fuerza bruta"
   ]
  },
  {
   "cell_type": "markdown",
   "metadata": {
    "id": "hLrVwt5QkZPD"
   },
   "source": [
    "Respuesta\n",
    "## Métodos Heurísticos\n",
    "\n",
    "### Aproximación # 1:\n",
    "\n",
    "Solución por medio de ramificación y poda, con restricciones para números enteros, podando esa rama si se encuentra que el resultado parcial no es un número entero, mediante un algoritmo de búsqueda en profundidad.\n",
    "\n",
    "En este caso se considera que se pueden perder ramas que después de una división dicho valor puede ser un entero, pero por orden de operaciones, este valor será repetido invirtiendo el orden de las operaciones. Por ejemplo:\n",
    "\n",
    "- $1/3$ No es entero pero podría ser $1/3*6$, entonces esa posibilidad solo se dara en el caso de $6/3*1$. Por lo que se puede perder la posibilidad de encontrar un entero si se poda la rama.\n",
    "\n",
    "De manera gráfica se puede representar como:\n",
    "\n",
    "<div style=\"text-align: center;\">\n",
    "<img src=\"https://raw.githubusercontent.com/Astolfo2332/VIU_act/main/optimizacion/imgs/grafo.png\" alt = \"Grafo de ramas de búsqueda\" width=\"400\"/>\n",
    "<p><em>Fig 1. Gráfico de ramas de búsqueda</em></p>\n",
    "</div>\n",
    "\n",
    "\n",
    "Por el momento tomaremos como metrica de desempeño las iteraciones para encontrar una solución y los valores mínimo, máximo encontrados y si es continuo o no.\n",
    "\n"
   ]
  },
  {
   "metadata": {
    "ExecuteTime": {
     "end_time": "2025-03-05T04:05:21.432270Z",
     "start_time": "2025-03-05T04:05:19.867358Z"
    }
   },
   "cell_type": "code",
   "source": [
    "\n",
    "def evaluar_expresion(expresion):\n",
    "    \"\"\"Evalúa la expresión y retorna el resultado si es entero, None si no lo es.\"\"\"\n",
    "    resultado = eval(expresion)\n",
    "    if isinstance(resultado, int) or resultado.is_integer():\n",
    "        return int(resultado)\n",
    "    return None\n",
    "\n",
    "def dfs(numeros, operadores, expresion, resultado_actual, usados_numeros, usados_operadores, min_max, iter_counter, res_dict):\n",
    "    \"\"\"Búsqueda en profundidad con poda para encontrar solo el mínimo y máximo.\"\"\"\n",
    "    if len(expresion) == 9:  # Si ya usamos 5 numeros y 4 operadores\n",
    "\n",
    "        if resultado_actual not in res_dict:\n",
    "            res_dict[resultado_actual] = [expresion]\n",
    "        else:\n",
    "            res_dict[resultado_actual].append(expresion)\n",
    "\n",
    "        if resultado_actual is not None:\n",
    "            min_max[0] = min(min_max[0], resultado_actual)  # Actualizar mínimo\n",
    "            min_max[1] = max(min_max[1], resultado_actual)  # Actualizar máximo\n",
    "        return\n",
    "\n",
    "    #Gracias al orden de los numeros podemos \"guardar\" los que hemos usado\n",
    "    for i, num in enumerate(numeros):\n",
    "        if i in usados_numeros:\n",
    "            continue  # Evita reutilizar números\n",
    "\n",
    "        for j, op in enumerate(operadores):\n",
    "            if j in usados_operadores:\n",
    "                continue  # Evita reutilizar operadores\n",
    "\n",
    "            nueva_expresion = f\"{expresion}{op}{num}\"\n",
    "            nuevo_resultado = evaluar_expresion(nueva_expresion)\n",
    "\n",
    "            iter_counter[0] += 1\n",
    "\n",
    "            if nuevo_resultado is not None:  # Poda: Solo continuar pro la rama si es entero\n",
    "                dfs(numeros, operadores, nueva_expresion, nuevo_resultado, usados_numeros | {i}, usados_operadores | {j}, min_max, iter_counter, res_dict)\n",
    "\n",
    "def buscar_min_max(print_results=False):\n",
    "    iter_counter = [0]\n",
    "    res_dict = {}\n",
    "    \"\"\"Encuentra solo los valores mínimo y máximo posibles.\"\"\"\n",
    "    numeros = list(range(1, 10))  # Cifras del 1 al 9\n",
    "    operadores = ['+', '-', '*', '/']\n",
    "    min_max = [float('inf'), float('-inf')]  # Inicializar mínimo y máximo\n",
    "\n",
    "    for num_inicial in numeros:\n",
    "        dfs(numeros, operadores, str(num_inicial), num_inicial, {numeros.index(num_inicial)}, set(), min_max, iter_counter, res_dict)\n",
    "\n",
    "    if not print_results:\n",
    "        return min_max, iter_counter\n",
    "\n",
    "    print(\"Iteraciones\", iter_counter)\n",
    "    print(\"Mejora con respecto al método anterior:\", f\"{100 - iter_counter[0] / fuerza_bruta.intentos * 100 : .2f}\",\"%\")\n",
    "    continuo, _, _ = continuidad(res_dict)\n",
    "    print(\"Es continuo el resultado?\", \"si\" if continuo else \"no\")\n",
    "    return min_max\n",
    "\n",
    "# Ejecutar búsqueda\n",
    "min_val, max_val = buscar_min_max(True)\n",
    "print(\"Mínimo:\", min_val)\n",
    "print(\"Máximo:\", max_val)\n"
   ],
   "outputs": [
    {
     "name": "stdout",
     "output_type": "stream",
     "text": [
      "Iteraciones [199230]\n",
      "Mejora con respecto al método anterior:  95.01 %\n",
      "Es continuo el resultado? si\n",
      "Mínimo: -69\n",
      "Máximo: 77\n"
     ]
    }
   ],
   "execution_count": 51
  },
  {
   "metadata": {},
   "cell_type": "markdown",
   "source": "Con esta aproximación obtenemos una mejora del 45.1 % con respecto a la fuerza bruta eliminando la mitad de los calculos necesarios y manteniendo la continuidad de los resultados."
  },
  {
   "metadata": {},
   "cell_type": "markdown",
   "source": [
    "## Aproximación # 2:\n",
    "\n",
    "Podemos agregar memoria al algoritmo de búsqueda en profundidad para evitar recalcular ramas que ya se han calculado, de esta forma se puede mejorar la eficiencia del algoritmo.\n",
    "\n",
    "En este caso como conocemos las posiciones tanto de operadores como signos, podemos guardarlas en un diccionario para cada vez que se cumplan de nuevo ese patrón, podar la rama y evitar obtener el mismo valor.\n",
    "\n",
    "Esto conlleva a un problema, debido a que se pueden perder ramas que cumplan con ser números enteros pero al no llegar a su estado final no se guarda el resultado dando casos como por ejemplo:\n",
    "\n",
    "- Si se explora $1 + 2 * 3$ y se decide guardar la rama no se explorará $1 + 2 * 3 / 4$ que puede dar un número entero.\n",
    "\n"
   ]
  },
  {
   "metadata": {
    "ExecuteTime": {
     "end_time": "2025-03-05T04:04:50.460710Z",
     "start_time": "2025-03-05T04:04:50.363430Z"
    }
   },
   "cell_type": "code",
   "source": [
    "def dfs_memo(numeros, operadores, expresion, resultado_actual, usados_numeros, usados_operadores, min_max, iter_counter, res_dict, memo):\n",
    "    \"\"\"Búsqueda en profundidad con poda para encontrar solo el mínimo y máximo con memoización.\"\"\"\n",
    "    clave = (tuple(usados_numeros), tuple(usados_operadores))\n",
    "    if clave in memo:\n",
    "        return  # Evitar cálculos repetidos\n",
    "\n",
    "    if len(expresion) == 9:  # Si ya usamos 5 números y 4 operadores\n",
    "        if resultado_actual not in res_dict:\n",
    "            res_dict[resultado_actual] = [expresion]\n",
    "        else:\n",
    "            res_dict[resultado_actual].append(expresion)\n",
    "\n",
    "        min_max[0] = min(min_max[0], resultado_actual)  # Actualizar mínimo\n",
    "        min_max[1] = max(min_max[1], resultado_actual)  # Actualizar máximo\n",
    "        return\n",
    "\n",
    "    memo[clave] = True  # Guardar en memoización\n",
    "\n",
    "    for i, num in enumerate(numeros):\n",
    "        if i in usados_numeros:\n",
    "            continue  # Evita reutilizar números\n",
    "\n",
    "        for j, op in enumerate(operadores):\n",
    "            if j in usados_operadores:\n",
    "                continue  # Evita reutilizar operadores\n",
    "\n",
    "            nueva_expresion = f\"{expresion}{op}{num}\"\n",
    "            nuevo_resultado = evaluar_expresion(nueva_expresion)\n",
    "\n",
    "            iter_counter[0] += 1\n",
    "\n",
    "            if nuevo_resultado is not None:  # Poda: Solo continuar por la rama si es entero\n",
    "                dfs_memo(numeros, operadores, nueva_expresion, nuevo_resultado, usados_numeros | {i}, usados_operadores | {j}, min_max, iter_counter, res_dict, memo)\n",
    "\n",
    "def buscar_min_max_memo(print_results=False):\n",
    "    iter_counter = [0]\n",
    "    res_dict = {}\n",
    "    memo = {}  # Diccionario de memoización\n",
    "\n",
    "    \"\"\"Encuentra solo los valores mínimo y máximo posibles.\"\"\"\n",
    "    numeros = list(range(1, 10))  # Cifras del 1 al 9\n",
    "    operadores = ['+', '-', '*', '/']\n",
    "    min_max = [float('inf'), float('-inf')]  # Inicializar mínimo y máximo\n",
    "\n",
    "    for num_inicial in numeros:\n",
    "        dfs_memo(numeros, operadores, str(num_inicial), num_inicial, {numeros.index(num_inicial)}, set(), min_max, iter_counter, res_dict, memo)\n",
    "\n",
    "    if not print_results:\n",
    "        return min_max, iter_counter\n",
    "\n",
    "    print(\"Iteraciones\", iter_counter)\n",
    "    print(\"Mejora con respecto al método anterior:\", f\"{100 - iter_counter[0] / fuerza_bruta.intentos * 100 : .2f}\",\"%\")\n",
    "    continuo, _, _ = continuidad(res_dict)\n",
    "    print(\"Es continuo el resultado?\", \"si\" if continuo else \"no\")\n",
    "\n",
    "    return min_max\n",
    "\n",
    "# Ejecutar búsqueda\n",
    "min_val, max_val = buscar_min_max_memo(True)\n",
    "print(\"Mínimo:\", min_val)\n",
    "print(\"Máximo:\", max_val)\n"
   ],
   "outputs": [
    {
     "name": "stdout",
     "output_type": "stream",
     "text": [
      "Iteraciones [11751]\n",
      "Mejora con respecto al método anterior:  99.71 %\n",
      "Es continuo el resultado? no\n",
      "Mínimo: -69\n",
      "Máximo: 77\n"
     ]
    }
   ],
   "execution_count": 49
  },
  {
   "metadata": {},
   "cell_type": "markdown",
   "source": "Así en este algoritmo se pierde la continuidad de los resultados debido a la poda temprana de algunas ramas que pueden llegar a estos resultados por cumplir con patrones previamente descartados en la búsqueda. Más, sin embargo, se encuentran los máximos y mínimos de las soluciones"
  },
  {
   "metadata": {},
   "cell_type": "markdown",
   "source": "### Comparación de métodos heurísticos"
  },
  {
   "metadata": {},
   "cell_type": "markdown",
   "source": "Aunque una medida de tiempo no es lo mejor para comparar estos métodos se puede observar cual es más eficiente en términos de tiempo de ejecución."
  },
  {
   "metadata": {
    "ExecuteTime": {
     "end_time": "2025-03-05T04:12:39.298154Z",
     "start_time": "2025-03-05T04:08:08.933568Z"
    }
   },
   "cell_type": "code",
   "source": [
    "import time\n",
    "import matplotlib.pyplot as plt\n",
    "import numpy as np\n",
    "\n",
    "def time_test(func):\n",
    "    start = time.time()\n",
    "    func()\n",
    "    end = time.time()\n",
    "    return end - start\n",
    "\n",
    "brute_force_time = [time_test(lambda: fuerza_bruta.find_values()) for _ in range(10)]\n",
    "dfs_time = [time_test(buscar_min_max) for _ in range(10)]\n",
    "dfs_memo_time = [time_test(buscar_min_max_memo) for _ in range(10)]\n",
    "\n",
    "brute_mean, brute_std = np.mean(brute_force_time), np.std(brute_force_time)\n",
    "dfs_mean, dfs_std = np.mean(dfs_time), np.std(dfs_time)\n",
    "dfs_memo_mean, dfs_memo_std = np.mean(dfs_memo_time), np.std(dfs_memo_time)\n",
    "\n",
    "plt.bar(['Fuerza Bruta', 'DFS', 'DFS con memoización'], [brute_mean, dfs_mean, dfs_memo_mean], yerr=[brute_std, dfs_std, dfs_memo_std])\n",
    "plt.ylabel('Tiempo (s)')\n",
    "plt.title('Comparación de tiempos de ejecución')\n",
    "plt.show()\n"
   ],
   "outputs": [
    {
     "data": {
      "text/plain": [
       "<Figure size 640x480 with 1 Axes>"
      ],
      "image/png": "[encoded data removed]"
     },
     "metadata": {},
     "output_type": "display_data"
    }
   ],
   "execution_count": 58
  },
  {
   "metadata": {
    "ExecuteTime": {
     "end_time": "2025-03-05T03:50:43.361633Z",
     "start_time": "2025-03-05T03:50:43.280003Z"
    }
   },
   "cell_type": "code",
   "source": [
    "plt.bar(['DFS', 'DFS con memoización'], [dfs_mean, dfs_memo_mean], yerr=[dfs_std, dfs_memo_std])\n",
    "plt.ylabel('Tiempo (s)')\n",
    "plt.title('Comparación de tiempos de ejecución entre métodos heurísticos')\n",
    "plt.show()"
   ],
   "outputs": [
    {
     "data": {
      "text/plain": [
       "<Figure size 640x480 with 1 Axes>"
      ],
      "image/png": "[encoded data removed]"
     },
     "metadata": {},
     "output_type": "display_data"
    }
   ],
   "execution_count": 40
  },
  {
   "metadata": {
    "ExecuteTime": {
     "end_time": "2025-03-05T04:07:49.770460Z",
     "start_time": "2025-03-05T04:07:48.101720Z"
    }
   },
   "cell_type": "code",
   "source": [
    "plt.bar(['Fuerza Bruta', 'DFS', 'DFS con memoización'], [iteraciones_fuerza_bruta, buscar_min_max()[1][0], buscar_min_max_memo()[1][0]])\n",
    "plt.ylabel('Iteraciones')\n",
    "plt.title('Comparación de iteraciones')\n",
    "plt.show()"
   ],
   "outputs": [
    {
     "data": {
      "text/plain": [
       "<Figure size 640x480 with 1 Axes>"
      ],
      "image/png": "[encoded data removed]"
     },
     "metadata": {},
     "output_type": "display_data"
    }
   ],
   "execution_count": 57
  },
  {
   "metadata": {},
   "cell_type": "markdown",
   "source": "## Métodos metaheurísticos"
  },
  {
   "metadata": {},
   "cell_type": "markdown",
   "source": [
    "\n",
    "### Aproximación # 1:\n",
    "Algoritmo genético"
   ]
  },
  {
   "metadata": {
    "ExecuteTime": {
     "end_time": "2025-03-05T05:16:21.925978Z",
     "start_time": "2025-03-05T05:16:21.270863Z"
    }
   },
   "cell_type": "code",
   "source": [
    "import random\n",
    "from collections import namedtuple\n",
    "\n",
    "# Definir operadores disponibles\n",
    "OPS = ['+', '-', '*', '/']\n",
    "NUMBERS = list(range(1, 10))\n",
    "\n",
    "# Definir estructura de una expresión matemática\n",
    "Expression = namedtuple('Expression', ['expr', 'value'])\n",
    "\n",
    "# Evaluar una expresión matemáticamente\n",
    "def evaluar_expresion(expresion):\n",
    "    resultado = eval(expresion)\n",
    "    if len(list(set(expresion))) != 9:  # Verificar que no se repitan números\n",
    "        return None\n",
    "\n",
    "    # Verificamos que el resultado sea un entero\n",
    "    if isinstance(resultado, int) or (isinstance(resultado, float) and resultado.is_integer()):\n",
    "        return int(resultado)\n",
    "\n",
    "    return None\n",
    "\n",
    "# Generar una expresión aleatoria sin repetir números u operadores\n",
    "def generar_expresion():\n",
    "    numeros_disponibles = random.sample(NUMBERS, 5)  # Escoger 5 números sin repetir\n",
    "    operadores_disponibles = random.sample(OPS, 4)  # Escoger 4 operadores sin repetir\n",
    "\n",
    "    #Generamos la expresión\n",
    "    expr = str(numeros_disponibles[0])\n",
    "    for i in range(4):\n",
    "        expr += operadores_disponibles[i] + str(numeros_disponibles[i + 1])\n",
    "\n",
    "    #Se evalua y de lo contrario se genera una nueva hasta tener una expresión válida\n",
    "    value = evaluar_expresion(expr)\n",
    "    return Expression(expr, value) if value is not None else generar_expresion()\n",
    "\n",
    "# Selección de mejores individuos\n",
    "def seleccion(poblacion, top_n=10):\n",
    "    poblacion_valida = [expr for expr in poblacion if expr.value is not None]\n",
    "    # Seleccionamos a los mejores individuos organizando los valores, recordando que se busca el máximo y el mínimo\n",
    "    return sorted(poblacion_valida, key=lambda x: x.value)[:top_n] + sorted(poblacion_valida, key=lambda x: x.value)[-top_n:]\n",
    "\n",
    "# Cruce entre 3 expresiones\n",
    "def cruce(expr1, expr2, expr3):\n",
    "    # Combinamos las expresiones\n",
    "\n",
    "    nums1, ops1 = extraer_componentes(expr1.expr)\n",
    "    nums2, ops2 = extraer_componentes(expr2.expr)\n",
    "    nums3, ops3 = extraer_componentes(expr3.expr)\n",
    "\n",
    "    # Se combinan los números y operadores de las expresiones\n",
    "    nums1 = nums1[:2] + nums2[2:4] + nums3[4:]\n",
    "    ops1 = ops1[:2] + ops2[2:4] + ops3[4:]\n",
    "\n",
    "    nueva_expr = str(nums1[0])\n",
    "    for i in range(4):\n",
    "        nueva_expr += ops1[i] + str(nums1[i + 1])\n",
    "\n",
    "    nuevo_valor = evaluar_expresion(nueva_expr)\n",
    "    #Si el valor es invalido se retorna la primera expresión\n",
    "    return Expression(nueva_expr, nuevo_valor) if nuevo_valor is not None else expr1\n",
    "\n",
    "# Extraer números y operadores de una expresión\n",
    "def extraer_componentes(expr):\n",
    "    nums = [int(n) for n in expr if n.isdigit()]\n",
    "    ops = [o for o in expr if o in OPS]\n",
    "    return nums, ops\n",
    "\n",
    "# Mutación aleatoria de una expresión sin repetir números u operadores\n",
    "def mutacion(expr):\n",
    "    #La mutación la definimos como una reorganización aleatoria de los números y operadores\n",
    "    nums, ops = extraer_componentes(expr.expr)\n",
    "    random.shuffle(nums)\n",
    "    random.shuffle(ops)\n",
    "\n",
    "    nueva_expr = str(nums[0])\n",
    "    for i in range(4):\n",
    "        nueva_expr += ops[i] + str(nums[i + 1])\n",
    "\n",
    "    nuevo_valor = evaluar_expresion(nueva_expr)\n",
    "    #Se evalua la expresión y se retorna si es válida de lo contrario se retorna la expresión original\n",
    "    return Expression(nueva_expr, nuevo_valor) if nuevo_valor is not None else expr\n",
    "\n",
    "# Algoritmo genético\n",
    "def algoritmo_genetico(generaciones=100, poblacion_size=50):\n",
    "    poblacion = [generar_expresion() for _ in range(poblacion_size)]\n",
    "    for i in range(generaciones):\n",
    "        poblacion = seleccion(poblacion)\n",
    "        nueva_poblacion = []\n",
    "\n",
    "        # Conservamos algunos de los mejores individuos\n",
    "        nueva_poblacion.extend(sorted(poblacion, key=lambda x: x.value)[:2] + sorted(poblacion, key=lambda x: x.value)[-2:])\n",
    "\n",
    "        while len(nueva_poblacion) < poblacion_size:\n",
    "\n",
    "            p1, p2, p3 = random.sample(poblacion, 3)\n",
    "\n",
    "            hijo = cruce(p1, p2, p3)\n",
    "            if random.random() < 0.2:  # Probabilidad de mutación\n",
    "                hijo = mutacion(hijo)\n",
    "            nueva_poblacion.append(hijo)\n",
    "\n",
    "        poblacion = nueva_poblacion\n",
    "\n",
    "        if i % 25 == 0:\n",
    "            min_val, max_val = min(poblacion, key=lambda x: x.value), max(poblacion, key=lambda x: x.value)\n",
    "            print(\"Máximo y minimo de la población\", i, \":\", min_val.value, max_val.value)\n",
    "\n",
    "\n",
    "    min_val = min(poblacion, key=lambda x: x.value)\n",
    "    max_val = max(poblacion, key=lambda x: x.value)\n",
    "    return min_val, max_val\n",
    "\n",
    "# Ejecutar algoritmo\n",
    "total_generaciones = 50\n",
    "total_poblacion = 500\n",
    "min_expr, max_expr = algoritmo_genetico(total_generaciones, total_poblacion)\n",
    "\n",
    "print(f\"Mínimo encontrado: {min_expr.expr} = {min_expr.value}\")\n",
    "print(f\"Máximo encontrado: {max_expr.expr} = {max_expr.value}\")\n",
    "\n"
   ],
   "outputs": [
    {
     "name": "stdout",
     "output_type": "stream",
     "text": [
      "Máximo y minimo de la población 0 : -65 77\n",
      "Máximo y minimo de la población 25 : -65 77\n",
      "Mínimo encontrado: 5-8*9+6/3 = -65\n",
      "Máximo encontrado: 9*8+7-2/1 = 77\n"
     ]
    }
   ],
   "execution_count": 96
  },
  {
   "metadata": {},
   "cell_type": "markdown",
   "source": "En este caso se experimentan con varios valores de generaciones y total de población, los mejores resultados se encuentran a valores altos de población y pocas generaciones, teniendo menor efecto la cantidad de generaciones, ya que los algoritmos generadores y la segregación de los mejores individuos es más efectiva en la población inicial."
  },
  {
   "metadata": {
    "id": "eGDB4K6uk1iN"
   },
   "cell_type": "markdown",
   "source": "(*)Calcula la complejidad del algoritmo"
  },
  {
   "cell_type": "markdown",
   "metadata": {
    "id": "NhpTh_BPk1ms"
   },
   "source": [
    "\n",
    "\n",
    "Respuesta"
   ]
  },
  {
   "cell_type": "markdown",
   "metadata": {
    "id": "3M6QjTsSkmYe"
   },
   "source": [
    "Según el problema (y tenga sentido), diseña un juego de datos de entrada aleatorios"
   ]
  },
  {
   "cell_type": "markdown",
   "metadata": {
    "id": "Jc3_OlyNkvjZ"
   },
   "source": [
    "Respuesta"
   ]
  },
  {
   "cell_type": "code",
   "metadata": {
    "id": "sJ-N2etjkyWc"
   },
   "source": [],
   "execution_count": null,
   "outputs": []
  },
  {
   "cell_type": "markdown",
   "metadata": {
    "id": "zy5ZROmjlGo1"
   },
   "source": [
    "Aplica el algoritmo al juego de datos generado"
   ]
  },
  {
   "cell_type": "markdown",
   "metadata": {
    "id": "_Cmj-PVylMsa"
   },
   "source": [
    "Respuesta"
   ]
  },
  {
   "cell_type": "code",
   "metadata": {
    "id": "Jkx8GeiYlUz1"
   },
   "source": [],
   "execution_count": null,
   "outputs": []
  },
  {
   "cell_type": "markdown",
   "metadata": {
    "id": "eTFWUJQrtGcv"
   },
   "source": [
    "Enumera las referencias que has utilizado(si ha sido necesario) para llevar a cabo el trabajo"
   ]
  },
  {
   "cell_type": "markdown",
   "metadata": {
    "id": "YKQ_mRBttWsP"
   },
   "source": [
    "Respuesta"
   ]
  },
  {
   "cell_type": "markdown",
   "metadata": {
    "id": "kAkDPUyRtYyH"
   },
   "source": [
    "Describe brevemente las lineas de como crees que es posible avanzar en el estudio del problema. Ten en cuenta incluso posibles variaciones del problema y/o variaciones al alza del tamaño"
   ]
  },
  {
   "cell_type": "markdown",
   "metadata": {
    "id": "IE0uZmo-tZu-"
   },
   "source": [
    "Respuesta"
   ]
  }
 ]
}
