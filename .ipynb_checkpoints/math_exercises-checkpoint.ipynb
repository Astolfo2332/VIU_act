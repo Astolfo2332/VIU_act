{
 "cells": [
  {
   "metadata": {},
   "cell_type": "markdown",
   "source": [
    "\n",
    "<a href=\"https://githubtocolab.com/Astolfo2332/white_paper_LoRa/blob/main/math_exercises.ipynb\" target=\"_parent\\\">\n",
    "<img src=\"https://colab.research.google.com/assets/colab-badge.svg\" alt=\"Open in Colab\" > </a>\n"
   ],
   "id": "70885d33aadb3735"
  },
  {
   "metadata": {},
   "cell_type": "markdown",
   "source": [
    "<div style=\"display: flex; align-items: center;\">\n",
    "    <div>\n",
    "        <h2>Ejercicios evaluables</h2>\n",
    "        <h2>Miguel López</h2>\n",
    "        <h2>ID 1001014378</h2>\n",
    "    </div>\n",
    "    <img src=\"https://yt3.ggpht.com/-10IUL9wra6k/AAAAAAAAAAI/AAAAAAAAAAA/UOBLu1uYOOE/s900-c-k-no/photo.jpg\" alt=\"Image description\" width=\"200\" style=\"margin-left: 20px;\"/>\n",
    "</div>"
   ],
   "id": "b0038f90adbb9809"
  },
  {
   "metadata": {},
   "cell_type": "markdown",
   "source": [
    "## Solución\n",
    "\n",
    "### 1. a Implementa una función, determinante recursivo, que obtenga el determinante de una matriz cuadrada utilizando la definición recursiva de Laplace."
   ],
   "id": "92cee788d8bdc3d7"
  },
  {
   "metadata": {
    "jupyter": {
     "is_executing": true
    }
   },
   "cell_type": "code",
   "source": [
    "import  numpy as np\n",
    "\n",
    "def determinante_recursivo(matriz):\n",
    "    if matriz.shape[0] != matriz.shape[1]:\n",
    "        raise ValueError(\"La matriz no es cuadrada\")\n",
    "    if matriz.shape[0] == 1:\n",
    "        return matriz[0,0]\n",
    "    det = 0\n",
    "    for i in range(matriz.shape[0]):\n",
    "        det += (-1)**i * matriz[0,i] * determinante_recursivo(np.delete(np.delete(matriz, 0, 0), i, 1))\n",
    "    return det\n",
    "\n",
    "test = np.array([[1,2,3],[4,5,6],[7,8,9]])\n",
    "\n",
    "print(determinante_recursivo(test))"
   ],
   "id": "6c9f1ccae262dc81",
   "outputs": [],
   "execution_count": null
  }
 ],
 "metadata": {
  "kernelspec": {
   "display_name": "Python [conda env:base] *",
   "language": "python",
   "name": "conda-base-py"
  },
  "language_info": {
   "codemirror_mode": {
    "name": "ipython",
    "version": 2
   },
   "file_extension": ".py",
   "mimetype": "text/x-python",
   "name": "python",
   "nbconvert_exporter": "python",
   "pygments_lexer": "ipython2",
   "version": "2.7.6"
  }
 },
 "nbformat": 4,
 "nbformat_minor": 5
}
