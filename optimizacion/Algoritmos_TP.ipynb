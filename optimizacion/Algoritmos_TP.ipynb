{
 "nbformat": 4,
 "nbformat_minor": 0,
 "metadata": {
  "colab": {
   "provenance": []
  },
  "kernelspec": {
   "name": "python3",
   "display_name": "Python 3 (ipykernel)",
   "language": "python"
  }
 },
 "cells": [
  {
   "metadata": {},
   "cell_type": "markdown",
   "source": [
    "\n",
    "<a href=\"https://githubtocolab.com/Astolfo2332/VIU_act/blob/main/optimizacion/Algoritmos_TP.ipynb\" target=\"_parent\\\">\n",
    "<img src=\"https://colab.research.google.com/assets/colab-badge.svg\" alt=\"Open in Colab\" > </a>\n"
   ]
  },
  {
   "cell_type": "markdown",
   "metadata": {
    "id": "hVbXYX-RfPWh"
   },
   "source": [
    "# Algoritmos de optimización - Seminario<br>\n",
    "Nombre y Apellidos: Miguel López Vélez <br>\n",
    "Url: [Trabajo Práctico](https://github.com/Astolfo2332/VIU_act/blob/main/optimizacion/Algoritmos_TP.ipynb)<br>\n",
    "Problema:\n",
    "> 1. Sesiones de doblaje <br>\n",
    "> 2. Organizar los horarios de partidos de La Liga<br>\n",
    "> 3. Combinar cifras y operaciones\n",
    "\n",
    "Descripción del problema:\n",
    "\n",
    "- El problema consiste en analizar el siguiente problema y diseñar un algoritmo que lo resuelva.\n",
    "- Disponemos de las 9 cifras del 1 al 9 (excluimos el cero) y de los 4 signos básicos de las operaciones fundamentales: suma(+), resta(-), multiplicación(*) y división(/)\n",
    "- Debemos combinarlos alternativamente sin repetir ninguno de ellos para obtener una cantidad dada. Un ejemplo sería para obtener el 4:\n",
    "\n",
    "$$\n",
    "4+2-6/3*1 = 4\n",
    "$$\n",
    "\n",
    "Debe analizarse el problema para encontrar todos los valores enteros posibles planteando las siguientes cuestiones:\n",
    "- ¿Qué valor máximo y mínimo se pueden obtener según las condiciones del problema?\n",
    "- ¿Es posible encontrar todos los valores enteros posibles entre dicho mínimo y máximo?\n",
    "\n"
   ]
  },
  {
   "cell_type": "markdown",
   "metadata": {
    "id": "3_-exlrTgLd-"
   },
   "source": [
    "(*)¿Cuantas posibilidades hay sin tener en cuenta las restricciones?<br>\n",
    "\n",
    "\n",
    "\n",
    "¿Cuantas posibilidades hay teniendo en cuenta todas las restricciones.\n",
    "\n",
    "\n"
   ]
  },
  {
   "cell_type": "markdown",
   "metadata": {
    "id": "WfCUqJyKhPcw"
   },
   "source": [
    "Respuesta"
   ]
  },
  {
   "metadata": {},
   "cell_type": "markdown",
   "source": [
    "Inicialmente, debemos determinar las restricciones del problema, las cuales son las siguientes:\n",
    "- No se pueden repetir los números\n",
    "- No se pueden repetir los signos\n",
    "- Se deben alternar los números y los signos\n",
    "- Los resultados deben ser enteros\n",
    "\n",
    "De esta forma la cantidad de posibilidades se limitan por el número de signos, ya que solo podemos usar 4 a la vez limita el uso de los números a 5, y estos al no poder repetirse lo vuelve un problema de permutación, porque el orden no importa:\n",
    "\n",
    "$$\n",
    "P_{9,5} = \\frac{9!}{9!-5!} = 15120\n",
    "$$\n",
    "\n",
    "A esto se le debe multiplicar la cantidad de posibles combinaciones de signos sin repetir, lo cual es un problema de permutaciones de la forma:\n",
    "\n",
    "$$\n",
    "P_{4} = 4! = 24\n",
    "$$\n",
    "\n",
    "Dando como resultado un espacio de:\n",
    "\n",
    "$$\n",
    "15120 * 24 = 362880 posibilidades\n",
    "$$\n",
    "\n",
    "Ahora agregando la restricción de que el resultado debe ser un número entero, se debe analizar el rango de valores que se pueden obtener y evaluar si pertenecen o no al conjunto de enteros.\n"
   ]
  },
  {
   "cell_type": "markdown",
   "metadata": {
    "id": "dzynfVJahHoY"
   },
   "source": [
    "Modelo para el espacio de soluciones<br>\n",
    "(*) ¿Cual es la estructura de datos que mejor se adapta al problema? Argumentalo.(Es posible que hayas elegido una al principio y veas la necesidad de cambiar, argumentalo)\n",
    "\n",
    "Se puede implementar un diccionario para almacenar el valor de los resultados en la clave y que su valor sea una lista de expresiones que den como resultado dicho valor, facilitando la búsqueda de los valores enteros."
   ]
  },
  {
   "cell_type": "markdown",
   "metadata": {
    "id": "xFIJrOwKi2Ti"
   },
   "source": [
    "Respuesta"
   ]
  },
  {
   "cell_type": "markdown",
   "metadata": {
    "id": "7Z9U2W7bi-XS"
   },
   "source": [
    "Según el modelo para el espacio de soluciones<br>\n",
    "(*)¿Cual es la función objetivo?\n",
    "Estableciendo\n",
    "$$\n",
    "N = \\{1, 2, 3, 4, 5, 6, 7, 8, 9\\}\n",
    "$$\n",
    "\n",
    "y\n",
    "\n",
    "$$\n",
    "O = \\{+, -, *, /\\}\n",
    "$$\n",
    "\n",
    "$$\n",
    "f(N, O) = \\{x \\in \\mathbb{Z} \\ | \\ \\text{existe una combinación válida de } N \\text{ y } O \\text{ tal que } E(N, O) = x\\}\n",
    "$$\n",
    "(*)¿Es un problema de maximización o minimización?\n",
    "\n",
    "Ambos ya que debemos establecer el máximo y mínimo de la expresión dada."
   ]
  },
  {
   "cell_type": "markdown",
   "metadata": {
    "id": "rlnTYgY1j6I2"
   },
   "source": [
    "Diseña un algoritmo para resolver el problema por fuerza bruta"
   ]
  },
  {
   "cell_type": "markdown",
   "metadata": {
    "id": "70rDgxYXkC8r"
   },
   "source": [
    "Respuesta"
   ]
  },
  {
   "metadata": {},
   "cell_type": "markdown",
   "source": [
    "### Método # 1:\n",
    "\n",
    "Mediante fuerza bruta por generación y eliminación de expresiones."
   ]
  },
  {
   "metadata": {
    "ExecuteTime": {
     "end_time": "2025-02-11T15:42:19.428408Z",
     "start_time": "2025-02-11T15:42:04.051485Z"
    }
   },
   "cell_type": "code",
   "source": [
    "\n",
    "class Solution:\n",
    "    def __init__(self, problem:str, operations:list):\n",
    "        self.problem = list(problem)\n",
    "        self.operations = operations\n",
    "        self.rest_dict = {}\n",
    "        self.result = []\n",
    "        self.path = []\n",
    "        self.used = set()\n",
    "        self.used_op = []\n",
    "        self.intentos = 0\n",
    "\n",
    "    def backtrack(self):\n",
    "\n",
    "        if len(self.path) == 9:\n",
    "            path = \"\".join(self.path)\n",
    "            result = eval(path)\n",
    "            self.intentos += 1\n",
    "            # print(path, result)\n",
    "            if result.is_integer() and path not in self.result:\n",
    "                self.result.append(path)\n",
    "                if result not in self.rest_dict:\n",
    "                    self.rest_dict[result] = [path]\n",
    "                else:\n",
    "                    self.rest_dict[result].append(path)\n",
    "                return False\n",
    "\n",
    "\n",
    "        if len(self.path) % 2 == 0:\n",
    "            for num in self.problem:\n",
    "                if num in self.used:\n",
    "                    continue\n",
    "                self.path.append(num)\n",
    "                self.used.add(num)\n",
    "                self.problem.remove(num)\n",
    "                if self.backtrack():\n",
    "                    return True\n",
    "                self.path.remove(num)\n",
    "                self.used.remove(num)\n",
    "                self.problem.append(num)\n",
    "        else:\n",
    "            for op in self.operations:\n",
    "                if op in self.used_op:\n",
    "                    continue\n",
    "                self.path.append(op)\n",
    "                self.used_op.append(op)\n",
    "                self.operations.remove(op)\n",
    "                if self.backtrack():\n",
    "                    return True\n",
    "                self.path.remove(op)\n",
    "                self.operations.append(op)\n",
    "                self.used_op.remove(op)\n",
    "\n",
    "        return False\n",
    "\n",
    "    def find_values(self):\n",
    "        self.backtrack()\n",
    "        return self.result\n",
    "\n",
    "\n",
    "\n",
    "a = '123456789'\n",
    "operations = ['+', '-', '*', '/']\n",
    "\n",
    "\n",
    "fuerza_bruta = Solution(a, operations)\n",
    "\n",
    "a = fuerza_bruta.find_values()\n"
   ],
   "outputs": [],
   "execution_count": 1
  },
  {
   "metadata": {
    "ExecuteTime": {
     "end_time": "2025-02-11T15:42:19.443366Z",
     "start_time": "2025-02-11T15:42:19.431920Z"
    }
   },
   "cell_type": "code",
   "source": [
    "def continuidad(res_dict):\n",
    "    min_res = min(res_dict.keys())\n",
    "    max_res = max(res_dict.keys())\n",
    "    for i in range(int(min_res), int(max_res)+1):\n",
    "        if i not in res_dict:\n",
    "            return False, min_res, max_res\n",
    "    return True, min_res, max_res"
   ],
   "outputs": [],
   "execution_count": 2
  },
  {
   "metadata": {
    "ExecuteTime": {
     "end_time": "2025-02-11T15:42:19.642957Z",
     "start_time": "2025-02-11T15:42:19.629440Z"
    }
   },
   "cell_type": "code",
   "source": [
    "\n",
    "continuo, min_res, max_res = continuidad(fuerza_bruta.rest_dict)\n",
    "\n",
    "print(\"Mínimo:\", min_res)\n",
    "print(\"Máximo:\", max_res)\n",
    "print(\"Es continuo el resultado?\", \"si\" if continuo else \"no\")\n"
   ],
   "outputs": [
    {
     "name": "stdout",
     "output_type": "stream",
     "text": [
      "Mínimo: -69.0\n",
      "Máximo: 77.0\n",
      "Es continuo el resultado? si\n"
     ]
    }
   ],
   "execution_count": 3
  },
  {
   "metadata": {},
   "cell_type": "markdown",
   "source": [
    "### Método # 2:\n",
    "\n",
    "De una manera más eficiente podemos generar todas las posibles permutaciones del sistema de antemano y a coste de memoria se pueden calcular más rápido que el método anterior."
   ]
  },
  {
   "metadata": {
    "id": "38c-7-ejhJmA",
    "ExecuteTime": {
     "end_time": "2025-02-11T15:42:22.481491Z",
     "start_time": "2025-02-11T15:42:19.659510Z"
    }
   },
   "cell_type": "code",
   "source": [
    "from itertools import permutations\n",
    "\n",
    "res_dict = {}\n",
    "\n",
    "def eval_expresssion(exp, res_dict):\n",
    "    result = eval(exp)\n",
    "    if result.is_integer():\n",
    "        if result in res_dict:\n",
    "            res_dict[result].append(exp)\n",
    "        else:\n",
    "            res_dict[result] = [exp]\n",
    "    return res_dict\n",
    "\n",
    "def get_expressions(res_dict):\n",
    "    #Generamos las permutaciones de numeros\n",
    "    for nums in permutations('123456789', 5):\n",
    "        #Generamos las permutaciones de operaciones\n",
    "        for ops in permutations('+-*/', 4):\n",
    "            #Unimos los números y las operaciones, recordemos que se pone el número adicional al final\n",
    "            expression = ''.join([f'{nums[i]}{ops[i]}' for i in range(4)]) + nums[4]\n",
    "            #Se evalua el valor de la expresión\n",
    "            res_dict = eval_expresssion(expression, res_dict)\n",
    "    return res_dict\n",
    "\n",
    "res_dict = get_expressions(res_dict)\n"
   ],
   "outputs": [],
   "execution_count": 4
  },
  {
   "metadata": {
    "ExecuteTime": {
     "end_time": "2025-02-11T15:42:22.511945Z",
     "start_time": "2025-02-11T15:42:22.498948Z"
    }
   },
   "cell_type": "code",
   "source": [
    "continuo, min_res, max_res = continuidad(res_dict)\n",
    "\n",
    "print(\"Mínimo:\", min_res)\n",
    "print(\"Máximo:\", max_res)\n",
    "print(\"Es continuo el resultado?\", \"si\" if continuo else \"no\")"
   ],
   "outputs": [
    {
     "name": "stdout",
     "output_type": "stream",
     "text": [
      "Mínimo: -69.0\n",
      "Máximo: 77.0\n",
      "Es continuo el resultado? si\n"
     ]
    }
   ],
   "execution_count": 5
  },
  {
   "cell_type": "markdown",
   "metadata": {
    "id": "tgrnsC2nkFa8"
   },
   "source": [
    "Calcula la complejidad del algoritmo por fuerza bruta"
   ]
  },
  {
   "cell_type": "markdown",
   "metadata": {
    "id": "9eUd3xwckP68"
   },
   "source": [
    "Respuesta"
   ]
  },
  {
   "metadata": {},
   "cell_type": "markdown",
   "source": [
    "En este caso la complejidad es dada por el número de permutaciones de los números y las operaciones, si lo definimos como $m$ y $n$ respectivamente, y sabemos que la permutación esta definida como:\n",
    "\n",
    "$$\n",
    "P_{n,k} = \\frac{n!}{(n-k)!}\n",
    "$$\n",
    "\n",
    "Si los valores de $n$ tienden a $\\infty$ la complejidad del algoritmo es del orden factorial de $n$ o $m$, así es igual a $O(n!m!)$."
   ]
  },
  {
   "cell_type": "markdown",
   "metadata": {
    "id": "txbrmLmskReM"
   },
   "source": [
    "(*)Diseña un algoritmo que mejore la complejidad del algortimo por fuerza bruta. Argumenta porque crees que mejora el algoritmo por fuerza bruta"
   ]
  },
  {
   "cell_type": "markdown",
   "metadata": {
    "id": "hLrVwt5QkZPD"
   },
   "source": [
    "Respuesta\n",
    "\n",
    "### Aproximación # 1:\n",
    "\n",
    "Solución por medio de ramificación y poda, con restricciones tanto para números enteros o que su mayor o menor valor de expresión no sea mayor a un valor ya encontrado.\n",
    "\n",
    "En este caso se utiliza el backtracking con reglas específicas para determinar en estados iniciales si el numero no será entero, descartando algunos casos y en los casos donde exista la posibilidad de ser entero aplicando estos valores.\n",
    "\n",
    "\n"
   ]
  },
  {
   "metadata": {},
   "cell_type": "code",
   "outputs": [],
   "execution_count": null,
   "source": [
    "\n",
    "from itertools import permutations\n",
    "\n",
    "def evaluar_expresion(expresion):\n",
    "    \"\"\"Evalúa la expresión y retorna el resultado si es entero, None si no lo es.\"\"\"\n",
    "    try:\n",
    "        resultado = eval(expresion)\n",
    "        return int(resultado) if resultado == int(resultado) else None\n",
    "    except ZeroDivisionError:\n",
    "        return None  # Ignorar divisiones por cero\n",
    "\n",
    "def dfs(numeros, operadores, expresion, resultado_actual, usados_numeros, usados_operadores, min_max):\n",
    "    \"\"\"Búsqueda en profundidad con poda para encontrar solo el mínimo y máximo.\"\"\"\n",
    "    if len(usados_numeros) == 9:  # Si ya usamos los 9 números\n",
    "        if resultado_actual is not None:\n",
    "            min_max[0] = min(min_max[0], resultado_actual)  # Actualizar mínimo\n",
    "            min_max[1] = max(min_max[1], resultado_actual)  # Actualizar máximo\n",
    "        return\n",
    "\n",
    "    for i, num in enumerate(numeros):\n",
    "        if i in usados_numeros:\n",
    "            continue  # Evita reutilizar números\n",
    "\n",
    "        for j, op in enumerate(operadores):\n",
    "            if j in usados_operadores:\n",
    "                continue  # Evita reutilizar operadores\n",
    "\n",
    "            nueva_expresion = f\"{expresion}{op}{num}\"\n",
    "            nuevo_resultado = evaluar_expresion(nueva_expresion)\n",
    "\n",
    "            if nuevo_resultado is not None:  # Poda: Solo continuar si es entero\n",
    "                dfs(numeros, operadores, nueva_expresion, nuevo_resultado, usados_numeros | {i}, usados_operadores | {j}, min_max)\n",
    "\n",
    "def buscar_min_max():\n",
    "    \"\"\"Encuentra solo los valores mínimo y máximo posibles.\"\"\"\n",
    "    numeros = list(range(1, 10))  # Cifras del 1 al 9\n",
    "    operadores = ['+', '-', '*', '/']\n",
    "    min_max = [float('inf'), float('-inf')]  # Inicializar mínimo y máximo\n",
    "\n",
    "    for num_inicial in numeros:\n",
    "        dfs(numeros, operadores, str(num_inicial), num_inicial, {numeros.index(num_inicial)}, set(), min_max)\n",
    "\n",
    "    return min_max\n",
    "\n",
    "# Ejecutar búsqueda\n",
    "min_val, max_val = buscar_min_max()\n",
    "print(\"Mínimo:\", min_val)\n",
    "print(\"Máximo:\", max_val)\n"
   ]
  },
  {
   "metadata": {
    "ExecuteTime": {
     "end_time": "2025-02-11T15:42:22.542604Z",
     "start_time": "2025-02-11T15:42:22.529063Z"
    }
   },
   "cell_type": "code",
   "source": [
    "import random\n",
    "test_ecu = random.sample(res_dict[max_res], 20)\n",
    "min_test = random.sample(res_dict[min_res], 10)\n",
    "\n",
    "other_test = random.sample(list(res_dict.keys()), 20)\n",
    "\n",
    "other_test = [res_dict[a][0] for a in other_test]\n",
    "\n",
    "other_test = [a[:i] for i in [3, 5, 7] for a in other_test]\n",
    "\n",
    "test_ecu = [a[:i] for i in [3, 5, 7] for a in test_ecu]\n",
    "\n",
    "min_test = [a[:i] for i in [3, 5, 7] for a in min_test]\n"
   ],
   "outputs": [],
   "execution_count": 6
  },
  {
   "metadata": {
    "ExecuteTime": {
     "end_time": "2025-02-11T15:42:22.572452Z",
     "start_time": "2025-02-11T15:42:22.558424Z"
    }
   },
   "cell_type": "code",
   "source": [
    "import re\n",
    "pattern = r\"\\d+/\\d+\"\n",
    "\n",
    "def cost_func(path, numbers_available):\n",
    "    total_path = ''.join(path)\n",
    "    n_len = 10 - len(path)\n",
    "\n",
    "    if len(path) % 2 == 1:\n",
    "        current_val = eval(total_path)\n",
    "        if isinstance(current_val, float):\n",
    "            is_int = current_val.is_integer()\n",
    "        else:\n",
    "            is_int = True\n",
    "        #Valoración alta en caso de que no sea entero y no sea posible corregirlo\n",
    "        if not is_int and \"*\" in path and \"/\" in path:\n",
    "            return float(\"-inf\")\n",
    "        #Valoración baja en caso de que no sea entero y sea posible corregirlo\n",
    "\n",
    "        if \"/\" in path and not is_int:\n",
    "            div = re.findall(pattern, total_path)[0]\n",
    "            div = div.split(\"/\")[1]\n",
    "            poss_mult = [a for a in numbers_available if int(a) % int(div) == 0]\n",
    "            if len(poss_mult) == 0:\n",
    "                return float(\"-inf\")\n",
    "\n",
    "            poss_mult = sorted(poss_mult, reverse=True)\n",
    "\n",
    "            return eval(total_path + \"*\" + poss_mult[0]) * n_len\n",
    "\n",
    "\n",
    "\n",
    "        #Se valora si el numero es entero y cual es su posible mayor valor teniendo en cuenta los valores disponibles\n",
    "        numbers_sorted = sorted(numbers_available)\n",
    "        numbers_sorted_inv = sorted(numbers_available, reverse=True)\n",
    "        if \"-\" not in path:\n",
    "            return eval(total_path + \"-\" + numbers_sorted[0]) * n_len\n",
    "        if \"+\" not in path:\n",
    "            return eval(total_path + \"+\" + numbers_sorted_inv[0]) * n_len\n",
    "        if \"*\" not in path:\n",
    "            return eval(total_path + \"*\" + numbers_sorted_inv[0]) * n_len\n",
    "        if \"/\" not in path:\n",
    "            return eval(total_path + \"/\" + numbers_sorted[0]) * n_len\n",
    "\n",
    "    else:\n",
    "        cost_func(path[:-1], numbers_available)\n",
    "\n",
    "\n",
    "\n",
    "numbers = '123456789'\n",
    "\n",
    "max_paths = []\n",
    "other_paths = []\n",
    "min_paths = []\n",
    "\n",
    "for i in test_ecu:\n",
    "    max_paths.append(cost_func(list(i), [k for k in numbers if k not in i]))\n",
    "\n",
    "for i in other_test:\n",
    "    other_paths.append(cost_func(list(i), [k for k in numbers if k not in i]))\n",
    "\n",
    "for i in min_test:\n",
    "    min_paths.append(cost_func(list(i), [k for k in numbers if k not in i]))"
   ],
   "outputs": [],
   "execution_count": 7
  },
  {
   "metadata": {
    "ExecuteTime": {
     "end_time": "2025-02-11T15:42:23.160194Z",
     "start_time": "2025-02-11T15:42:22.588971Z"
    }
   },
   "cell_type": "code",
   "source": [
    "import matplotlib.pyplot as plt\n",
    "\n",
    "plt.figure(figsize=(10, 5))\n",
    "plt.plot(max_paths, label=\"Max Paths\")\n",
    "plt.plot(other_paths, label=\"Other Paths\")\n",
    "plt.plot(min_paths, label=\"Min Paths\")\n",
    "plt.legend()\n",
    "plt.show()"
   ],
   "outputs": [
    {
     "data": {
      "text/plain": [
       "<Figure size 1000x500 with 1 Axes>"
      ],
      "image/png": "[encoded data removed]"
     },
     "metadata": {},
     "output_type": "display_data"
    }
   ],
   "execution_count": 8
  },
  {
   "metadata": {
    "ExecuteTime": {
     "end_time": "2025-02-11T15:42:23.190934Z",
     "start_time": "2025-02-11T15:42:23.176425Z"
    }
   },
   "cell_type": "code",
   "source": "",
   "outputs": [],
   "execution_count": null
  },
  {
   "metadata": {
    "ExecuteTime": {
     "end_time": "2025-02-11T16:19:03.664837Z",
     "start_time": "2025-02-11T16:19:03.641781Z"
    }
   },
   "cell_type": "code",
   "source": [
    "\n",
    "class Solution:\n",
    "    def __init__(self, problem:str, operations:list):\n",
    "        self.problem = list(problem)\n",
    "        self.operations = operations\n",
    "        self.rest_dict = {}\n",
    "        self.cache_data = set()\n",
    "        self.result = []\n",
    "        self.pattern = r\"\\d+/\\d+\"\n",
    "        self.possible_mul = []\n",
    "        self.path = []\n",
    "        self.used = set()\n",
    "        self.used_op = []\n",
    "        self.intentos = 0\n",
    "\n",
    "    def backtrack(self):\n",
    "\n",
    "        if len(self.path) == 9:\n",
    "            path = \"\".join(self.path)\n",
    "            result = eval(path)\n",
    "            self.intentos += 1\n",
    "            # print(path, result)\n",
    "            if result.is_integer() and path not in self.result:\n",
    "                self.result.append(path)\n",
    "                if result not in self.rest_dict:\n",
    "                    self.rest_dict[result] = [path]\n",
    "                else:\n",
    "                    self.rest_dict[result].append(path)\n",
    "                return True\n",
    "\n",
    "        if len(self.path) % 2 == 1 and len(self.path) > 1:\n",
    "\n",
    "            coste = self.cost_func(self.path, self.problem)\n",
    "            print(coste, self.path)\n",
    "            if coste < 34:\n",
    "                return False\n",
    "\n",
    "\n",
    "        if len(self.path) % 2 == 0:\n",
    "            for num in self.problem:\n",
    "                if num in self.used:\n",
    "                    continue\n",
    "                self.path.append(num)\n",
    "                self.used.add(num)\n",
    "                self.problem.remove(num)\n",
    "                if self.backtrack():\n",
    "                    return True\n",
    "                self.path.remove(num)\n",
    "                self.used.remove(num)\n",
    "                self.problem.append(num)\n",
    "        else:\n",
    "            for op in self.operations:\n",
    "                if op in self.used_op:\n",
    "                    continue\n",
    "                self.path.append(op)\n",
    "                self.used_op.append(op)\n",
    "                self.operations.remove(op)\n",
    "                if self.backtrack():\n",
    "                    return True\n",
    "                self.path.remove(op)\n",
    "                self.operations.append(op)\n",
    "                self.used_op.remove(op)\n",
    "\n",
    "        return False\n",
    "\n",
    "    def cost_func(self, path, numbers_available):\n",
    "        total_path = ''.join(path)\n",
    "        n_len = 10 - len(path)\n",
    "\n",
    "        if len(path) % 2 == 1:\n",
    "            current_val = eval(total_path)\n",
    "            if isinstance(current_val, float):\n",
    "                is_int = current_val.is_integer()\n",
    "            else:\n",
    "                is_int = True\n",
    "            #Valoración alta en caso de que no sea entero y no sea posible corregirlo\n",
    "            if not is_int and \"*\" in path and \"/\" in path:\n",
    "                return float(\"-inf\")\n",
    "            #Valoración baja en caso de que no sea entero y sea posible corregirlo\n",
    "\n",
    "            if \"/\" in path and not is_int:\n",
    "                div = re.findall(self.pattern, total_path)[0]\n",
    "                div = div.split(\"/\")[1]\n",
    "                poss_mult = [a for a in numbers_available if int(a) % int(div) == 0]\n",
    "                if len(poss_mult) == 0:\n",
    "                    return float(\"-inf\")\n",
    "\n",
    "                poss_mult = sorted(poss_mult, reverse=True)\n",
    "\n",
    "                return eval(total_path + \"*\" + poss_mult[0]) * n_len\n",
    "\n",
    "\n",
    "            #Se valora si el numero es entero y cual es su posible mayor valor teniendo en cuenta los valores disponibles\n",
    "            numbers_sorted = sorted(numbers_available)\n",
    "            numbers_sorted_inv = sorted(numbers_available, reverse=True)\n",
    "            if \"-\" not in path:\n",
    "                return eval(total_path + \"-\" + numbers_sorted[0]) * n_len\n",
    "            if \"+\" not in path:\n",
    "                return eval(total_path + \"+\" + numbers_sorted_inv[0]) * n_len\n",
    "            if \"*\" not in path:\n",
    "                return eval(total_path + \"*\" + numbers_sorted_inv[0]) * n_len\n",
    "            if \"/\" not in path:\n",
    "                return eval(total_path + \"/\" + numbers_sorted[0]) * n_len\n",
    "\n",
    "        else:\n",
    "            cost_func(path[:-1], numbers_available)\n",
    "\n",
    "    def find_values(self):\n",
    "        self.backtrack()\n",
    "        return self.result\n",
    "\n",
    "\n",
    "\n",
    "\n",
    "\n",
    "a = '123456789'\n",
    "operations = ['+', '-', '*', '/']\n",
    "\n",
    "\n",
    "sol = Solution(a, operations)\n",
    "\n",
    "a = sol.find_values()\n",
    "\n",
    "\n"
   ],
   "outputs": [
    {
     "name": "stdout",
     "output_type": "stream",
     "text": [
      "0 ['1', '+', '2']\n",
      "21 ['1', '+', '4']\n",
      "35 ['1', '+', '6']\n",
      "-100 ['1', '+', '6', '-', '3']\n",
      "-280 ['1', '+', '6', '-', '7']\n",
      "-325 ['1', '+', '6', '-', '9']\n",
      "-145 ['1', '+', '6', '-', '4']\n",
      "-280 ['1', '+', '6', '-', '7']\n",
      "-145 ['1', '+', '6', '-', '4']\n",
      "-145 ['1', '+', '6', '-', '4']\n",
      "-inf ['1', '+', '6', '/', '5']\n",
      "5.0 ['1', '+', '6', '/', '2']\n",
      "-inf ['1', '+', '6', '/', '9']\n",
      "65.0 ['1', '+', '6', '/', '4']\n",
      "33.0 ['1', '+', '6', '/', '4', '*', '8']\n",
      "-inf ['1', '+', '6', '/', '4', '*', '7']\n",
      "3.0 ['1', '+', '6', '/', '4', '*', '2']\n",
      "33.0 ['1', '+', '6', '/', '4', '*', '8']\n",
      "3.0 ['1', '+', '6', '/', '4', '*', '2']\n",
      "3.0 ['1', '+', '6', '/', '4', '*', '2']\n",
      "-inf ['1', '+', '6', '/', '4', '*', '3']\n",
      "-inf ['1', '+', '6', '/', '4', '*', '9']\n",
      "33.0 ['1', '+', '6', '/', '4', '*', '8']\n",
      "-inf ['1', '+', '6', '/', '4', '*', '3']\n",
      "33.0 ['1', '+', '6', '/', '4', '*', '8']\n",
      "33.0 ['1', '+', '6', '/', '4', '*', '8']\n",
      "5.0 ['1', '+', '6', '/', '3']\n",
      "65.0 ['1', '+', '6', '/', '4']\n",
      "-112.5 ['1', '+', '6', '/', '4', '-', '5']\n",
      "-40.5 ['1', '+', '6', '/', '4', '-', '2']\n",
      "-inf ['1', '+', '6', '/', '4', '-', '8']\n",
      "-112.5 ['1', '+', '6', '/', '4', '-', '5']\n",
      "-inf ['1', '+', '6', '/', '4', '-', '8']\n",
      "-inf ['1', '+', '6', '/', '4', '-', '8']\n",
      "-160.5 ['1', '+', '6', '/', '4', '-', '7']\n",
      "-64.5 ['1', '+', '6', '/', '4', '-', '3']\n",
      "-112.5 ['1', '+', '6', '/', '4', '-', '5']\n",
      "-160.5 ['1', '+', '6', '/', '4', '-', '7']\n",
      "-112.5 ['1', '+', '6', '/', '4', '-', '5']\n",
      "-112.5 ['1', '+', '6', '/', '4', '-', '5']\n",
      "65.0 ['1', '+', '6', '/', '4']\n",
      "-inf ['1', '+', '6', '/', '4', '*', '9']\n",
      "33.0 ['1', '+', '6', '/', '4', '*', '8']\n",
      "-inf ['1', '+', '6', '/', '4', '*', '7']\n",
      "-inf ['1', '+', '6', '/', '4', '*', '9']\n",
      "-inf ['1', '+', '6', '/', '4', '*', '7']\n",
      "-inf ['1', '+', '6', '/', '4', '*', '7']\n",
      "3.0 ['1', '+', '6', '/', '4', '*', '2']\n",
      "-inf ['1', '+', '6', '/', '4', '*', '5']\n",
      "-inf ['1', '+', '6', '/', '4', '*', '9']\n",
      "3.0 ['1', '+', '6', '/', '4', '*', '2']\n",
      "-inf ['1', '+', '6', '/', '4', '*', '9']\n",
      "-inf ['1', '+', '6', '/', '4', '*', '9']\n",
      "5.0 ['1', '+', '6', '/', '3']\n",
      "-inf ['1', '+', '6', '/', '7']\n",
      "5.0 ['1', '+', '6', '/', '2']\n",
      "65.0 ['1', '+', '6', '/', '4']\n",
      "-inf ['1', '+', '6', '/', '4', '-', '8']\n",
      "-208.5 ['1', '+', '6', '/', '4', '-', '9']\n",
      "-160.5 ['1', '+', '6', '/', '4', '-', '7']\n",
      "-inf ['1', '+', '6', '/', '4', '-', '8']\n",
      "-160.5 ['1', '+', '6', '/', '4', '-', '7']\n",
      "-160.5 ['1', '+', '6', '/', '4', '-', '7']\n",
      "-112.5 ['1', '+', '6', '/', '4', '-', '5']\n",
      "-40.5 ['1', '+', '6', '/', '4', '-', '2']\n",
      "-inf ['1', '+', '6', '/', '4', '-', '8']\n",
      "-112.5 ['1', '+', '6', '/', '4', '-', '5']\n",
      "-inf ['1', '+', '6', '/', '4', '-', '8']\n",
      "-inf ['1', '+', '6', '/', '4', '-', '8']\n",
      "-inf ['1', '+', '6', '/', '5']\n",
      "65.0 ['1', '+', '6', '/', '4']\n",
      "-inf ['1', '+', '6', '/', '4', '*', '3']\n",
      "-inf ['1', '+', '6', '/', '4', '*', '7']\n",
      "33.0 ['1', '+', '6', '/', '4', '*', '8']\n",
      "-inf ['1', '+', '6', '/', '4', '*', '3']\n",
      "33.0 ['1', '+', '6', '/', '4', '*', '8']\n",
      "33.0 ['1', '+', '6', '/', '4', '*', '8']\n",
      "-inf ['1', '+', '6', '/', '4', '*', '9']\n",
      "-inf ['1', '+', '6', '/', '4', '*', '5']\n",
      "-inf ['1', '+', '6', '/', '4', '*', '3']\n",
      "-inf ['1', '+', '6', '/', '4', '*', '9']\n",
      "-inf ['1', '+', '6', '/', '4', '*', '3']\n",
      "-inf ['1', '+', '6', '/', '4', '*', '3']\n",
      "65.0 ['1', '+', '6', '/', '4']\n",
      "-40.5 ['1', '+', '6', '/', '4', '-', '2']\n",
      "-inf ['1', '+', '6', '/', '4', '-', '8']\n",
      "-208.5 ['1', '+', '6', '/', '4', '-', '9']\n",
      "-40.5 ['1', '+', '6', '/', '4', '-', '2']\n",
      "-208.5 ['1', '+', '6', '/', '4', '-', '9']\n",
      "-208.5 ['1', '+', '6', '/', '4', '-', '9']\n",
      "-160.5 ['1', '+', '6', '/', '4', '-', '7']\n",
      "-64.5 ['1', '+', '6', '/', '4', '-', '3']\n",
      "-40.5 ['1', '+', '6', '/', '4', '-', '2']\n",
      "-160.5 ['1', '+', '6', '/', '4', '-', '7']\n",
      "-40.5 ['1', '+', '6', '/', '4', '-', '2']\n",
      "-40.5 ['1', '+', '6', '/', '4', '-', '2']\n",
      "14 ['1', '+', '3']\n",
      "0 ['1', '+', '2']\n",
      "35 ['1', '+', '6']\n",
      "145 ['1', '+', '6', '*', '5']\n",
      "81.0 ['1', '+', '6', '*', '5', '-', '8']\n",
      "-inf ['1', '+', '6', '*', '5', '-', '8', '/', '9']\n"
     ]
    }
   ],
   "execution_count": 44
  },
  {
   "metadata": {
    "ExecuteTime": {
     "end_time": "2025-02-11T16:19:08.574898Z",
     "start_time": "2025-02-11T16:19:08.562373Z"
    }
   },
   "cell_type": "code",
   "source": "sol.rest_dict",
   "outputs": [
    {
     "data": {
      "text/plain": [
       "{29.0: ['1+6*5-8/4']}"
      ]
     },
     "execution_count": 45,
     "metadata": {},
     "output_type": "execute_result"
    }
   ],
   "execution_count": 45
  },
  {
   "metadata": {
    "ExecuteTime": {
     "end_time": "2025-02-11T16:05:08.731472Z",
     "start_time": "2025-02-11T16:05:08.725899Z"
    }
   },
   "cell_type": "code",
   "source": "min(sol.rest_dict.keys()), max(sol.rest_dict.keys())",
   "outputs": [
    {
     "data": {
      "text/plain": [
       "(-69.0, 77.0)"
      ]
     },
     "execution_count": 32,
     "metadata": {},
     "output_type": "execute_result"
    }
   ],
   "execution_count": 32
  },
  {
   "metadata": {},
   "cell_type": "markdown",
   "source": "## Purga"
  },
  {
   "metadata": {},
   "cell_type": "code",
   "outputs": [],
   "execution_count": null,
   "source": [
    "\n",
    "import re\n",
    "\n",
    "class Solution:\n",
    "    def __init__(self, problem:str, operations:list):\n",
    "        self.problem = list(problem)\n",
    "        self.operations = operations\n",
    "        self.rest_dict = {}\n",
    "        self.cache_data = set()\n",
    "        self.result = []\n",
    "        self.pattern = r\"\\d+/\\d+\"\n",
    "        self.possible_mul = []\n",
    "        self.path = []\n",
    "        self.used = set()\n",
    "        self.used_op = []\n",
    "        self.intentos = 0\n",
    "\n",
    "    def backtrack(self):\n",
    "\n",
    "        # sanity = self.sanity_check()\n",
    "        # if not sanity:\n",
    "        #     return False\n",
    "\n",
    "        if len(self.path) == 9:\n",
    "            path = \"\".join(self.path)\n",
    "            result = eval(path)\n",
    "            self.intentos += 1\n",
    "            # print(path, result)\n",
    "            if result.is_integer() and path not in self.result:\n",
    "                self.result.append(path)\n",
    "                if result not in self.rest_dict:\n",
    "                    self.rest_dict[result] = [path]\n",
    "                else:\n",
    "                    self.rest_dict[result].append(path)\n",
    "                return True\n",
    "\n",
    "\n",
    "        if len(self.path) % 2 == 0:\n",
    "            for num in list(self.problem):\n",
    "                if num in self.used:\n",
    "                    continue\n",
    "                self.path.append(num)\n",
    "                self.used.add(num)\n",
    "                self.problem.remove(num)\n",
    "                if self.backtrack():\n",
    "                    return True\n",
    "                self.path.remove(num)\n",
    "                self.used.remove(num)\n",
    "                self.problem.append(num)\n",
    "        else:\n",
    "            for op in list(self.operations):\n",
    "                if op in self.used_op:\n",
    "                    continue\n",
    "                self.path.append(op)\n",
    "                self.used_op.append(op)\n",
    "                self.operations.remove(op)\n",
    "                if self.backtrack():\n",
    "                    return True\n",
    "                self.path.remove(op)\n",
    "                self.operations.append(op)\n",
    "                self.used_op.remove(op)\n",
    "\n",
    "        return False\n",
    "\n",
    "\n",
    "    def sanity_check(self):\n",
    "        #Check para ver si es un entero y posee la división\n",
    "\n",
    "        if len(self.path) == 9 and self.path in self.result:\n",
    "            return False\n",
    "\n",
    "        if len(self.path) == 0:\n",
    "            return True\n",
    "\n",
    "        if self.path[-1].isdigit() and \"/\" in self.path:\n",
    "            if not eval(\"\".join(self.path)).is_integer() and \"*\" in self.path and len(self.path) == 9:\n",
    "                return False\n",
    "\n",
    "            div = re.findall(self.pattern, ''.join(self.path))[0]\n",
    "            div = div.split(\"/\")[1]\n",
    "            #Evaluamos los multiplos que vuelvan entero el resultado\n",
    "            poss_mult = [a for a in self.problem if int(a) % int(div) == 0]\n",
    "\n",
    "            if len(poss_mult) == 0:\n",
    "                return False\n",
    "\n",
    "            # #Procesamos los multiplos para obtener el resultado que no este guardado\n",
    "            poss_mult = [str(a) for a in poss_mult]\n",
    "            join_path = ''.join(self.path)\n",
    "            poss_mult = [join_path + \"*\" + a for a in poss_mult]\n",
    "            poss_mult = [a for a in poss_mult if a not in self.result]\n",
    "\n",
    "            if len(poss_mult) == 0:\n",
    "                return False\n",
    "\n",
    "\n",
    "            return True\n",
    "\n",
    "        if len(self.path) == 9 and eval(\"\".join(self.path)) in self.rest_dict.keys():\n",
    "            return False\n",
    "\n",
    "        return True\n",
    "\n",
    "    def find_values(self):\n",
    "        self.backtrack()\n",
    "        return self.result\n",
    "\n",
    "\n",
    "\n",
    "\n",
    "\n",
    "a = '123456789'\n",
    "operations = ['+', '-', '*', '/']\n",
    "\n",
    "\n",
    "sol = Solution(a, operations)\n",
    "\n",
    "a = sol.find_values()\n"
   ]
  },
  {
   "metadata": {
    "id": "eGDB4K6uk1iN"
   },
   "cell_type": "markdown",
   "source": "(*)Calcula la complejidad del algoritmo"
  },
  {
   "metadata": {
    "ExecuteTime": {
     "end_time": "2025-02-10T06:32:43.613273Z",
     "start_time": "2025-02-10T06:32:43.594267Z"
    }
   },
   "cell_type": "code",
   "source": "sol.intentos",
   "outputs": [
    {
     "data": {
      "text/plain": [
       "362880"
      ]
     },
     "execution_count": 36,
     "metadata": {},
     "output_type": "execute_result"
    }
   ],
   "execution_count": 36
  },
  {
   "metadata": {
    "ExecuteTime": {
     "end_time": "2025-02-10T06:28:34.469162Z",
     "start_time": "2025-02-10T06:28:34.459135Z"
    }
   },
   "cell_type": "code",
   "source": [
    "def duplicados(a):\n",
    "    return len(set(a)) != len(a)"
   ],
   "outputs": [],
   "execution_count": 31
  },
  {
   "metadata": {
    "ExecuteTime": {
     "end_time": "2025-02-10T06:28:35.786716Z",
     "start_time": "2025-02-10T06:28:35.769186Z"
    }
   },
   "cell_type": "code",
   "source": "duplicados(sol.rest_dict[10.0])\n",
   "outputs": [
    {
     "data": {
      "text/plain": [
       "False"
      ]
     },
     "execution_count": 32,
     "metadata": {},
     "output_type": "execute_result"
    }
   ],
   "execution_count": 32
  },
  {
   "metadata": {
    "ExecuteTime": {
     "end_time": "2025-02-10T06:09:59.663433Z",
     "start_time": "2025-02-10T06:09:59.650401Z"
    }
   },
   "cell_type": "code",
   "source": [
    "a = sol.rest_dict.keys()\n",
    "print(min(a), max(a))"
   ],
   "outputs": [
    {
     "name": "stdout",
     "output_type": "stream",
     "text": [
      "-69.0 77.0\n"
     ]
    }
   ],
   "execution_count": 19
  },
  {
   "cell_type": "markdown",
   "metadata": {
    "id": "NhpTh_BPk1ms"
   },
   "source": [
    "\n",
    "\n",
    "Respuesta"
   ]
  },
  {
   "cell_type": "code",
   "metadata": {
    "id": "nREzhkStlCq8",
    "ExecuteTime": {
     "end_time": "2025-02-10T05:54:30.317220Z",
     "start_time": "2025-02-10T05:54:30.304696Z"
    }
   },
   "source": "print(max(sol.rest_dict.keys()), min(sol.rest_dict.keys()))",
   "outputs": [
    {
     "name": "stdout",
     "output_type": "stream",
     "text": [
      "77.0 -69.0\n"
     ]
    }
   ],
   "execution_count": 8
  },
  {
   "cell_type": "markdown",
   "metadata": {
    "id": "3M6QjTsSkmYe"
   },
   "source": [
    "Según el problema (y tenga sentido), diseña un juego de datos de entrada aleatorios"
   ]
  },
  {
   "cell_type": "markdown",
   "metadata": {
    "id": "Jc3_OlyNkvjZ"
   },
   "source": [
    "Respuesta"
   ]
  },
  {
   "cell_type": "code",
   "metadata": {
    "id": "sJ-N2etjkyWc"
   },
   "source": [],
   "execution_count": null,
   "outputs": []
  },
  {
   "cell_type": "markdown",
   "metadata": {
    "id": "zy5ZROmjlGo1"
   },
   "source": [
    "Aplica el algoritmo al juego de datos generado"
   ]
  },
  {
   "cell_type": "markdown",
   "metadata": {
    "id": "_Cmj-PVylMsa"
   },
   "source": [
    "Respuesta"
   ]
  },
  {
   "cell_type": "code",
   "metadata": {
    "id": "Jkx8GeiYlUz1"
   },
   "source": [],
   "execution_count": null,
   "outputs": []
  },
  {
   "cell_type": "markdown",
   "metadata": {
    "id": "eTFWUJQrtGcv"
   },
   "source": [
    "Enumera las referencias que has utilizado(si ha sido necesario) para llevar a cabo el trabajo"
   ]
  },
  {
   "cell_type": "markdown",
   "metadata": {
    "id": "YKQ_mRBttWsP"
   },
   "source": [
    "Respuesta"
   ]
  },
  {
   "cell_type": "markdown",
   "metadata": {
    "id": "kAkDPUyRtYyH"
   },
   "source": [
    "Describe brevemente las lineas de como crees que es posible avanzar en el estudio del problema. Ten en cuenta incluso posibles variaciones del problema y/o variaciones al alza del tamaño"
   ]
  },
  {
   "cell_type": "markdown",
   "metadata": {
    "id": "IE0uZmo-tZu-"
   },
   "source": [
    "Respuesta"
   ]
  }
 ]
}
