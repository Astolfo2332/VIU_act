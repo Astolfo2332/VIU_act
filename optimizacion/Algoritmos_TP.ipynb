{
 "nbformat": 4,
 "nbformat_minor": 0,
 "metadata": {
  "colab": {
   "provenance": []
  },
  "kernelspec": {
   "name": "python3",
   "display_name": "Python 3 (ipykernel)",
   "language": "python"
  }
 },
 "cells": [
  {
   "metadata": {},
   "cell_type": "markdown",
   "source": [
    "\n",
    "<a href=\"https://githubtocolab.com/Astolfo2332/VIU_act/blob/main/optimizacion/Algoritmos_TP.ipynb\" target=\"_parent\\\">\n",
    "<img src=\"https://colab.research.google.com/assets/colab-badge.svg\" alt=\"Open in Colab\" > </a>\n"
   ]
  },
  {
   "cell_type": "markdown",
   "metadata": {
    "id": "hVbXYX-RfPWh"
   },
   "source": [
    "# Algoritmos de optimización <br>\n",
    "Nombre y Apellidos: Miguel López Vélez <br>\n",
    "Url: [Trabajo Práctico](https://github.com/Astolfo2332/VIU_act/blob/main/optimizacion/Algoritmos_TP.ipynb)<br>\n",
    "Problema:\n",
    "> 1. Sesiones de doblaje <br>\n",
    "> 2. Organizar los horarios de partidos de La Liga<br>\n",
    "> 3. Combinar cifras y operaciones\n",
    "\n",
    "Descripción del problema:\n",
    "\n",
    "- El problema consiste en analizar el siguiente problema y diseñar un algoritmo que lo resuelva.\n",
    "- Disponemos de las 9 cifras del 1 al 9 (excluimos el cero) y de los 4 signos básicos de las operaciones fundamentales: suma(+), resta(-), multiplicación(*) y división(/)\n",
    "- Debemos combinarlos alternativamente sin repetir ninguno de ellos para obtener una cantidad dada. Un ejemplo sería para obtener el 4:\n",
    "\n",
    "$$\n",
    "4+2-6/3*1 = 4\n",
    "$$\n",
    "\n",
    "Debe analizarse el problema para encontrar todos los valores enteros posibles planteando las siguientes cuestiones:\n",
    "- ¿Qué valor máximo y mínimo se pueden obtener según las condiciones del problema?\n",
    "- ¿Es posible encontrar todos los valores enteros posibles entre dicho mínimo y máximo?\n",
    "\n"
   ]
  },
  {
   "cell_type": "markdown",
   "metadata": {
    "id": "3_-exlrTgLd-"
   },
   "source": [
    "(*)¿Cuantas posibilidades hay sin tener en cuenta las restricciones?<br>\n",
    "\n",
    "\n",
    "\n",
    "¿Cuantas posibilidades hay teniendo en cuenta todas las restricciones.\n",
    "\n",
    "\n"
   ]
  },
  {
   "cell_type": "markdown",
   "metadata": {
    "id": "WfCUqJyKhPcw"
   },
   "source": [
    "Respuesta"
   ]
  },
  {
   "metadata": {},
   "cell_type": "markdown",
   "source": [
    "Inicialmente, debemos determinar las restricciones del problema, las cuales son las siguientes:\n",
    "- No se pueden repetir los números\n",
    "- No se pueden repetir los signos\n",
    "- Se deben alternar los números y los signos\n",
    "- Los resultados deben ser enteros\n",
    "\n",
    "De esta forma la cantidad de posibilidades se limitan por el número de signos, ya que solo podemos usar 4 a la vez limita el uso de los números a 5, y estos al no poder repetirse lo vuelve un problema de permutación, porque el orden no importa:\n",
    "\n",
    "$$\n",
    "P_{9,5} = \\frac{9!}{9!-5!} = 15120\n",
    "$$\n",
    "\n",
    "A esto se le debe multiplicar la cantidad de posibles combinaciones de signos sin repetir, lo cual es un problema de permutaciones de la forma:\n",
    "\n",
    "$$\n",
    "P_{4} = 4! = 24\n",
    "$$\n",
    "\n",
    "Dando como resultado un espacio de:\n",
    "\n",
    "$$\n",
    "15120 * 24 = 362880 posibilidades\n",
    "$$\n",
    "\n",
    "Ahora agregando la restricción de que el resultado debe ser un número entero, se debe analizar el rango de valores que se pueden obtener y evaluar si pertenecen o no al conjunto de enteros.\n"
   ]
  },
  {
   "cell_type": "markdown",
   "metadata": {
    "id": "dzynfVJahHoY"
   },
   "source": [
    "Modelo para el espacio de soluciones<br>\n",
    "(*) ¿Cual es la estructura de datos que mejor se adapta al problema? Argumentalo.(Es posible que hayas elegido una al principio y veas la necesidad de cambiar, argumentalo)\n",
    "\n",
    "Se puede implementar un diccionario para almacenar el valor de los resultados en la clave y que su valor sea una lista de expresiones que den como resultado dicho valor, facilitando la búsqueda de los valores enteros."
   ]
  },
  {
   "cell_type": "markdown",
   "metadata": {
    "id": "xFIJrOwKi2Ti"
   },
   "source": [
    "Respuesta"
   ]
  },
  {
   "cell_type": "markdown",
   "metadata": {
    "id": "7Z9U2W7bi-XS"
   },
   "source": [
    "Según el modelo para el espacio de soluciones<br>\n",
    "(*)¿Cual es la función objetivo?\n",
    "Estableciendo\n",
    "$$\n",
    "N = \\{1, 2, 3, 4, 5, 6, 7, 8, 9\\}\n",
    "$$\n",
    "\n",
    "y\n",
    "\n",
    "$$\n",
    "O = \\{+, -, *, /\\}\n",
    "$$\n",
    "\n",
    "$$\n",
    "f(N, O) = \\{x \\in \\mathbb{Z} \\ | \\ \\text{existe una combinación válida de } N \\text{ y } O \\text{ tal que } E(N, O) = x\\}\n",
    "$$\n",
    "\n",
    "Así que la función objetivo es tal que:\n",
    "\n",
    "$$\n",
    "\\max \\left| f(N, O) \\right|\n",
    "$$\n",
    "\n",
    "y\n",
    "\n",
    "$$\n",
    "\\min \\left| f(N, O) \\right|\n",
    "$$\n",
    "\n",
    "\n",
    "(*)¿Es un problema de maximización o minimización?\n",
    "\n",
    "Ambos ya que debemos establecer el máximo y mínimo de la expresión dada."
   ]
  },
  {
   "cell_type": "markdown",
   "metadata": {
    "id": "rlnTYgY1j6I2"
   },
   "source": [
    "Diseña un algoritmo para resolver el problema por fuerza bruta"
   ]
  },
  {
   "cell_type": "markdown",
   "metadata": {
    "id": "70rDgxYXkC8r"
   },
   "source": [
    "Respuesta"
   ]
  },
  {
   "metadata": {},
   "cell_type": "markdown",
   "source": [
    "### Método # 1:\n",
    "\n",
    "Mediante fuerza bruta por generación y eliminación de expresiones."
   ]
  },
  {
   "metadata": {
    "ExecuteTime": {
     "end_time": "2025-03-05T22:55:21.284840Z",
     "start_time": "2025-03-05T22:55:06.297705Z"
    }
   },
   "cell_type": "code",
   "source": [
    "\n",
    "class Solution:\n",
    "    def __init__(self, problem:str, operations:list):\n",
    "        self.problem = list(problem)\n",
    "        self.operations = operations\n",
    "        self.rest_dict = {}\n",
    "        self.result = []\n",
    "        self.path = []\n",
    "        self.used = set()\n",
    "        self.used_op = []\n",
    "        self.intentos = 0\n",
    "\n",
    "    def backtrack(self):\n",
    "\n",
    "        if len(self.path) == 9:\n",
    "            path = \"\".join(self.path)\n",
    "            result = eval(path)\n",
    "            self.intentos += 1\n",
    "            # print(path, result)\n",
    "            if result.is_integer() and path not in self.result:\n",
    "                self.result.append(path)\n",
    "                if result not in self.rest_dict:\n",
    "                    self.rest_dict[result] = [path]\n",
    "                else:\n",
    "                    self.rest_dict[result].append(path)\n",
    "                return False\n",
    "\n",
    "\n",
    "        if len(self.path) % 2 == 0:\n",
    "            for num in self.problem:\n",
    "                if num in self.used:\n",
    "                    continue\n",
    "                self.path.append(num)\n",
    "                self.used.add(num)\n",
    "                self.problem.remove(num)\n",
    "                if self.backtrack():\n",
    "                    return True\n",
    "                self.path.remove(num)\n",
    "                self.used.remove(num)\n",
    "                self.problem.append(num)\n",
    "        else:\n",
    "            for op in self.operations:\n",
    "                if op in self.used_op:\n",
    "                    continue\n",
    "                self.path.append(op)\n",
    "                self.used_op.append(op)\n",
    "                self.operations.remove(op)\n",
    "                if self.backtrack():\n",
    "                    return True\n",
    "                self.path.remove(op)\n",
    "                self.operations.append(op)\n",
    "                self.used_op.remove(op)\n",
    "\n",
    "        return False\n",
    "\n",
    "    def find_values(self):\n",
    "        self.backtrack()\n",
    "        return self.result\n",
    "\n",
    "\n",
    "\n",
    "a = '123456789'\n",
    "operations = ['+', '-', '*', '/']\n",
    "\n",
    "\n",
    "fuerza_bruta = Solution(a, operations)\n",
    "\n",
    "a = fuerza_bruta.find_values()\n",
    "\n",
    "iteraciones_fuerza_bruta = fuerza_bruta.intentos"
   ],
   "outputs": [],
   "execution_count": 1
  },
  {
   "metadata": {
    "ExecuteTime": {
     "end_time": "2025-03-05T22:55:21.299674Z",
     "start_time": "2025-03-05T22:55:21.289346Z"
    }
   },
   "cell_type": "code",
   "source": [
    "def continuidad(res_dict):\n",
    "    min_res = min(res_dict.keys())\n",
    "    max_res = max(res_dict.keys())\n",
    "    for i in range(int(min_res), int(max_res)+1):\n",
    "        if i not in res_dict:\n",
    "            return False, min_res, max_res\n",
    "    return True, min_res, max_res"
   ],
   "outputs": [],
   "execution_count": 2
  },
  {
   "metadata": {
    "ExecuteTime": {
     "end_time": "2025-03-04T21:57:05.549541Z",
     "start_time": "2025-03-04T21:57:05.535514Z"
    }
   },
   "cell_type": "code",
   "source": [
    "\n",
    "continuo, min_res, max_res = continuidad(fuerza_bruta.rest_dict)\n",
    "\n",
    "print(\"Mínimo:\", min_res)\n",
    "print(\"Máximo:\", max_res)\n",
    "print(\"Es continuo el resultado?\", \"si\" if continuo else \"no\")\n",
    "print(\"Intentos:\", fuerza_bruta.intentos)\n"
   ],
   "outputs": [
    {
     "name": "stdout",
     "output_type": "stream",
     "text": [
      "Mínimo: -69.0\n",
      "Máximo: 77.0\n",
      "Es continuo el resultado? si\n",
      "Intentos: 362880\n"
     ]
    }
   ],
   "execution_count": 6
  },
  {
   "metadata": {},
   "cell_type": "markdown",
   "source": [
    "### Método # 2:\n",
    "\n",
    "De una manera más eficiente podemos generar todas las posibles permutaciones del sistema de antemano, aunque con un incremento en el uso de memoria se pueden calcular más rápido que el método anterior."
   ]
  },
  {
   "metadata": {
    "id": "38c-7-ejhJmA",
    "ExecuteTime": {
     "end_time": "2025-03-04T21:58:24.334747Z",
     "start_time": "2025-03-04T21:58:21.727921Z"
    }
   },
   "cell_type": "code",
   "source": [
    "from itertools import permutations\n",
    "\n",
    "res_dict = {}\n",
    "\n",
    "def eval_expresssion(exp, res_dict):\n",
    "    result = eval(exp)\n",
    "    if result.is_integer():\n",
    "        if result in res_dict:\n",
    "            res_dict[result].append(exp)\n",
    "        else:\n",
    "            res_dict[result] = [exp]\n",
    "    return res_dict\n",
    "\n",
    "def get_expressions(res_dict, iter_counter):\n",
    "    #Generamos las permutaciones de numeros\n",
    "    for nums in permutations('123456789', 5):\n",
    "        #Generamos las permutaciones de operaciones\n",
    "        for ops in permutations('+-*/', 4):\n",
    "            #Unimos los números y las operaciones, recordemos que se pone el número adicional al final\n",
    "            expression = ''.join([f'{nums[i]}{ops[i]}' for i in range(4)]) + nums[4]\n",
    "            #Se evalua el valor de la expresión\n",
    "            res_dict = eval_expresssion(expression, res_dict)\n",
    "            iter_counter[0] += 1\n",
    "    return res_dict, iter_counter\n",
    "\n",
    "res_dict, all_option_counter = get_expressions(res_dict, [0])\n"
   ],
   "outputs": [],
   "execution_count": 8
  },
  {
   "metadata": {
    "ExecuteTime": {
     "end_time": "2025-03-04T21:58:26.515985Z",
     "start_time": "2025-03-04T21:58:26.498865Z"
    }
   },
   "cell_type": "code",
   "source": [
    "continuo, min_res, max_res = continuidad(res_dict)\n",
    "\n",
    "print(\"Mínimo:\", min_res)\n",
    "print(\"Máximo:\", max_res)\n",
    "print(\"Es continuo el resultado?\", \"si\" if continuo else \"no\")\n",
    "print(\"Intentos:\", all_option_counter[0])"
   ],
   "outputs": [
    {
     "name": "stdout",
     "output_type": "stream",
     "text": [
      "Mínimo: -69.0\n",
      "Máximo: 77.0\n",
      "Es continuo el resultado? si\n",
      "Intentos: 362880\n"
     ]
    }
   ],
   "execution_count": 9
  },
  {
   "cell_type": "markdown",
   "metadata": {
    "id": "tgrnsC2nkFa8"
   },
   "source": [
    "Calcula la complejidad del algoritmo por fuerza bruta"
   ]
  },
  {
   "cell_type": "markdown",
   "metadata": {
    "id": "9eUd3xwckP68"
   },
   "source": [
    "Respuesta"
   ]
  },
  {
   "metadata": {},
   "cell_type": "markdown",
   "source": [
    "En este caso la complejidad es dada por el número de permutaciones de los números y las operaciones, si lo definimos como $m$ y $n$ respectivamente, y sabemos que la permutación esta definida como:\n",
    "\n",
    "$$\n",
    "P_{n,k} = \\frac{n!}{(n-k)!}\n",
    "$$\n",
    "\n",
    "Si los valores de $n$ tienden a $\\infty$ la complejidad del algoritmo es del orden factorial de $n$ o $m$, así es igual a $O((n^2)!)$ o $O(n!)$."
   ]
  },
  {
   "cell_type": "markdown",
   "metadata": {
    "id": "txbrmLmskReM"
   },
   "source": [
    "(*)Diseña un algoritmo que mejore la complejidad del algortimo por fuerza bruta. Argumenta porque crees que mejora el algoritmo por fuerza bruta"
   ]
  },
  {
   "cell_type": "markdown",
   "metadata": {
    "id": "hLrVwt5QkZPD"
   },
   "source": [
    "Respuesta\n",
    "## Métodos Heurísticos\n",
    "\n",
    "### Aproximación # 1:\n",
    "\n",
    "Solución por medio de ramificación y poda, con restricciones para números enteros, podando esa rama si se encuentra que el resultado parcial no es un número entero, mediante un algoritmo de búsqueda en profundidad.\n",
    "\n",
    "En este caso se considera que se pueden perder ramas que después de una división dicho valor puede ser un entero, pero por orden de operaciones, este valor será repetido invirtiendo el orden de las operaciones. Por ejemplo:\n",
    "\n",
    "- $1/3$ No es entero pero podría ser $1/3*6$, entonces esa posibilidad solo se dara en el caso de $6/3*1$. Por lo que se puede perder la posibilidad de encontrar un entero si se poda la rama.\n",
    "\n",
    "De manera gráfica se puede representar como:\n",
    "\n",
    "<div style=\"text-align: center;\">\n",
    "<img src=\"https://raw.githubusercontent.com/Astolfo2332/VIU_act/main/optimizacion/imgs/grafo.png\" alt = \"Grafo de ramas de búsqueda\" width=\"400\"/>\n",
    "<p><em>Fig 1. Gráfico de ramas de búsqueda</em></p>\n",
    "</div>\n",
    "\n",
    "\n",
    "Por el momento tomaremos como metrica de desempeño las iteraciones para encontrar una solución y los valores mínimo, máximo encontrados y si es continuo o no.\n",
    "\n"
   ]
  },
  {
   "metadata": {
    "ExecuteTime": {
     "end_time": "2025-03-06T00:05:21.788935Z",
     "start_time": "2025-03-06T00:05:20.248977Z"
    }
   },
   "cell_type": "code",
   "source": [
    "\n",
    "def evaluar_expresion(expresion):\n",
    "    \"\"\"Evalúa la expresión y retorna el resultado si es entero, None si no lo es.\"\"\"\n",
    "    resultado = eval(expresion)\n",
    "    if isinstance(resultado, int) or resultado.is_integer():\n",
    "        return int(resultado)\n",
    "    return None\n",
    "\n",
    "def dfs(numeros, operadores, expresion, resultado_actual, usados_numeros, usados_operadores, min_max, iter_counter, res_dict):\n",
    "    \"\"\"Búsqueda en profundidad con poda para encontrar solo el mínimo y máximo.\"\"\"\n",
    "    if len(expresion) == 9:  # Si ya usamos 5 numeros y 4 operadores\n",
    "\n",
    "        if resultado_actual not in res_dict:\n",
    "            res_dict[resultado_actual] = [expresion]\n",
    "        else:\n",
    "            res_dict[resultado_actual].append(expresion)\n",
    "\n",
    "        if resultado_actual is not None:\n",
    "            min_max[0] = min(min_max[0], resultado_actual)  # Actualizar mínimo\n",
    "            min_max[1] = max(min_max[1], resultado_actual)  # Actualizar máximo\n",
    "        return\n",
    "\n",
    "    #Gracias al orden de los numeros podemos \"guardar\" los que hemos usado\n",
    "    for i, num in enumerate(numeros):\n",
    "        if i in usados_numeros:\n",
    "            continue  # Evita reutilizar números\n",
    "\n",
    "        for j, op in enumerate(operadores):\n",
    "            if j in usados_operadores:\n",
    "                continue  # Evita reutilizar operadores\n",
    "\n",
    "            nueva_expresion = f\"{expresion}{op}{num}\"\n",
    "            nuevo_resultado = evaluar_expresion(nueva_expresion)\n",
    "\n",
    "            iter_counter[0] += 1\n",
    "\n",
    "            if nuevo_resultado is not None:  # Poda: Solo continuar pro la rama si es entero\n",
    "                dfs(numeros, operadores, nueva_expresion, nuevo_resultado, usados_numeros | {i}, usados_operadores | {j}, min_max, iter_counter, res_dict)\n",
    "\n",
    "def buscar_min_max(numeros=None ,print_results=False):\n",
    "    iter_counter = [0]\n",
    "    res_dict = {}\n",
    "    \"\"\"Encuentra solo los valores mínimo y máximo posibles.\"\"\"\n",
    "    if numeros is None:\n",
    "        numeros = list(range(1, 10))  # Cifras del 1 al 9\n",
    "\n",
    "    operadores = ['+', '-', '*', '/']\n",
    "    min_max = [float('inf'), float('-inf')]  # Inicializar mínimo y máximo\n",
    "\n",
    "    for num_inicial in numeros:\n",
    "        dfs(numeros, operadores, str(num_inicial), num_inicial, {numeros.index(num_inicial)}, set(), min_max, iter_counter, res_dict)\n",
    "\n",
    "    if not print_results:\n",
    "        return min_max, iter_counter\n",
    "\n",
    "    print(\"Iteraciones\", iter_counter)\n",
    "    print(\"Mejora con respecto al método anterior:\", f\"{100 - iter_counter[0] / fuerza_bruta.intentos * 100 : .2f}\",\"%\")\n",
    "    continuo, _, _ = continuidad(res_dict)\n",
    "    print(\"Es continuo el resultado?\", \"si\" if continuo else \"no\")\n",
    "    return min_max\n",
    "\n",
    "# Ejecutar búsqueda\n",
    "min_val, max_val = buscar_min_max(None, True)\n",
    "print(\"Mínimo:\", min_val)\n",
    "print(\"Máximo:\", max_val)\n"
   ],
   "outputs": [
    {
     "name": "stdout",
     "output_type": "stream",
     "text": [
      "Iteraciones [199230]\n",
      "Mejora con respecto al método anterior:  45.10 %\n",
      "Es continuo el resultado? si\n",
      "Mínimo: -69\n",
      "Máximo: 77\n"
     ]
    }
   ],
   "execution_count": 61
  },
  {
   "metadata": {},
   "cell_type": "markdown",
   "source": "Con esta aproximación obtenemos una mejora del 45.1 % con respecto a la fuerza bruta eliminando la mitad de los calculos necesarios y manteniendo la continuidad de los resultados."
  },
  {
   "metadata": {},
   "cell_type": "markdown",
   "source": "Para su complejidad en el peor de los casos es de $O(n!)$, ya que se deben evaluar todas las posibles permutaciones de los números y los signos, pero gracias a la poda se puede reducir la cantidad de iteraciones necesarias para encontrar una solución dependiendo claro del espacio de soluciones, como podemos ver en este caso particular es una reducción de casí la mitad con respecto al método anterior."
  },
  {
   "metadata": {},
   "cell_type": "markdown",
   "source": [
    "## Aproximación # 2:\n",
    "\n",
    "Podemos agregar memoria al algoritmo de búsqueda en profundidad para evitar recalcular ramas que ya se han calculado, de esta forma se puede mejorar la eficiencia del algoritmo.\n",
    "\n",
    "En este caso como conocemos las posiciones tanto de operadores como signos, podemos guardarlas en un diccionario para cada vez que se cumplan de nuevo ese patrón, podar la rama y evitar obtener el mismo valor.\n",
    "\n",
    "Esto conlleva a un problema, debido a que se pueden perder ramas que cumplan con ser números enteros pero al no llegar a su estado final no se guarda el resultado dando casos como por ejemplo:\n",
    "\n",
    "- Si se explora $1 + 2 * 3$ y se decide guardar la rama no se explorará $1 + 2 * 3 / 4$ que puede dar un número entero.\n",
    "\n"
   ]
  },
  {
   "metadata": {
    "ExecuteTime": {
     "end_time": "2025-03-05T23:54:26.651176Z",
     "start_time": "2025-03-05T23:54:26.530056Z"
    }
   },
   "cell_type": "code",
   "source": [
    "import re\n",
    "\n",
    "def dfs_memo(numeros, operadores, expresion, resultado_actual, usados_numeros, usados_operadores, min_max, iter_counter, res_dict, memo):\n",
    "    \"\"\"Búsqueda en profundidad con poda para encontrar solo el mínimo y máximo con memoización.\"\"\"\n",
    "    clave = (tuple(usados_numeros), tuple(usados_operadores))\n",
    "    if clave in memo:\n",
    "        return  # Evitar cálculos repetidos\n",
    "\n",
    "    # Extraer números y operadores para n casos\n",
    "    nums = list(map(int, re.findall(r'\\d+', expresion)))\n",
    "    ops = [o for o in expresion if o in operadores]\n",
    "\n",
    "    if len(nums) == 5 and len(ops) == 4:\n",
    "        if resultado_actual not in res_dict:\n",
    "            res_dict[resultado_actual] = [expresion]\n",
    "        else:\n",
    "            res_dict[resultado_actual].append(expresion)\n",
    "\n",
    "        min_max[0] = min(min_max[0], resultado_actual)  # Actualizar mínimo\n",
    "        min_max[1] = max(min_max[1], resultado_actual)  # Actualizar máximo\n",
    "        return\n",
    "\n",
    "    memo[clave] = True  # Guardar en memoización\n",
    "\n",
    "    for i, num in enumerate(numeros):\n",
    "        if i in usados_numeros:\n",
    "            continue  # Evita reutilizar números\n",
    "\n",
    "        for j, op in enumerate(operadores):\n",
    "            if j in usados_operadores:\n",
    "                continue  # Evita reutilizar operadores\n",
    "\n",
    "            nueva_expresion = f\"{expresion}{op}{num}\"\n",
    "            nuevo_resultado = evaluar_expresion(nueva_expresion)\n",
    "\n",
    "            iter_counter[0] += 1\n",
    "\n",
    "            if nuevo_resultado is not None:  # Poda: Solo continuar por la rama si es entero\n",
    "                dfs_memo(numeros, operadores, nueva_expresion, nuevo_resultado, usados_numeros | {i}, usados_operadores | {j}, min_max, iter_counter, res_dict, memo)\n",
    "\n",
    "def buscar_min_max_memo(numeros=None, print_results=False):\n",
    "    iter_counter = [0]\n",
    "    res_dict = {}\n",
    "    memo = {}  # Diccionario de memoización\n",
    "\n",
    "    \"\"\"Encuentra solo los valores mínimo y máximo posibles.\"\"\"\n",
    "\n",
    "    if numeros is None:\n",
    "        numeros = list(range(1, 10))  # Cifras del 1 al 9\n",
    "    operadores = ['+', '-', '*', '/']\n",
    "    min_max = [float('inf'), float('-inf')]  # Inicializar mínimo y máximo\n",
    "\n",
    "    for num_inicial in numeros:\n",
    "        dfs_memo(numeros, operadores, str(num_inicial), num_inicial, {numeros.index(num_inicial)}, set(), min_max, iter_counter, res_dict, memo)\n",
    "\n",
    "    if not print_results:\n",
    "        return min_max, iter_counter\n",
    "\n",
    "\n",
    "    print(\"Iteraciones\", iter_counter)\n",
    "    print(\"Mejora con respecto al método anterior:\", f\"{100 - iter_counter[0] / fuerza_bruta.intentos * 100 : .2f}\",\"%\")\n",
    "    continuo, _, _ = continuidad(res_dict)\n",
    "    print(\"Es continuo el resultado?\", \"si\" if continuo else \"no\")\n",
    "\n",
    "    return min_max\n",
    "\n",
    "# Ejecutar búsqueda\n",
    "min_val, max_val = buscar_min_max_memo(None, True)\n",
    "print(\"Mínimo:\", min_val)\n",
    "print(\"Máximo:\", max_val)\n"
   ],
   "outputs": [
    {
     "name": "stdout",
     "output_type": "stream",
     "text": [
      "Iteraciones [11751]\n",
      "Mejora con respecto al método anterior:  96.76 %\n",
      "Es continuo el resultado? no\n",
      "Mínimo: -69\n",
      "Máximo: 77\n"
     ]
    }
   ],
   "execution_count": 60
  },
  {
   "metadata": {},
   "cell_type": "markdown",
   "source": "Así en este algoritmo se pierde la continuidad de los resultados debido a la poda temprana de algunas ramas que pueden llegar a estos resultados por cumplir con patrones previamente descartados en la búsqueda. Más, sin embargo, se encuentran los máximos y mínimos de las soluciones"
  },
  {
   "metadata": {},
   "cell_type": "markdown",
   "source": "Su complejidad está dada en el peor de los casos similar al anterior como $O(n!)$, pero gracias al uso de poda y memoria se reducen las iteraciones además de reducir el uso de memoria al no guardar todas las posibles soluciones."
  },
  {
   "metadata": {},
   "cell_type": "markdown",
   "source": [
    "### Aproximación # 3:\n",
    "\n",
    "Como se menciona anteriormente independiente de los cambios en el peor de los casos la complejidad de la búsqueda es $O(n!)$, pero se puede mejorar la eficiencia del algoritmo mediante la implementación de métodos heurísticos, de la forma:"
   ]
  },
  {
   "metadata": {
    "ExecuteTime": {
     "end_time": "2025-03-06T00:47:08.352230Z",
     "start_time": "2025-03-06T00:47:08.041214Z"
    }
   },
   "cell_type": "code",
   "source": [
    "import numpy as np\n",
    "\n",
    "def coste_heuristico(resultado_actual, min_max, expresion, hist):\n",
    "    ajuste = 0.25\n",
    "\n",
    "    if not hist:\n",
    "        return True\n",
    "\n",
    "    media = np.mean(hist)\n",
    "    desviacion = np.std(hist)\n",
    "\n",
    "    margen_sup = media + desviacion * ajuste\n",
    "    margen_inf = media - desviacion * ajuste\n",
    "\n",
    "    if resultado_actual < margen_inf or resultado_actual > margen_sup:\n",
    "        return True\n",
    "    return False\n",
    "\n",
    "def dfs_memo_heu(numeros, operadores, expresion, resultado_actual, usados_numeros, usados_operadores, min_max, iter_counter, res_dict, memo, hist):\n",
    "    \"\"\"Búsqueda en profundidad con poda para encontrar solo el mínimo y máximo con memoización.\"\"\"\n",
    "\n",
    "    if not coste_heuristico(resultado_actual, min_max, expresion, hist):\n",
    "        return\n",
    "\n",
    "    clave = (tuple(usados_numeros), tuple(usados_operadores))\n",
    "    if clave in memo:\n",
    "        return  # Evitar cálculos repetidos\n",
    "\n",
    "    nums = list(map(int, re.findall(r'\\d+', expresion)))\n",
    "    ops = [o for o in expresion if o in operadores]\n",
    "\n",
    "\n",
    "    if len(nums) == 5 and len(ops) == 4:\n",
    "\n",
    "        if resultado_actual not in res_dict:\n",
    "            res_dict[resultado_actual] = [expresion]\n",
    "        else:\n",
    "            res_dict[resultado_actual].append(expresion)\n",
    "\n",
    "        min_max[0] = min(min_max[0], resultado_actual)  # Actualizar mínimo\n",
    "        min_max[1] = max(min_max[1], resultado_actual)  # Actualizar máximo\n",
    "        hist.append(resultado_actual)\n",
    "        return\n",
    "\n",
    "    memo[clave] = True  # Guardar en memoización\n",
    "\n",
    "    for i, num in enumerate(numeros):\n",
    "        if i in usados_numeros:\n",
    "            continue  # Evita reutilizar números\n",
    "\n",
    "        for j, op in enumerate(operadores):\n",
    "            if j in usados_operadores:\n",
    "                continue  # Evita reutilizar operadores\n",
    "\n",
    "            nueva_expresion = f\"{expresion}{op}{num}\"\n",
    "            nuevo_resultado = evaluar_expresion(nueva_expresion)\n",
    "\n",
    "            iter_counter[0] += 1\n",
    "\n",
    "            if nuevo_resultado is not None:  # Poda: Solo continuar por la rama si es entero\n",
    "                dfs_memo_heu(numeros, operadores, nueva_expresion, nuevo_resultado, usados_numeros | {i}, usados_operadores | {j}, min_max, iter_counter, res_dict, memo, hist)\n",
    "\n",
    "def buscar_min_max_memo_heu(numeros=None, print_results=False):\n",
    "    iter_counter = [0]\n",
    "    res_dict = {}\n",
    "    memo = {}  # Diccionario de memoización\n",
    "    hist = []\n",
    "\n",
    "    \"\"\"Encuentra solo los valores mínimo y máximo posibles.\"\"\"\n",
    "\n",
    "    if numeros is None:\n",
    "        numeros = list(range(1, 10))  # Cifras del 1 al 9\n",
    "    operadores = ['+', '-', '*', '/']\n",
    "    min_max = [float('inf'), float('-inf')]  # Inicializar mínimo y máximo\n",
    "\n",
    "    for num_inicial in numeros:\n",
    "        dfs_memo_heu(numeros, operadores, str(num_inicial), num_inicial, {numeros.index(num_inicial)}, set(), min_max, iter_counter, res_dict, memo, hist)\n",
    "\n",
    "    if not print_results:\n",
    "        return min_max, iter_counter\n",
    "\n",
    "\n",
    "    print(\"Iteraciones\", iter_counter)\n",
    "    print(\"Mejora con respecto al método anterior:\", f\"{100 - iter_counter[0] / fuerza_bruta.intentos * 100 : .2f}\",\"%\")\n",
    "    continuo, _, _ = continuidad(res_dict)\n",
    "    print(\"Es continuo el resultado?\", \"si\" if continuo else \"no\")\n",
    "\n",
    "    return min_max\n",
    "\n",
    "# Ejecutar búsqueda\n",
    "min_val, max_val = buscar_min_max_memo_heu(None, True)\n",
    "print(\"Mínimo:\", min_val)\n",
    "print(\"Máximo:\", max_val)"
   ],
   "outputs": [
    {
     "name": "stdout",
     "output_type": "stream",
     "text": [
      "Iteraciones [4264]\n",
      "Mejora con respecto al método anterior:  98.82 %\n",
      "Es continuo el resultado? no\n",
      "Mínimo: -69\n",
      "Máximo: 75\n"
     ]
    }
   ],
   "execution_count": 125
  },
  {
   "metadata": {},
   "cell_type": "markdown",
   "source": "Adicionando una función heurística se reducen las iteraciones necesarias, pero se pierde la exactitud de los máximos y mínimos, en este caso particular solo se obtiene el minimo deseado, aunque este método tiene mejor escalabilidad para problemas más grandes. En este caso al suponer una distribución normal podemos calcular la desviación estandar y la media para determinar un margen donde se continua en dicha rama o no, con la intención de que el sistema sea escalable a valores de $n$ más grandes."
  },
  {
   "metadata": {},
   "cell_type": "markdown",
   "source": "### Comparación de métodos heurísticos"
  },
  {
   "metadata": {},
   "cell_type": "markdown",
   "source": "Aunque una medida de tiempo no es lo mejor para comparar estos métodos se puede observar cual es más eficiente en términos de tiempo de ejecución."
  },
  {
   "metadata": {
    "ExecuteTime": {
     "end_time": "2025-03-06T01:01:12.311780Z",
     "start_time": "2025-03-06T01:01:11.959209Z"
    }
   },
   "cell_type": "code",
   "source": [
    "import time\n",
    "import matplotlib.pyplot as plt\n",
    "import numpy as np\n",
    "\n",
    "def time_test(func):\n",
    "    start = time.time()\n",
    "    func()\n",
    "    end = time.time()\n",
    "    return end - start\n"
   ],
   "outputs": [],
   "execution_count": 126
  },
  {
   "metadata": {
    "ExecuteTime": {
     "end_time": "2025-03-06T01:06:28.855029Z",
     "start_time": "2025-03-06T01:02:29.336161Z"
    }
   },
   "cell_type": "code",
   "source": [
    "brute_force_time = [time_test(lambda: fuerza_bruta.find_values()) for _ in range(10)]\n",
    "dfs_time = [time_test(buscar_min_max) for _ in range(10)]\n",
    "dfs_memo_time = [time_test(buscar_min_max_memo) for _ in range(10)]\n",
    "dfs_memo_heu_time = [time_test(buscar_min_max_memo_heu) for _ in range(10)]\n",
    "\n",
    "brute_mean, brute_std = np.mean(brute_force_time), np.std(brute_force_time)\n",
    "dfs_mean, dfs_std = np.mean(dfs_time), np.std(dfs_time)\n",
    "dfs_memo_mean, dfs_memo_std = np.mean(dfs_memo_time), np.std(dfs_memo_time)\n",
    "dfs_memo_heu_mean, dfs_memo_heu_std = np.mean(dfs_memo_heu_time), np.std(dfs_memo_heu_time)\n",
    "\n",
    "plt.bar([\"Fuerza Bruta\", \"DFS\", \"DFS con memoización\", \"DFS con memoización y heurística\"], [brute_mean, dfs_mean, dfs_memo_mean, dfs_memo_heu_mean], yerr=[brute_std, dfs_std, dfs_memo_std, dfs_memo_heu_std])\n",
    "plt.ylabel(\"Tiempo (s)\")\n",
    "plt.title(\"Comparación de tiempos de ejecución\")\n",
    "plt.show()\n"
   ],
   "outputs": [
    {
     "data": {
      "text/plain": [
       "<Figure size 640x480 with 1 Axes>"
      ],
      "image/png": "[encoded data removed]"
     },
     "metadata": {},
     "output_type": "display_data"
    }
   ],
   "execution_count": 127
  },
  {
   "metadata": {
    "ExecuteTime": {
     "end_time": "2025-03-06T01:07:52.239315Z",
     "start_time": "2025-03-06T01:07:52.147758Z"
    }
   },
   "cell_type": "code",
   "source": [
    "plt.bar([\"DFS\", \"DFS con memoización\", \"DFS heurística\"], [dfs_mean, dfs_memo_mean, dfs_memo_heu_mean], yerr=[dfs_std, dfs_memo_std, dfs_memo_heu_std])\n",
    "plt.ylabel(\"Tiempo (s)\")\n",
    "plt.title(\"Comparación de tiempos de ejecución entre métodos heurísticos\")\n",
    "plt.show()"
   ],
   "outputs": [
    {
     "data": {
      "text/plain": [
       "<Figure size 640x480 with 1 Axes>"
      ],
      "image/png": "[encoded data removed]"
     },
     "metadata": {},
     "output_type": "display_data"
    }
   ],
   "execution_count": 132
  },
  {
   "metadata": {
    "ExecuteTime": {
     "end_time": "2025-03-06T01:08:02.525820Z",
     "start_time": "2025-03-06T01:08:00.598559Z"
    }
   },
   "cell_type": "code",
   "source": [
    "plt.bar([\"Fuerza Bruta\", \"DFS\", \"DFS con memoización\", \"DFSheurística\"], [iteraciones_fuerza_bruta, buscar_min_max()[1][0], buscar_min_max_memo()[1][0], buscar_min_max_memo_heu()[1][0]])\n",
    "plt.ylabel(\"Iteraciones\")\n",
    "plt.title(\"Comparación de iteraciones\")\n",
    "plt.show()"
   ],
   "outputs": [
    {
     "data": {
      "text/plain": [
       "<Figure size 640x480 with 1 Axes>"
      ],
      "image/png": "[encoded data removed]"
     },
     "metadata": {},
     "output_type": "display_data"
    }
   ],
   "execution_count": 133
  },
  {
   "metadata": {},
   "cell_type": "markdown",
   "source": "Observando que para nuestro caso en particular es más eficiente y exacto el método de DFS con memoización. Aunque en términos de iteraciones es mejor el DFS con heurística, pero se pierde la exactitud de los resultados."
  },
  {
   "metadata": {},
   "cell_type": "markdown",
   "source": "## Métodos metaheurísticos"
  },
  {
   "metadata": {},
   "cell_type": "markdown",
   "source": [
    "\n",
    "###  Algoritmo genético"
   ]
  },
  {
   "metadata": {
    "ExecuteTime": {
     "end_time": "2025-03-05T23:17:22.893929Z",
     "start_time": "2025-03-05T23:17:22.067773Z"
    }
   },
   "cell_type": "code",
   "source": [
    "import random\n",
    "from collections import namedtuple\n",
    "import re\n",
    "\n",
    "# Definir operadores disponibles\n",
    "OPS = ['+', '-', '*', '/']\n",
    "NUMBERS = list(range(1, 10))\n",
    "\n",
    "# Definir estructura de una expresión\n",
    "Expression = namedtuple('Expression', ['expr', 'value'])\n",
    "\n",
    "# Evaluar una expresión\n",
    "def evaluar_expresion_gen(expresion):\n",
    "    num, ops = extraer_componentes(expresion)\n",
    "\n",
    "    if len(list(set(ops))) != 4 or len(list(set(num))) != 5:  # Verificar que no se repitan números u operadores\n",
    "        return None\n",
    "\n",
    "    resultado = eval(expresion)\n",
    "\n",
    "    # Verificamos que el resultado sea un entero\n",
    "    if isinstance(resultado, int) or (isinstance(resultado, float) and resultado.is_integer()):\n",
    "        return int(resultado)\n",
    "\n",
    "    return None\n",
    "\n",
    "# Generar una expresión aleatoria sin repetir números u operadores\n",
    "def generar_expresion():\n",
    "    while True:\n",
    "        numeros_disponibles = random.sample(NUMBERS, 5)  # Escoger 5 números sin repetir\n",
    "        operadores_disponibles = random.sample(OPS, 4)  # Escoger 4 operadores sin repetir\n",
    "\n",
    "        expr = str(numeros_disponibles[0])\n",
    "        for i in range(4):\n",
    "            expr += operadores_disponibles[i] + str(numeros_disponibles[i + 1])\n",
    "\n",
    "        value = evaluar_expresion_gen(expr)\n",
    "\n",
    "        if value is not None:  # Si la expresión es válida, retornarla\n",
    "            return Expression(expr, value)\n",
    "\n",
    "# Selección de mejores individuos\n",
    "def seleccion(poblacion, top_n=10):\n",
    "    poblacion_valida = [expr for expr in poblacion if expr.value is not None]\n",
    "    # Seleccionamos a los mejores individuos organizando los valores, recordando que se busca el máximo y el mínimo\n",
    "    return sorted(poblacion_valida, key=lambda x: x.value)[:top_n] + sorted(poblacion_valida, key=lambda x: x.value)[-top_n:]\n",
    "\n",
    "# Cruce entre 3 expresiones\n",
    "def cruce(expr1, expr2, expr3):\n",
    "    # Combinamos las expresiones\n",
    "\n",
    "    nums1, ops1 = extraer_componentes(expr1.expr)\n",
    "    nums2, ops2 = extraer_componentes(expr2.expr)\n",
    "    nums3, ops3 = extraer_componentes(expr3.expr)\n",
    "\n",
    "    # Se combinan los números y operadores de las expresiones\n",
    "    nums1 = nums1[:2] + nums2[2:4] + nums3[4:]\n",
    "    ops1 = ops1[:2] + ops2[2:4] + ops3[4:]\n",
    "\n",
    "    nueva_expr = str(nums1[0])\n",
    "    for i in range(4):\n",
    "        nueva_expr += ops1[i] + str(nums1[i + 1])\n",
    "\n",
    "    nuevo_valor = evaluar_expresion_gen(nueva_expr)\n",
    "    #Si el valor es invalido se retorna la primera expresión\n",
    "    return Expression(nueva_expr, nuevo_valor) if nuevo_valor is not None else expr1\n",
    "\n",
    "# Extraer números y operadores de una expresión\n",
    "def extraer_componentes(expr):\n",
    "    nums = list(map(int, re.findall(r'\\d+', expr)))\n",
    "    ops = [o for o in expr if o in OPS]\n",
    "    return nums, ops\n",
    "\n",
    "# Mutación aleatoria de una expresión sin repetir números u operadores\n",
    "def mutacion(expr):\n",
    "    #La mutación la definimos como una reorganización aleatoria de los números y operadores\n",
    "    nums, ops = extraer_componentes(expr.expr)\n",
    "    random.shuffle(nums)\n",
    "    random.shuffle(ops)\n",
    "\n",
    "    nueva_expr = str(nums[0])\n",
    "    for i in range(4):\n",
    "        nueva_expr += ops[i] + str(nums[i + 1])\n",
    "\n",
    "    nuevo_valor = evaluar_expresion_gen(nueva_expr)\n",
    "    #Se evalua la expresión y se retorna si es válida de lo contrario se retorna la expresión original\n",
    "    return Expression(nueva_expr, nuevo_valor) if nuevo_valor is not None else expr\n",
    "\n",
    "# Algoritmo genético\n",
    "def algoritmo_genetico(generaciones=100, poblacion_size=50, print_results=False):\n",
    "    poblacion = [generar_expresion() for _ in range(poblacion_size)]\n",
    "    for i in range(generaciones):\n",
    "        poblacion = seleccion(poblacion)\n",
    "        nueva_poblacion = []\n",
    "\n",
    "        # Conservamos algunos de los mejores individuos\n",
    "        nueva_poblacion.extend(sorted(poblacion, key=lambda x: x.value)[:20] + sorted(poblacion, key=lambda x: x.value)[-20:])\n",
    "\n",
    "        while len(nueva_poblacion) < poblacion_size:\n",
    "\n",
    "            p1, p2, p3 = random.sample(poblacion, 3)\n",
    "\n",
    "            hijo = cruce(p1, p2, p3)\n",
    "            if random.random() < 0.2:  # Probabilidad de mutación\n",
    "                hijo = mutacion(hijo)\n",
    "            nueva_poblacion.append(hijo)\n",
    "\n",
    "        poblacion = nueva_poblacion\n",
    "\n",
    "        if i % 25 == 0 and print_results:\n",
    "            min_val, max_val = min(poblacion, key=lambda x: x.value), max(poblacion, key=lambda x: x.value)\n",
    "            print(\"Máximo y minimo de la población\", i, \":\", min_val.value, max_val.value)\n",
    "\n",
    "\n",
    "    min_val = min(poblacion, key=lambda x: x.value)\n",
    "    max_val = max(poblacion, key=lambda x: x.value)\n",
    "    return min_val, max_val\n",
    "\n",
    "# Ejecutar algoritmo\n",
    "total_generaciones = 75\n",
    "total_poblacion = 500\n",
    "min_expr, max_expr = algoritmo_genetico(total_generaciones, total_poblacion, True)\n",
    "\n",
    "print(f\"Mínimo encontrado: {min_expr.expr} = {min_expr.value}\")\n",
    "print(f\"Máximo encontrado: {max_expr.expr} = {max_expr.value}\")\n"
   ],
   "outputs": [
    {
     "name": "stdout",
     "output_type": "stream",
     "text": [
      "Máximo y minimo de la población 0 : -65 77\n",
      "Máximo y minimo de la población 25 : -65 77\n",
      "Máximo y minimo de la población 50 : -65 77\n",
      "Mínimo encontrado: 2+5-8*9/1 = -65\n",
      "Máximo encontrado: 7-2+8/1*9 = 77\n"
     ]
    }
   ],
   "execution_count": 47
  },
  {
   "metadata": {},
   "cell_type": "markdown",
   "source": [
    "En este caso se experimentan con varios valores de generaciones y total de población, los mejores resultados se encuentran a valores altos de población y pocas generaciones, teniendo menor efecto la cantidad de generaciones, ya que los algoritmos generadores y la segregación de los mejores individuos es más efectiva en la población inicial.\n",
    "\n",
    "Como podemos observar en el método anterior otra posible solución sería la generación aleatoria de expresiones sin un rumbo fijo, debido al buen comportamiento de la generación aleatoria, así que si tomamos esta generación de la forma."
   ]
  },
  {
   "metadata": {},
   "cell_type": "markdown",
   "source": [
    "Para este algoritmo su complejidad es dependiendo de los componentes, casi todos poseen complejidad $O(n)$, ya que solo se realizan asignaciones a excepción de la selección de individuos donde se realiza un ordenamiento, teniendo complejidad de $O(n \\cdot log(n))$, teniendo en cuenta que se realiza sobre $m$ generaciones la complejidad total es de $O(m \\cdot n \\cdot log(n))$ donde $m$ es el número de generaciones y $n$ es el tamaño de la población, ya que se deben evaluar todas las expresiones de la población en cada generación.\n",
    "\n",
    "Así para los métodos aplicados con anterioridad es el mejor de los algoritmos pese a que no se tenga un resultado óptimo."
   ]
  },
  {
   "metadata": {},
   "cell_type": "markdown",
   "source": "### Búsqueda aleatoria"
  },
  {
   "metadata": {
    "ExecuteTime": {
     "end_time": "2025-03-05T22:55:32.609008Z",
     "start_time": "2025-03-05T22:55:32.535315Z"
    }
   },
   "cell_type": "code",
   "source": [
    "def random_search(poblacion=500):\n",
    "    poblacion = [generar_expresion() for _ in range(poblacion)]\n",
    "    min_val = min(poblacion, key=lambda x: x.value)\n",
    "    max_val = max(poblacion, key=lambda x: x.value)\n",
    "    return min_val, max_val\n",
    "\n",
    "min_expr, max_expr = random_search(1000)\n",
    "print(f\"Mínimo encontrado: {min_expr.expr} = {min_expr.value}\")\n",
    "print(f\"Máximo encontrado: {max_expr.expr} = {max_expr.value}\")"
   ],
   "outputs": [
    {
     "name": "stdout",
     "output_type": "stream",
     "text": [
      "Mínimo encontrado: 3/1+5-9*8 = -64\n",
      "Máximo encontrado: 9*8+7-4/2 = 77\n"
     ]
    }
   ],
   "execution_count": 5
  },
  {
   "metadata": {},
   "cell_type": "markdown",
   "source": "Pero claro, este método al no tener una dirección fija, solo funcionaria para casos de números pequeños, como el caso trabajado además de no poder cerciorar si existe continuidad en los resultados."
  },
  {
   "metadata": {},
   "cell_type": "markdown",
   "source": "En este caso su complejidad se reduce a $O(n)$, ya que solo se generan expresiones aleatorias y se evalúan, sin embargo, al no tener una dirección fija se puede tardar más en encontrar una solución óptima y para grandes valores de $n$ no es viable."
  },
  {
   "metadata": {},
   "cell_type": "markdown",
   "source": "### Comparación de métodos metaheurísticos"
  },
  {
   "metadata": {},
   "cell_type": "markdown",
   "source": "En este caso al no generar una solución optima y solo una aproximación compararemos tanto tiempo de ejection como su desviación a la distancia con respecto a la solución óptima."
  },
  {
   "metadata": {
    "ExecuteTime": {
     "end_time": "2025-03-05T17:53:30.592419Z",
     "start_time": "2025-03-05T17:53:22.194399Z"
    }
   },
   "cell_type": "code",
   "source": [
    "# Obtenemos los resultados de los métodos metaheurísticos\n",
    "\n",
    "genetic_time = [time_test(lambda: algoritmo_genetico(total_generaciones, total_poblacion)) for _ in range(10)]\n",
    "random_time = [time_test(lambda: random_search(1000)) for _ in range(10)]\n",
    "\n",
    "genetic_mean, genetic_std = np.mean(genetic_time), np.std(genetic_time)\n",
    "random_mean, random_std = np.mean(random_time), np.std(random_time)\n",
    "\n",
    "plt.bar(['Búsqueda aleatoria', 'Algoritmo genético'], [random_mean, genetic_mean], yerr=[random_std, genetic_std])\n",
    "plt.ylabel('Tiempo (s)')\n",
    "plt.title('Comparación de tiempos de ejecución')\n",
    "plt.show()\n"
   ],
   "outputs": [
    {
     "data": {
      "text/plain": [
       "<Figure size 640x480 with 1 Axes>"
      ],
      "image/png": "[encoded data removed]"
     },
     "metadata": {},
     "output_type": "display_data"
    }
   ],
   "execution_count": 45
  },
  {
   "metadata": {
    "ExecuteTime": {
     "end_time": "2025-03-05T18:02:57.131467Z",
     "start_time": "2025-03-05T18:02:48.469621Z"
    }
   },
   "cell_type": "code",
   "source": [
    "# Obtenemos los resultados reales\n",
    "min_val, max_val = buscar_min_max_memo(True)\n",
    "\n",
    "# Calculamos la distancia de los resultados reales con los obtenidos\n",
    "def distancia_resultados(real, obtenido):\n",
    "    return abs(real[0] - obtenido[0]), abs(real[1] - obtenido[1])\n",
    "\n",
    "def transformar_resultados(resultados):\n",
    "    return [r.value for r in resultados]\n",
    "\n",
    "genetic_distance = [distancia_resultados((min_val, max_val), transformar_resultados(algoritmo_genetico(total_generaciones, total_poblacion, False))) for _ in range(10)]\n",
    "random_distance = [distancia_resultados((min_val, max_val), transformar_resultados(random_search(1000))) for _ in range(10)]\n",
    "\n",
    "genetic_mean, genetic_std = np.mean(genetic_distance, axis=0), np.std(genetic_distance, axis=0)\n",
    "random_mean, random_std = np.mean(random_distance, axis=0), np.std(random_distance, axis=0)\n",
    "\n",
    "plt.bar(['Búsqueda aleatoria', 'Algoritmo genético'], [random_mean[0], genetic_mean[0]], yerr=[random_std[0], genetic_std[0]])\n",
    "plt.ylabel('Distancia mínima')\n",
    "plt.title('Comparación de distancia mínima')\n",
    "plt.show()\n",
    "\n",
    "plt.bar(['Búsqueda aleatoria', 'Algoritmo genético'], [random_mean[1], genetic_mean[1]], yerr=[random_std[1], genetic_std[1]])\n",
    "plt.ylabel('Distancia máxima')\n",
    "plt.title('Comparación de distancia máxima')\n",
    "plt.show()"
   ],
   "outputs": [
    {
     "name": "stdout",
     "output_type": "stream",
     "text": [
      "Iteraciones [11751]\n",
      "Mejora con respecto al método anterior:  96.76 %\n",
      "Es continuo el resultado? no\n"
     ]
    },
    {
     "data": {
      "text/plain": [
       "<Figure size 640x480 with 1 Axes>"
      ],
      "image/png": "[encoded data removed]"
     },
     "metadata": {},
     "output_type": "display_data"
    },
    {
     "data": {
      "text/plain": [
       "<Figure size 640x480 with 1 Axes>"
      ],
      "image/png": "[encoded data removed]"
     },
     "metadata": {},
     "output_type": "display_data"
    }
   ],
   "execution_count": 60
  },
  {
   "metadata": {},
   "cell_type": "markdown",
   "source": [
    "Para estos casos, y como se menciona anteriormente es mejor realizar la búsqueda aleatoria tanto en tiempo de ejecución como en valores aproximados al máximo y mínimo de la solución. Aunque cabe resaltar que si se escala el problema a por ejemplo más números el método aleatorio no puede ser tan viable.\n",
    "\n",
    "Con respecto a los algoritmos heurísticos, al menos en tiempo de ejecución es mejor la búsqueda en profundidad con poda y memoria ya que tiene un resultado determinista y puede ser más eficiente en términos de tiempo."
   ]
  },
  {
   "cell_type": "markdown",
   "metadata": {
    "id": "NhpTh_BPk1ms"
   },
   "source": [
    "\n",
    "\n",
    "Respuesta"
   ]
  },
  {
   "cell_type": "markdown",
   "metadata": {
    "id": "3M6QjTsSkmYe"
   },
   "source": [
    "Según el problema (y tenga sentido), diseña un juego de datos de entrada aleatorios"
   ]
  },
  {
   "cell_type": "markdown",
   "metadata": {
    "id": "Jc3_OlyNkvjZ"
   },
   "source": [
    "Respuesta"
   ]
  },
  {
   "metadata": {},
   "cell_type": "markdown",
   "source": "Para este problema podemos expandir la serie de números a analizar, digamos que podemos tener $n$ números y mantenemos las operaciones así podemos establecer los valores numéricos de la siguiente forma:"
  },
  {
   "cell_type": "code",
   "metadata": {
    "id": "sJ-N2etjkyWc",
    "ExecuteTime": {
     "end_time": "2025-03-06T01:10:07.324897Z",
     "start_time": "2025-03-06T01:10:07.305878Z"
    }
   },
   "source": [
    "new_numbers = [random.randint(1, 1000) for _ in range(50)]\n",
    "new_numbers = list(set(new_numbers))\n",
    "new_numbers = [number for number in new_numbers if number != 0]\n",
    "print(\"Tamaño de la lista de números:\", len(new_numbers))\n",
    "\n",
    "NUMBERS = new_numbers"
   ],
   "outputs": [
    {
     "name": "stdout",
     "output_type": "stream",
     "text": [
      "Tamaño de la lista de números: 50\n"
     ]
    }
   ],
   "execution_count": 136
  },
  {
   "cell_type": "markdown",
   "metadata": {
    "id": "zy5ZROmjlGo1"
   },
   "source": [
    "Aplica el algoritmo al juego de datos generado"
   ]
  },
  {
   "metadata": {},
   "cell_type": "markdown",
   "source": [
    "Tengamos en cuenta que como sabemos para 10000 números la fuerza bruta equivaldría a:\n",
    "\n",
    "$$\n",
    "P_{50,5} = \\frac{50!}{50!-5!} = 254251200\n",
    "$$\n",
    "\n",
    "Esto por la combinación de signos se obtiene:\n",
    "\n",
    "$$\n",
    "P_{4} = 4! = 24\n",
    "$$\n",
    "\n",
    "Dando un total de:\n",
    "\n",
    "$$\n",
    "9034502400 * 24 = 6102028800\n",
    "$$\n",
    "\n",
    "Iteraciones necesarias para resolver el algoritmo por fuerza bruta"
   ]
  },
  {
   "cell_type": "markdown",
   "metadata": {
    "id": "_Cmj-PVylMsa"
   },
   "source": [
    "Respuesta"
   ]
  },
  {
   "metadata": {
    "ExecuteTime": {
     "end_time": "2025-03-06T02:09:08.246508Z",
     "start_time": "2025-03-06T02:09:08.236489Z"
    }
   },
   "cell_type": "code",
   "source": [
    "import time\n",
    "\n",
    "#Generamos una función para medir el tiempo de los ejemplos, se usará como decorador\n",
    "def medir_tiempo(func):\n",
    "    def wrapper(*args, **kwargs):\n",
    "        start_time = time.time()\n",
    "        result = func(*args, **kwargs)\n",
    "        end_time = time.time()\n",
    "        elapsed_time = end_time - start_time\n",
    "        print(f\"Tiempo de ejecución de {func.__name__}: {elapsed_time:.4f} segundos\")\n",
    "        return result, elapsed_time\n",
    "    return wrapper"
   ],
   "outputs": [],
   "execution_count": 165
  },
  {
   "metadata": {
    "ExecuteTime": {
     "end_time": "2025-03-06T02:09:10.249274Z",
     "start_time": "2025-03-06T02:09:10.243767Z"
    }
   },
   "cell_type": "code",
   "source": [
    "\n",
    "#Redefinimos las funciones con el decorador\n",
    "@medir_tiempo\n",
    "def buscar_min_max_memo_time(numeros=None, print_results=False):\n",
    "    return buscar_min_max_memo(numeros, print_results)\n",
    "\n",
    "@medir_tiempo\n",
    "def buscar_min_max_memo_heu_time(numeros=None, print_results=False):\n",
    "    return buscar_min_max_memo_heu(numeros, print_results)\n",
    "\n",
    "@medir_tiempo\n",
    "def algoritmo_genetico_time(generaciones=100, poblacion_size=50, print_results=False):\n",
    "    return algoritmo_genetico(generaciones, poblacion_size, print_results)\n",
    "\n",
    "@medir_tiempo\n",
    "def random_search_time(poblacion=500):\n",
    "    return random_search(poblacion)\n"
   ],
   "outputs": [],
   "execution_count": 166
  },
  {
   "cell_type": "code",
   "metadata": {
    "id": "Jkx8GeiYlUz1",
    "ExecuteTime": {
     "end_time": "2025-03-06T01:51:07.395025Z",
     "start_time": "2025-03-06T01:45:09.300860Z"
    }
   },
   "source": [
    "\n",
    "#Para el mejor algoritmo de búsqueda en profundidad con poda y memoria\n",
    "(min_val, max_val), _ = buscar_min_max_memo_time(NUMBERS[:], True)\n",
    "\n",
    "print(\"Búsqueda en profundidad con poda y memoria\")\n",
    "print(\"Mínimo:\", min_val)\n",
    "print(\"Máximo:\", max_val)\n",
    "print(\"-\"*50, \"\\n\")\n",
    "\n",
    "\n",
    "# Para el algoritmo genético\n",
    "(min_expr, max_expr), _ = algoritmo_genetico_time(75, 500, True)\n",
    "\n",
    "print(\"Algoritmo genético\")\n",
    "print(f\"Mínimo encontrado: {min_expr.expr} = {min_expr.value}\")\n",
    "print(f\"Máximo encontrado: {max_expr.expr} = {max_expr.value}\")\n",
    "print(\"-\"*50, \"\\n\")\n",
    "\n",
    "# Para la búsqueda aleatoria\n",
    "(min_expr, max_expr), _ = random_search_time(1000)\n",
    "\n",
    "print(\"Búsqueda aleatoria\")\n",
    "print(f\"Mínimo encontrado: {min_expr.expr} = {min_expr.value}\")\n",
    "print(f\"Máximo encontrado: {max_expr.expr} = {max_expr.value}\")"
   ],
   "outputs": [
    {
     "name": "stdout",
     "output_type": "stream",
     "text": [
      "Iteraciones [37437586]\n",
      "Mejora con respecto al método anterior: -837.89 %\n",
      "Es continuo el resultado? no\n",
      "Tiempo de ejecución de buscar_min_max_memo_time: 353.5975 segundos\n",
      "Búsqueda en profundidad con poda y memoria\n",
      "Mínimo: -969189\n",
      "Máximo: 969207\n",
      "-------------------------------------------------- \n",
      "\n",
      "Máximo y minimo de la población 0 : -590431 855904\n",
      "Máximo y minimo de la población 25 : -924573 925831\n",
      "Máximo y minimo de la población 50 : -924573 925831\n",
      "Tiempo de ejecución de algoritmo_genetico_time: 2.6904 segundos\n",
      "Algoritmo genético\n",
      "Mínimo encontrado: 328-939*985+868/62 = -924573\n",
      "Máximo encontrado: 939*985-868/62+930 = 925831\n",
      "-------------------------------------------------- \n",
      "\n",
      "Tiempo de ejecución de random_search_time: 1.7983 segundos\n",
      "Búsqueda aleatoria\n",
      "Mínimo encontrado: 248/62+694-664*984 = -652678\n",
      "Máximo encontrado: 930*934+868-310/62 = 869483\n"
     ]
    }
   ],
   "execution_count": 160
  },
  {
   "metadata": {},
   "cell_type": "markdown",
   "source": [
    "Como se menciona anteriormente, para valores altos de $n$ la mejor búsqueda es por medio del algoritmo genético, aunque este no encuentre un valor óptimo, su aproximación es mejor que la búsqueda aleatoria y en un tiempo de tan solo 1.2 segundos comparado con los 289 de la búsqueda profunda con poda y memoria, ya que su complejidad algorítmica es menor a $O(n!)$.\n",
    "\n",
    "Adicionalmente, este valor se puede acercar más incrementando su población y generaciones, aunque claro esto puede aumentar el tiempo de ejecución."
   ]
  },
  {
   "metadata": {
    "ExecuteTime": {
     "end_time": "2025-03-05T23:44:54.117945Z",
     "start_time": "2025-03-05T23:44:42.363096Z"
    }
   },
   "cell_type": "code",
   "source": [
    "(min_expr, max_expr), _ = algoritmo_genetico_time(100, 3000, True)\n",
    "\n",
    "print(\"Algoritmo genético\")\n",
    "print(f\"Mínimo encontrado: {min_expr.expr} = {min_expr.value}\")\n",
    "print(f\"Máximo encontrado: {max_expr.expr} = {max_expr.value}\")\n",
    "print(\"-\"*50, \"\\n\")\n",
    "\n",
    "\n",
    "# Para la búsqueda aleatoria\n",
    "(min_expr, max_expr), _ = random_search_time(3000)\n",
    "\n",
    "print(\"Búsqueda aleatoria\")\n",
    "print(f\"Mínimo encontrado: {min_expr.expr} = {min_expr.value}\")\n",
    "print(f\"Máximo encontrado: {max_expr.expr} = {max_expr.value}\")\n",
    "\n"
   ],
   "outputs": [
    {
     "name": "stdout",
     "output_type": "stream",
     "text": [
      "Máximo y minimo de la población 0 : -983643 984522\n",
      "Máximo y minimo de la población 25 : -983778 984522\n",
      "Máximo y minimo de la población 50 : -983778 984522\n",
      "Máximo y minimo de la población 75 : -983778 984522\n",
      "Tiempo de ejecución de algoritmo_genetico_time: 10.0060 segundos\n",
      "Algoritmo genético\n",
      "Mínimo encontrado: 342/6+180-985*999 = -983778\n",
      "Máximo encontrado: 985*999-682/2+848 = 984522\n",
      "-------------------------------------------------- \n",
      "\n",
      "Tiempo de ejecución de random_search_time: 1.7298 segundos\n",
      "Búsqueda aleatoria\n",
      "Mínimo encontrado: 134+446/2-958*999 = -956685\n",
      "Máximo encontrado: 964*999+228/19-833 = 962215\n"
     ]
    }
   ],
   "execution_count": 55
  },
  {
   "metadata": {},
   "cell_type": "markdown",
   "source": "Por otra parte, el algoritmo de poda y memoria con heurística no es más eficiente al menos en términos de tiempo comparado con el de simple poda y memoria, posiblemente por el componente de historia al tener que hacer más operaciones, aunque claro, su aproximación es mejor que la búsqueda aleatoria."
  },
  {
   "metadata": {
    "ExecuteTime": {
     "end_time": "2025-03-06T03:20:06.094390Z",
     "start_time": "2025-03-06T03:19:00.735892Z"
    }
   },
   "cell_type": "code",
   "source": [
    "new_numbers = [random.randint(1, 1000) for _ in range(30)]\n",
    "new_numbers = list(set(new_numbers))\n",
    "new_numbers = [number for number in new_numbers if number != 0]\n",
    "\n",
    "#Para el mejor algoritmo de búsqueda en profundidad con poda, memoria y heurística\n",
    "(min_val, max_val), _ = buscar_min_max_memo_heu_time(new_numbers[:], True)\n",
    "\n",
    "print(\"Búsqueda en profundidad con poda, memoria y heurística\")\n",
    "print(\"Mínimo:\", min_val)\n",
    "print(\"Máximo:\", max_val)\n",
    "print(\"-\"*50, \"\\n\")\n"
   ],
   "outputs": [
    {
     "name": "stdout",
     "output_type": "stream",
     "text": [
      "Iteraciones [315842]\n",
      "Mejora con respecto al método anterior:  92.09 %\n",
      "Es continuo el resultado? no\n",
      "Tiempo de ejecución de buscar_min_max_memo_heu_time: 65.3409 segundos\n",
      "Búsqueda en profundidad con poda, memoria y heurística\n",
      "Mínimo: -942070\n",
      "Máximo: 637287\n",
      "-------------------------------------------------- \n",
      "\n"
     ]
    }
   ],
   "execution_count": 179
  },
  {
   "metadata": {},
   "cell_type": "markdown",
   "source": "### Escalabilidad en el tiempo y espacio"
  },
  {
   "metadata": {},
   "cell_type": "markdown",
   "source": "Podemos observar la escalabilidad en el tiempo con respecto a los datos de entrada de las funciones de la forma:"
  },
  {
   "metadata": {
    "ExecuteTime": {
     "end_time": "2025-03-06T02:18:31.215197Z",
     "start_time": "2025-03-06T02:09:14.525136Z"
    }
   },
   "cell_type": "code",
   "source": [
    "def make_random_list(n):\n",
    "    new_numbers = [random.randint(1, 1000) for _ in range(n)]\n",
    "    new_numbers = list(set(new_numbers))\n",
    "    new_numbers = [number for number in new_numbers if number != 0]\n",
    "    return new_numbers\n",
    "\n",
    "n = range(1, 32, 3)\n",
    "\n",
    "max_min_time = []\n",
    "max_min_heu = []\n",
    "genetic_time = []\n",
    "random_time = []\n",
    "\n",
    "for i in n:\n",
    "    numbers = make_random_list(i)\n",
    "\n",
    "    _, time_val = buscar_min_max_memo_time(numbers[:])\n",
    "    max_min_time.append(time_val)\n",
    "\n",
    "    _, time_val = buscar_min_max_memo_heu_time(numbers[:])\n",
    "    max_min_heu.append(time_val)\n",
    "\n",
    "    _, time_val = algoritmo_genetico_time(75, 500)\n",
    "    genetic_time.append(time_val)\n",
    "\n",
    "    _, time_val = random_search_time(1000)\n",
    "    random_time.append(time_val)"
   ],
   "outputs": [
    {
     "name": "stdout",
     "output_type": "stream",
     "text": [
      "Tiempo de ejecución de buscar_min_max_memo_time: 0.0000 segundos\n",
      "Tiempo de ejecución de buscar_min_max_memo_heu_time: 0.0000 segundos\n",
      "Tiempo de ejecución de algoritmo_genetico_time: 1.7818 segundos\n",
      "Tiempo de ejecución de random_search_time: 1.6180 segundos\n",
      "Tiempo de ejecución de buscar_min_max_memo_time: 0.0010 segundos\n",
      "Tiempo de ejecución de buscar_min_max_memo_heu_time: 0.0015 segundos\n",
      "Tiempo de ejecución de algoritmo_genetico_time: 1.7709 segundos\n",
      "Tiempo de ejecución de random_search_time: 1.5688 segundos\n",
      "Tiempo de ejecución de buscar_min_max_memo_time: 0.0165 segundos\n",
      "Tiempo de ejecución de buscar_min_max_memo_heu_time: 0.0171 segundos\n",
      "Tiempo de ejecución de algoritmo_genetico_time: 1.6914 segundos\n",
      "Tiempo de ejecución de random_search_time: 1.5042 segundos\n",
      "Tiempo de ejecución de buscar_min_max_memo_time: 0.0880 segundos\n",
      "Tiempo de ejecución de buscar_min_max_memo_heu_time: 0.3653 segundos\n",
      "Tiempo de ejecución de algoritmo_genetico_time: 1.7891 segundos\n",
      "Tiempo de ejecución de random_search_time: 1.5062 segundos\n",
      "Tiempo de ejecución de buscar_min_max_memo_time: 0.3831 segundos\n",
      "Tiempo de ejecución de buscar_min_max_memo_heu_time: 0.1583 segundos\n",
      "Tiempo de ejecución de algoritmo_genetico_time: 1.7950 segundos\n",
      "Tiempo de ejecución de random_search_time: 1.8449 segundos\n",
      "Tiempo de ejecución de buscar_min_max_memo_time: 0.8762 segundos\n",
      "Tiempo de ejecución de buscar_min_max_memo_heu_time: 4.0153 segundos\n",
      "Tiempo de ejecución de algoritmo_genetico_time: 1.9432 segundos\n",
      "Tiempo de ejecución de random_search_time: 1.8130 segundos\n",
      "Tiempo de ejecución de buscar_min_max_memo_time: 1.7435 segundos\n",
      "Tiempo de ejecución de buscar_min_max_memo_heu_time: 20.6704 segundos\n",
      "Tiempo de ejecución de algoritmo_genetico_time: 1.9421 segundos\n",
      "Tiempo de ejecución de random_search_time: 1.6462 segundos\n",
      "Tiempo de ejecución de buscar_min_max_memo_time: 6.2554 segundos\n",
      "Tiempo de ejecución de buscar_min_max_memo_heu_time: 3.5558 segundos\n",
      "Tiempo de ejecución de algoritmo_genetico_time: 2.0260 segundos\n",
      "Tiempo de ejecución de random_search_time: 2.0401 segundos\n",
      "Tiempo de ejecución de buscar_min_max_memo_time: 7.9813 segundos\n",
      "Tiempo de ejecución de buscar_min_max_memo_heu_time: 22.6994 segundos\n",
      "Tiempo de ejecución de algoritmo_genetico_time: 1.9354 segundos\n",
      "Tiempo de ejecución de random_search_time: 1.6679 segundos\n",
      "Tiempo de ejecución de buscar_min_max_memo_time: 12.0103 segundos\n",
      "Tiempo de ejecución de buscar_min_max_memo_heu_time: 376.2853 segundos\n",
      "Tiempo de ejecución de algoritmo_genetico_time: 2.1141 segundos\n",
      "Tiempo de ejecución de random_search_time: 2.1186 segundos\n",
      "Tiempo de ejecución de buscar_min_max_memo_time: 32.0337 segundos\n",
      "Tiempo de ejecución de buscar_min_max_memo_heu_time: 26.9147 segundos\n",
      "Tiempo de ejecución de algoritmo_genetico_time: 2.3083 segundos\n",
      "Tiempo de ejecución de random_search_time: 2.1777 segundos\n"
     ]
    }
   ],
   "execution_count": 167
  },
  {
   "metadata": {
    "ExecuteTime": {
     "end_time": "2025-03-06T02:50:20.316158Z",
     "start_time": "2025-03-06T02:50:20.162197Z"
    }
   },
   "cell_type": "code",
   "source": [
    "plt.figure(figsize=(10, 6))\n",
    "plt.plot(n, max_min_time, label=\"DPS con poda y memoria\")\n",
    "plt.plot(n, max_min_heu, label=\"DPS poda, memoria y heurística\")\n",
    "plt.plot(n, genetic_time, label=\"Algoritmo genético\")\n",
    "plt.plot(n, random_time, label=\"Búsqueda aleatoria\")\n",
    "plt.xlabel(\"Número de elementos\")\n",
    "plt.ylabel(\"Tiempo (s)\")\n",
    "plt.legend()\n",
    "plt.title(\"Escalabilidad en el tiempo\")\n",
    "plt.show()"
   ],
   "outputs": [
    {
     "data": {
      "text/plain": [
       "<Figure size 1000x600 with 1 Axes>"
      ],
      "image/png": "[encoded data removed]"
     },
     "metadata": {},
     "output_type": "display_data"
    }
   ],
   "execution_count": 170
  },
  {
   "metadata": {
    "ExecuteTime": {
     "end_time": "2025-03-06T02:50:44.877918Z",
     "start_time": "2025-03-06T02:50:44.765796Z"
    }
   },
   "cell_type": "code",
   "source": [
    "plt.plot(n, max_min_time, label=\"DPS con poda y memoria\")\n",
    "plt.plot(n, genetic_time, label=\"Algoritmo genético\")\n",
    "plt.plot(n, random_time, label=\"Búsqueda aleatoria\")\n",
    "plt.xlabel(\"Número de elementos\")\n",
    "plt.ylabel(\"Tiempo (s)\")\n",
    "plt.legend()\n",
    "plt.title(\"Escalabilidad en el tiempo\")\n",
    "plt.show()"
   ],
   "outputs": [
    {
     "data": {
      "text/plain": [
       "<Figure size 640x480 with 1 Axes>"
      ],
      "image/png": "[encoded data removed]"
     },
     "metadata": {},
     "output_type": "display_data"
    }
   ],
   "execution_count": 172
  },
  {
   "metadata": {},
   "cell_type": "markdown",
   "source": "De esta forma ejemplificando el problema mencionado anteriormente, aunque se desarollen tecnicas de poda, memoria y heurisitica, la complejidad algoritmica sigue siendo $O(n!)$, por lo que para valores altos de $n$ no es viable el uso de estos métodos, por otro lado, el algoritmo genético es más eficiente en términos de tiempo y espacio, aunque claro, no se obtiene un resultado óptimo."
  },
  {
   "metadata": {
    "ExecuteTime": {
     "end_time": "2025-03-06T03:04:02.740723Z",
     "start_time": "2025-03-06T03:02:43.192045Z"
    }
   },
   "cell_type": "code",
   "source": [
    "n = range(1, 100, 5)\n",
    "\n",
    "genetic_time = []\n",
    "random_time = []\n",
    "\n",
    "for i in n:\n",
    "    numbers = make_random_list(i)\n",
    "\n",
    "    _, time_val = algoritmo_genetico_time(75, 500)\n",
    "    genetic_time.append(time_val)\n",
    "\n",
    "    _, time_val = random_search_time(1000)\n",
    "    random_time.append(time_val)"
   ],
   "outputs": [
    {
     "name": "stdout",
     "output_type": "stream",
     "text": [
      "Tiempo de ejecución de algoritmo_genetico_time: 2.1229 segundos\n",
      "Tiempo de ejecución de random_search_time: 1.6942 segundos\n",
      "Tiempo de ejecución de algoritmo_genetico_time: 1.7924 segundos\n",
      "Tiempo de ejecución de random_search_time: 1.6708 segundos\n",
      "Tiempo de ejecución de algoritmo_genetico_time: 1.9019 segundos\n",
      "Tiempo de ejecución de random_search_time: 1.6915 segundos\n",
      "Tiempo de ejecución de algoritmo_genetico_time: 2.1805 segundos\n",
      "Tiempo de ejecución de random_search_time: 1.6913 segundos\n",
      "Tiempo de ejecución de algoritmo_genetico_time: 2.0508 segundos\n",
      "Tiempo de ejecución de random_search_time: 1.9110 segundos\n",
      "Tiempo de ejecución de algoritmo_genetico_time: 2.3438 segundos\n",
      "Tiempo de ejecución de random_search_time: 2.1223 segundos\n",
      "Tiempo de ejecución de algoritmo_genetico_time: 2.1646 segundos\n",
      "Tiempo de ejecución de random_search_time: 2.0220 segundos\n",
      "Tiempo de ejecución de algoritmo_genetico_time: 2.2352 segundos\n",
      "Tiempo de ejecución de random_search_time: 1.9557 segundos\n",
      "Tiempo de ejecución de algoritmo_genetico_time: 2.1398 segundos\n",
      "Tiempo de ejecución de random_search_time: 1.8836 segundos\n",
      "Tiempo de ejecución de algoritmo_genetico_time: 2.1450 segundos\n",
      "Tiempo de ejecución de random_search_time: 2.0010 segundos\n",
      "Tiempo de ejecución de algoritmo_genetico_time: 2.1336 segundos\n",
      "Tiempo de ejecución de random_search_time: 1.9680 segundos\n",
      "Tiempo de ejecución de algoritmo_genetico_time: 2.0560 segundos\n",
      "Tiempo de ejecución de random_search_time: 1.8949 segundos\n",
      "Tiempo de ejecución de algoritmo_genetico_time: 2.1226 segundos\n",
      "Tiempo de ejecución de random_search_time: 1.9024 segundos\n",
      "Tiempo de ejecución de algoritmo_genetico_time: 2.2438 segundos\n",
      "Tiempo de ejecución de random_search_time: 1.9959 segundos\n",
      "Tiempo de ejecución de algoritmo_genetico_time: 2.2033 segundos\n",
      "Tiempo de ejecución de random_search_time: 1.8260 segundos\n",
      "Tiempo de ejecución de algoritmo_genetico_time: 2.0849 segundos\n",
      "Tiempo de ejecución de random_search_time: 1.8141 segundos\n",
      "Tiempo de ejecución de algoritmo_genetico_time: 2.0633 segundos\n",
      "Tiempo de ejecución de random_search_time: 1.9220 segundos\n",
      "Tiempo de ejecución de algoritmo_genetico_time: 2.0098 segundos\n",
      "Tiempo de ejecución de random_search_time: 1.8076 segundos\n",
      "Tiempo de ejecución de algoritmo_genetico_time: 2.0645 segundos\n",
      "Tiempo de ejecución de random_search_time: 1.9117 segundos\n",
      "Tiempo de ejecución de algoritmo_genetico_time: 2.0203 segundos\n",
      "Tiempo de ejecución de random_search_time: 1.7737 segundos\n"
     ]
    }
   ],
   "execution_count": 174
  },
  {
   "metadata": {
    "ExecuteTime": {
     "end_time": "2025-03-06T03:04:24.395867Z",
     "start_time": "2025-03-06T03:04:24.270374Z"
    }
   },
   "cell_type": "code",
   "source": [
    "plt.plot(n, genetic_time, label=\"Algoritmo genético\")\n",
    "plt.plot(n, random_time, label=\"Búsqueda aleatoria\")\n",
    "plt.xlabel(\"Número de elementos\")\n",
    "plt.ylabel(\"Tiempo (s)\")\n",
    "plt.legend()\n",
    "plt.title(\"Escalabilidad en el tiempo\")\n",
    "plt.show()"
   ],
   "outputs": [
    {
     "data": {
      "text/plain": [
       "<Figure size 640x480 with 1 Axes>"
      ],
      "image/png": "[encoded data removed]"
     },
     "metadata": {},
     "output_type": "display_data"
    }
   ],
   "execution_count": 175
  },
  {
   "metadata": {},
   "cell_type": "markdown",
   "source": "Como se puede observar ambos métodos no varían mucho respecto al tamaño de datos, lo cual es la ventaja del uso de la metaheurística, tener un tiempo y espacio controlado a problemas de gran escala."
  },
  {
   "metadata": {
    "id": "eTFWUJQrtGcv"
   },
   "cell_type": "markdown",
   "source": "Enumera las referencias que has utilizado(si ha sido necesario) para llevar a cabo el trabajo"
  },
  {
   "cell_type": "markdown",
   "metadata": {
    "id": "YKQ_mRBttWsP"
   },
   "source": [
    "Respuesta"
   ]
  },
  {
   "metadata": {},
   "cell_type": "markdown",
   "source": [
    "\n",
    "\n",
    "- A. Duarte Muñoz, Metaheurísticas. Dykinson, 2007. [En línea]. Disponible en: https://elibro.net/es/ereader/universidadviu/35696\n",
    "- Raúl Reyero Díez, Algoritmos de optimización.\n",
    "\n"
   ]
  },
  {
   "cell_type": "markdown",
   "metadata": {
    "id": "kAkDPUyRtYyH"
   },
   "source": [
    "Describe brevemente las lineas de como crees que es posible avanzar en el estudio del problema. Ten en cuenta incluso posibles variaciones del problema y/o variaciones al alza del tamaño"
   ]
  },
  {
   "cell_type": "markdown",
   "metadata": {
    "id": "IE0uZmo-tZu-"
   },
   "source": [
    "Respuesta"
   ]
  },
  {
   "metadata": {},
   "cell_type": "markdown",
   "source": [
    "En este caso el estudio solo encontró resultados aproximados y no los optimos para valores de $n$ altos, y en el caso del problema inicial se logra mejorar un 98 % con respecto al método de fuerza bruta respecto a los métodos exactos. Además del estudio de la variación valores numéricos y el tamaño de la lista de entrada, otra fase del estudio puede ser en el caso de la adición de operaciones como raices, potencias, logaritmos, etc, otro punto de mejora es en la búsqueda heurística, por medio de la búsqueda profunda modificando la función de coste para una mejora adaptabilidad para $n$ escenarios.\n",
    "\n",
    "En el caso de métodos metaheurísticos se puede probar con el recocido simulado o la colonia de hormigas para encontrar mejores resultados, además de la optimización de los parámetros de los algoritmos genéticos para encontrar mejores resultados, nuevas formas de recombinación o de mutación, con reglas específicas de generar \"super hijos\" mediante el ordenamiento de los números y su adición o sustracción dependiendo de la necesidad.\n",
    "\n",
    "Adicional a esto en sendos casos se pueden implementar reglas específicas para el problema, el énfasis de este trabajo fue solucionarlo de manera general pero se vería beneficiado si a través de algunas operaciones semillas se pueda calcular cuál es el máximo o minimo de dicho conjunto de números, para luego procesarlo con un set de reglas que permita elegir entre los números y operaciones disponibles cual es su máximo o minimo."
   ]
  }
 ]
}
