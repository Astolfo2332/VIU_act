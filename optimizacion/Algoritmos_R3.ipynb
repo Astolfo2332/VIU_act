{
 "cells": [
  {
   "metadata": {},
   "cell_type": "markdown",
   "source": [
    "### Implementar uno de los siguientes retos para el problema de TSP trabajado en clase:\n",
    "- Mejorar la implementación de búsqueda local implementada en  clase sobre el TSP con otros operadores de vecindad.\n",
    "- Implementar el algoritmo de búsqueda tabú para el TSP de la AG3.\n",
    "- Mejorar la implementación de recocido simulado implementado en clase sobre el TSP eligiendo una generación de solución vecina con un grado de aleatoriedad menor (función genera_vecino_aleatorio()).\n",
    " - Mejorar la implementación de colonia de hormigas implementada en clase sobre el TSP mediante una elección de nodo que tenga en consideración una función de probabilidad que depende de las feromonas.\n",
    "- Mejorar la implementación del algoritmo genético propuesto para la resolución del TSP."
   ],
   "id": "dcd24f754431acd4"
  },
  {
   "cell_type": "code",
   "execution_count": null,
   "id": "initial_id",
   "metadata": {
    "collapsed": true
   },
   "outputs": [],
   "source": [
    ""
   ]
  }
 ],
 "metadata": {
  "kernelspec": {
   "display_name": "Python 3",
   "language": "python",
   "name": "python3"
  },
  "language_info": {
   "codemirror_mode": {
    "name": "ipython",
    "version": 2
   },
   "file_extension": ".py",
   "mimetype": "text/x-python",
   "name": "python",
   "nbconvert_exporter": "python",
   "pygments_lexer": "ipython2",
   "version": "2.7.6"
  }
 },
 "nbformat": 4,
 "nbformat_minor": 5
}
