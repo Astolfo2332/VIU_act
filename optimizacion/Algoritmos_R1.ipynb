{
 "cells": [
  {
   "cell_type": "markdown",
   "metadata": {
    "id": "kQn6fbhgtH9I"
   },
   "source": [
    "# Algoritmos de optimización - Reto 1\n",
    "\n",
    "Nombre: <br> Miguel López Vélez <br>\n",
    "Github: <br> Astolfo2332 <br>"
   ]
  },
  {
   "cell_type": "markdown",
   "metadata": {
    "id": "_t62Ge7ZuKnC"
   },
   "source": [
    "## Torres de Hanoi con Divide y vencerás\n",
    "\n",
    "Resuelve el problema de las [Torres de Hanoi](https://es.wikipedia.org/wiki/Torres_de_Han%C3%B3i) para un número arbitrario de fichas utilizando la técnica de divide y vencerás. "
   ]
  },
  {
   "cell_type": "code",
   "metadata": {
    "colab": {
     "base_uri": "https://localhost:8080/"
    },
    "id": "i32G0CUQvauE",
    "outputId": "c3398cec-661d-46a5-b9db-0a0ad168f64a"
   },
   "source": [
    "# Torres de Hanoi\n",
    "#Primero definimos el objeto torre de hanoi\n",
    "def hanoi(n, origen, auxiliar, destino):\n",
    "    if n == 1:\n",
    "        print(f'Mover disco de {origen} a {destino}')\n",
    "    else:\n",
    "        hanoi(n-1, origen, destino, auxiliar)\n",
    "        print(f'Mover disco de {origen} a {destino}')\n",
    "        hanoi(n-1, auxiliar, origen, destino)\n",
    "\n"
   ],
   "outputs": [],
   "execution_count": null
  },
  {
   "cell_type": "markdown",
   "metadata": {},
   "source": [
    "## Sucesión de Fibonacci\n",
    "\n",
    "Cálcula el n-ésimo término de la [Sucesión de Fibonacci](https://es.wikipedia.org/wiki/Sucesi%C3%B3n_de_Fibonacci) mediante un algoritmo recursivo y otro iterativo. Representa gráficamente cómo crece el tiempo de cómputo en función del número de términos para ambos algoritmos."
   ]
  },
  {
   "metadata": {
    "colab": {
     "base_uri": "https://localhost:8080/"
    },
    "id": "74qZZAekiNYR",
    "outputId": "acc17268-7f87-4de4-ae5a-4fc6ce09d385",
    "ExecuteTime": {
     "end_time": "2025-01-31T08:03:27.506748Z",
     "start_time": "2025-01-31T08:02:58.928503Z"
    }
   },
   "cell_type": "code",
   "source": [
    "import pytest\n",
    "#Sucesión_de_Fibonacci\n",
    "import sys\n",
    "sys.setrecursionlimit(1000000)\n",
    "\n",
    "def fibonacci_recursivo(n):\n",
    "    if n <= 1:\n",
    "        return n\n",
    "    else:\n",
    "        #Ya que el siguiente termino es nada más que la sumatoria de los dos anteriores a este\n",
    "        return fibonacci_recursivo(n-1) + fibonacci_recursivo(n-2)\n",
    "\n",
    "print(fibonacci_recursivo(40))\n",
    "\n",
    "\n",
    "#Metodo iterativo\n",
    "def fibonacci_iterativo(n):\n",
    "    a = 0\n",
    "    b = 1\n",
    "    #Realizamos un for loop para ir sumando los valores de a y b en el rango de n\n",
    "    for i in range(n):\n",
    "        a, b = b, a + b\n",
    "    return a\n",
    "\n",
    "print(fibonacci_iterativo(10))\n",
    "\n",
    "#Pruebas\n",
    "def test_fibonacci():\n",
    "    assert fibonacci_recursivo(10) == 55\n",
    "    assert fibonacci_iterativo(10) == 55"
   ],
   "outputs": [
    {
     "name": "stdout",
     "output_type": "stream",
     "text": [
      "102334155\n",
      "55\n"
     ]
    }
   ],
   "execution_count": 1
  },
  {
   "metadata": {},
   "cell_type": "markdown",
   "source": [
    "\n",
    "Ahora gráficamos el tiempo de cómputo en función del número de términos para ambos algoritmos."
   ]
  },
  {
   "metadata": {
    "ExecuteTime": {
     "end_time": "2025-01-31T07:51:50.442304Z",
     "start_time": "2025-01-31T07:51:03.595658Z"
    }
   },
   "cell_type": "code",
   "source": [
    "import time\n",
    "import matplotlib.pyplot as plt\n",
    "\n",
    "def medir_tiempo(func,  n):\n",
    "    tiempo_inicial = time.time()\n",
    "    func(n)\n",
    "    tiempo_final = time.time()\n",
    "    return tiempo_final - tiempo_inicial\n",
    "\n",
    "n_values = list(range(1, 40))\n",
    "\n",
    "tiempos_recursivo = [medir_tiempo(fibonacci_recursivo, n) for n in n_values]\n",
    "tiempos_iterativo = [medir_tiempo(fibonacci_iterativo, n) for n in n_values]\n"
   ],
   "outputs": [],
   "execution_count": 2
  },
  {
   "metadata": {
    "ExecuteTime": {
     "end_time": "2025-01-31T07:52:11.494705Z",
     "start_time": "2025-01-31T07:52:11.330751Z"
    }
   },
   "cell_type": "code",
   "source": [
    "plt.plot(n_values, tiempos_recursivo, label='Recursivo')\n",
    "plt.plot(n_values, tiempos_iterativo, label='Iterativo')\n",
    "plt.xlabel('Número de términos')\n",
    "plt.ylabel('Tiempo de cómputo')\n",
    "plt.legend()\n",
    "plt.show()\n",
    "\n",
    "\n"
   ],
   "outputs": [
    {
     "data": {
      "text/plain": [
       "<Figure size 640x480 with 1 Axes>"
      ],
      "image/png": "[encoded data removed]"
     },
     "metadata": {},
     "output_type": "display_data"
    }
   ],
   "execution_count": 3
  },
  {
   "metadata": {},
   "cell_type": "markdown",
   "source": "También podemos calcular la complejidad de ambos algoritmos."
  },
  {
   "metadata": {
    "ExecuteTime": {
     "end_time": "2025-01-31T08:12:02.380026Z",
     "start_time": "2025-01-31T08:03:27.693645Z"
    }
   },
   "cell_type": "code",
   "source": [
    "import big_o\n",
    "\n",
    "results_rec = big_o.big_o(fibonacci_recursivo, big_o.datagen.n_, n_repeats=10, min_n=1, max_n=40)\n",
    "results_it = big_o.big_o(fibonacci_iterativo, big_o.datagen.n_, n_repeats=10, min_n=1, max_n=40)"
   ],
   "outputs": [],
   "execution_count": 2
  },
  {
   "metadata": {
    "ExecuteTime": {
     "end_time": "2025-01-31T08:30:47.333454Z",
     "start_time": "2025-01-31T08:30:47.327338Z"
    }
   },
   "cell_type": "code",
   "source": [
    "print(results_rec[0])\n",
    "print(results_it[0])"
   ],
   "outputs": [
    {
     "name": "stdout",
     "output_type": "stream",
     "text": [
      "Exponential: time = 2.6E-06 * 1.6^n (sec)\n",
      "Constant: time = 1.6E-05 (sec)\n"
     ]
    }
   ],
   "execution_count": 5
  },
  {
   "metadata": {},
   "cell_type": "markdown",
   "source": [
    "De esta manera podemos probar que el algoritmo recursivo tiene una complejidad exponencial O(2^n) mientras que el algoritmo iterativo tiene una complejidad lineal O(n).\n",
    "\n",
    "Esto debido a la propía implementación de cada algoritmo al ser recursivo se va a llamar a sí mismo n veces, mientras que el iterativo solo se va a llamar n veces.\n",
    "\n",
    "Siendo en este caso mejor solución y más eficiente el algoritmo iterativo. Más, sin embargo, es mejor usar la fórmula de [Binet](https://es.wikipedia.org/wiki/Sucesi%C3%B3n_de_Fibonacci#Equation_5) para calcular la sucesión de Fibonacci."
   ]
  },
  {
   "metadata": {
    "id": "RgT5XJsZ429L"
   },
   "cell_type": "markdown",
   "source": [
    "## Devolución de cambio por técnica voraz\n",
    "\n",
    "Resuelve el [Problema del Cambio de Moneda](https://es.wikipedia.org/wiki/Problema_de_cambio_de_monedas) utilizando una técnica voraz."
   ]
  },
  {
   "metadata": {
    "colab": {
     "base_uri": "https://localhost:8080/"
    },
    "id": "uJtftBLU4-ap",
    "outputId": "b52f7a2c-771b-4c2e-81ab-c4c3ea01318d",
    "ExecuteTime": {
     "end_time": "2025-02-01T00:46:41.880225Z",
     "start_time": "2025-02-01T00:46:41.868226Z"
    }
   },
   "cell_type": "code",
   "source": [
    "# Problema del cambio de moneda\n",
    "import pytest\n",
    "\n",
    "def cambio_monedas(cantidad, monedas):\n",
    "    #Ordenamos las monedas de mayor a menor\n",
    "    #Ya que necesitamos conocer el valor descendente de monedas\n",
    "    #Inicializamos uan lista vacía para guardar la solución\n",
    "    solucion = [0 for _ in monedas]\n",
    "    #Ordenamos las monedas de mayor a menor para poder hacer la división\n",
    "    for i, valor in enumerate(sorted(monedas, reverse=True)):\n",
    "        solucion[i] = cantidad // valor\n",
    "        cantidad %= valor\n",
    "    return solucion\n",
    "\n",
    "print(cambio_monedas(200, [25, 10, 5, 1]))\n",
    "\n",
    "\n",
    "\n",
    "#Pruebas\n",
    "def test_cambio_monedas():\n",
    "    assert cambio_monedas(123, [25, 10, 5, 1]) == [4, 2, 0, 3]\n",
    "    assert cambio_monedas(123, [25, 10, 5, 1]) != [4, 2, 1, 3]"
   ],
   "outputs": [
    {
     "name": "stdout",
     "output_type": "stream",
     "text": [
      "[8, 0, 0, 0]\n"
     ]
    }
   ],
   "execution_count": 6
  },
  {
   "metadata": {
    "id": "g8M9GTvy_Fa3"
   },
   "cell_type": "markdown",
   "source": [
    "## N-Reinas por técnica de vuelta atrás\n",
    "Resuelve el [Problema de las N-Reinas](https://es.wikipedia.org/wiki/Problema_de_las_ocho_reinas) en un tablero de dimensión N mediante la técnica de la vuelta atrás (backtraking)."
   ]
  },
  {
   "cell_type": "code",
   "execution_count": 5,
   "metadata": {
    "id": "FqOPyCmv_K65"
   },
   "outputs": [],
   "source": [
    "# Problema de las N-Reinas\n",
    "\n",
    "\n",
    "\n",
    "\n"
   ]
  },
  {
   "cell_type": "code",
   "execution_count": null,
   "metadata": {},
   "outputs": [],
   "source": []
  }
 ],
 "metadata": {
  "colab": {
   "provenance": [],
   "toc_visible": true
  },
  "kernelspec": {
   "display_name": "Python [conda env:viu-AI]",
   "language": "python",
   "name": "conda-env-viu-AI-py"
  },
  "language_info": {
   "codemirror_mode": {
    "name": "ipython",
    "version": 3
   },
   "file_extension": ".py",
   "mimetype": "text/x-python",
   "name": "python",
   "nbconvert_exporter": "python",
   "pygments_lexer": "ipython3",
   "version": "3.11.5"
  }
 },
 "nbformat": 4,
 "nbformat_minor": 1
}
