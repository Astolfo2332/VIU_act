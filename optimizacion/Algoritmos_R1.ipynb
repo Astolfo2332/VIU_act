{
 "cells": [
  {
   "metadata": {},
   "cell_type": "markdown",
   "source": [
    "\n",
    "<a href=\"https://githubtocolab.com/Astolfo2332/VIU_act/blob/main/optimizacion/Algoritmos_R1.ipynb\" target=\"_parent\\\">\n",
    "<img src=\"https://colab.research.google.com/assets/colab-badge.svg\" alt=\"Open in Colab\" > </a>\n"
   ]
  },
  {
   "cell_type": "markdown",
   "metadata": {
    "id": "kQn6fbhgtH9I"
   },
   "source": [
    "# Algoritmos de optimización - Reto 1\n",
    "\n",
    "Nombre: <br> Miguel López Vélez <br>\n",
    "Github: <br> [Astolfo2332](https://github.com/Astolfo2332/VIU_act) <br>"
   ]
  },
  {
   "cell_type": "markdown",
   "metadata": {
    "id": "_t62Ge7ZuKnC"
   },
   "source": [
    "## Torres de Hanoi con Divide y vencerás\n",
    "\n",
    "Resuelve el problema de las [Torres de Hanoi](https://es.wikipedia.org/wiki/Torres_de_Han%C3%B3i) para un número arbitrario de fichas utilizando la técnica de divide y vencerás."
   ]
  },
  {
   "metadata": {},
   "cell_type": "markdown",
   "source": [
    "Inicialmente, debemos de identificar el problema.\n",
    "\n",
    "El problema de las torres de Hanoi consiste en mover una torre de fichas de un poste a otro, teniendo en cuenta que no se puede colocar una ficha más grande sobre una más pequeña.\n",
    "\n",
    "Para su solución por el método divide y vencerás se realiza de la siguiente manera:\n",
    "\n",
    "- Se divide el problema en subproblemas más pequeños, en este caso mover n-1 fichas a un poste auxiliar.\n",
    "- Se mueve la ficha n a su destino.\n",
    "- Se mueven las n-1 fichas al poste destino.\n",
    "- Se repite el proceso hasta que todas las fichas estén en el poste destino.\n",
    "- Se realiza la recursión de la función hasta que se cumpla la condición de parada.\n"
   ]
  },
  {
   "metadata": {
    "colab": {
     "base_uri": "https://localhost:8080/"
    },
    "id": "i32G0CUQvauE",
    "outputId": "c3398cec-661d-46a5-b9db-0a0ad168f64a",
    "ExecuteTime": {
     "end_time": "2025-02-02T07:22:31.765270Z",
     "start_time": "2025-02-02T07:22:31.757820Z"
    }
   },
   "cell_type": "code",
   "source": [
    "# Torres de Hanoi\n",
    "#Primero definimos el objeto torre de hanoi\n",
    "class Hanoi:\n",
    "    def __init__(self, n):\n",
    "        #Inicializamos el número de discos y las torres\n",
    "        self.n = n\n",
    "        self.torres = [[i for i in range(n, 0, -1)], [], []]\n",
    "        print(f\"Torres iniciales: {self.torres}\")\n",
    "\n",
    "    def mover(self, origen, destino):\n",
    "        #Generamos una función de mover la cual elimina el disco de la torre origen y lo coloca en la torre destino\n",
    "        disco = self.torres[origen].pop()\n",
    "        self.torres[destino].append(disco)\n",
    "        print(f'Mover disco {disco} de torre {origen} a torre {destino}')\n",
    "        print(self.torres)\n",
    "\n",
    "    def resolver(self, n, origen, destino, auxiliar):\n",
    "        #Generamos una función recursiva para resolver el problema\n",
    "        if n == 1:\n",
    "            self.mover(origen, destino)\n",
    "        else:\n",
    "            self.resolver(n-1, origen, auxiliar, destino)\n",
    "            self.mover(origen, destino)\n",
    "            self.resolver(n-1, auxiliar, destino, origen)\n",
    "\n",
    "    def __str__(self):\n",
    "        return str(self.torres)\n",
    "\n",
    "\n",
    "hanoi = Hanoi(3)\n",
    "hanoi.resolver(3, 0, 2, 1)\n",
    "\n",
    "print(\"-\"*50)\n",
    "\n",
    "hanoi = Hanoi(4)\n",
    "hanoi.resolver(4, 0, 1, 2)"
   ],
   "outputs": [
    {
     "name": "stdout",
     "output_type": "stream",
     "text": [
      "Torres iniciales: [[3, 2, 1], [], []]\n",
      "Mover disco 1 de torre 0 a torre 2\n",
      "[[3, 2], [], [1]]\n",
      "Mover disco 2 de torre 0 a torre 1\n",
      "[[3], [2], [1]]\n",
      "Mover disco 1 de torre 2 a torre 1\n",
      "[[3], [2, 1], []]\n",
      "Mover disco 3 de torre 0 a torre 2\n",
      "[[], [2, 1], [3]]\n",
      "Mover disco 1 de torre 1 a torre 0\n",
      "[[1], [2], [3]]\n",
      "Mover disco 2 de torre 1 a torre 2\n",
      "[[1], [], [3, 2]]\n",
      "Mover disco 1 de torre 0 a torre 2\n",
      "[[], [], [3, 2, 1]]\n",
      "--------------------------------------------------\n",
      "Torres iniciales: [[4, 3, 2, 1], [], []]\n",
      "Mover disco 1 de torre 0 a torre 2\n",
      "[[4, 3, 2], [], [1]]\n",
      "Mover disco 2 de torre 0 a torre 1\n",
      "[[4, 3], [2], [1]]\n",
      "Mover disco 1 de torre 2 a torre 1\n",
      "[[4, 3], [2, 1], []]\n",
      "Mover disco 3 de torre 0 a torre 2\n",
      "[[4], [2, 1], [3]]\n",
      "Mover disco 1 de torre 1 a torre 0\n",
      "[[4, 1], [2], [3]]\n",
      "Mover disco 2 de torre 1 a torre 2\n",
      "[[4, 1], [], [3, 2]]\n",
      "Mover disco 1 de torre 0 a torre 2\n",
      "[[4], [], [3, 2, 1]]\n",
      "Mover disco 4 de torre 0 a torre 1\n",
      "[[], [4], [3, 2, 1]]\n",
      "Mover disco 1 de torre 2 a torre 1\n",
      "[[], [4, 1], [3, 2]]\n",
      "Mover disco 2 de torre 2 a torre 0\n",
      "[[2], [4, 1], [3]]\n",
      "Mover disco 1 de torre 1 a torre 0\n",
      "[[2, 1], [4], [3]]\n",
      "Mover disco 3 de torre 2 a torre 1\n",
      "[[2, 1], [4, 3], []]\n",
      "Mover disco 1 de torre 0 a torre 2\n",
      "[[2], [4, 3], [1]]\n",
      "Mover disco 2 de torre 0 a torre 1\n",
      "[[], [4, 3, 2], [1]]\n",
      "Mover disco 1 de torre 2 a torre 1\n",
      "[[], [4, 3, 2, 1], []]\n"
     ]
    }
   ],
   "execution_count": 174
  },
  {
   "cell_type": "markdown",
   "metadata": {},
   "source": [
    "## Sucesión de Fibonacci\n",
    "\n",
    "Cálcula el n-ésimo término de la [Sucesión de Fibonacci](https://es.wikipedia.org/wiki/Sucesi%C3%B3n_de_Fibonacci) mediante un algoritmo recursivo y otro iterativo. Representa gráficamente cómo crece el tiempo de cómputo en función del número de términos para ambos algoritmos."
   ]
  },
  {
   "metadata": {
    "colab": {
     "base_uri": "https://localhost:8080/"
    },
    "id": "74qZZAekiNYR",
    "outputId": "acc17268-7f87-4de4-ae5a-4fc6ce09d385",
    "ExecuteTime": {
     "end_time": "2025-02-28T20:34:26.036457Z",
     "start_time": "2025-02-28T20:33:57.399331Z"
    }
   },
   "cell_type": "code",
   "source": [
    "import pytest\n",
    "#Sucesión_de_Fibonacci\n",
    "import sys\n",
    "sys.setrecursionlimit(1000000)\n",
    "\n",
    "def fibonacci_recursivo(n):\n",
    "    if n <= 1:\n",
    "        return n\n",
    "    else:\n",
    "        #Ya que el siguiente termino es nada más que la sumatoria de los dos anteriores a este\n",
    "        return fibonacci_recursivo(n-1) + fibonacci_recursivo(n-2)\n",
    "\n",
    "print(fibonacci_recursivo(40))\n",
    "print(fibonacci_recursivo(15))\n",
    "\n",
    "\n",
    "#Metodo iterativo\n",
    "def fibonacci_iterativo(n):\n",
    "    a = 0\n",
    "    b = 1\n",
    "    #Realizamos un for loop para ir sumando los valores de a y b en el rango de n\n",
    "    for i in range(n):\n",
    "        a, b = b, a + b\n",
    "    return a\n",
    "\n",
    "print(fibonacci_iterativo(10))\n",
    "print(fibonacci_iterativo(15))\n",
    "\n",
    "#Pruebas\n",
    "def test_fibonacci():\n",
    "    assert fibonacci_recursivo(10) == 55\n",
    "    assert fibonacci_iterativo(10) == 55\n",
    "test_fibonacci()"
   ],
   "outputs": [
    {
     "name": "stdout",
     "output_type": "stream",
     "text": [
      "102334155\n",
      "610\n",
      "55\n",
      "610\n"
     ]
    }
   ],
   "execution_count": 4
  },
  {
   "metadata": {},
   "cell_type": "markdown",
   "source": "### Adicional Divide y venceras y memoización"
  },
  {
   "metadata": {},
   "cell_type": "markdown",
   "source": [
    "Sabemos que el problema de fibonacci se puede descomponer como un conjunto de subproblemas que dependen de F(k), F(k-1) para construir a F(n)\n",
    "\n",
    "Así si usamos las identidades de [fibonacci](https://mathworld.wolfram.com/FibonacciNumber.html):\n",
    "\n",
    "$F(2k) = F(k) * [2*F(k-1) +F(k)]$ <br>\n",
    "$F(2k+1) = F(k)^2 + F(k+1)^2$\n",
    "\n",
    "Y guardamos los resultados anteriores para facilitar su consulta, podemos mejorar la eficiencia del algoritmo."
   ]
  },
  {
   "metadata": {
    "ExecuteTime": {
     "end_time": "2025-02-28T20:33:39.455563Z",
     "start_time": "2025-02-28T20:33:39.443318Z"
    }
   },
   "cell_type": "code",
   "source": [
    "def fibonacci_divide(n, memo={}):\n",
    "    #Establecemos el resultado para el primer caso\n",
    "    if n in memo:\n",
    "        return memo[n]\n",
    "    if n <= 1:\n",
    "        return n\n",
    "    k = n // 2\n",
    "\n",
    "    if n % 2 == 0:\n",
    "        memo[n] = fibonacci_divide(k, memo) * (2 * fibonacci_divide(k - 1, memo) + fibonacci_divide(k, memo))\n",
    "    else:\n",
    "        memo[n] = fibonacci_divide(k, memo) ** 2 + fibonacci_divide(k + 1, memo) ** 2\n",
    "\n",
    "    return memo[n]\n",
    "\n",
    "print(fibonacci_divide(10))\n",
    "print(fibonacci_divide(15))"
   ],
   "outputs": [
    {
     "name": "stdout",
     "output_type": "stream",
     "text": [
      "55\n",
      "610\n"
     ]
    }
   ],
   "execution_count": 3
  },
  {
   "metadata": {},
   "cell_type": "markdown",
   "source": [
    "\n",
    "Ahora gráficamos el tiempo de cómputo en función del número de términos para ambos algoritmos."
   ]
  },
  {
   "metadata": {
    "ExecuteTime": {
     "end_time": "2025-02-28T20:34:26.637463Z",
     "start_time": "2025-02-28T20:34:26.060191Z"
    }
   },
   "cell_type": "code",
   "source": [
    "import time\n",
    "import matplotlib.pyplot as plt\n",
    "\n",
    "def medir_tiempo(func,  n):\n",
    "    tiempo_inicial = time.time()\n",
    "    func(n)\n",
    "    tiempo_final = time.time()\n",
    "    return tiempo_final - tiempo_inicial\n"
   ],
   "outputs": [],
   "execution_count": 5
  },
  {
   "metadata": {
    "ExecuteTime": {
     "end_time": "2025-02-28T20:35:16.163562Z",
     "start_time": "2025-02-28T20:34:26.654473Z"
    }
   },
   "cell_type": "code",
   "source": [
    "n_values = list(range(1, 40))\n",
    "\n",
    "tiempos_recursivo = [medir_tiempo(fibonacci_recursivo, n) for n in n_values]\n",
    "tiempos_iterativo = [medir_tiempo(fibonacci_iterativo, n) for n in n_values]\n",
    "tiempos_divide = [medir_tiempo(fibonacci_divide, n) for n in n_values]\n"
   ],
   "outputs": [],
   "execution_count": 6
  },
  {
   "metadata": {
    "ExecuteTime": {
     "end_time": "2025-02-28T20:35:16.333982Z",
     "start_time": "2025-02-28T20:35:16.180973Z"
    }
   },
   "cell_type": "code",
   "source": [
    "plt.plot(n_values, tiempos_recursivo, label='Recursivo')\n",
    "plt.plot(n_values, tiempos_iterativo, label='Iterativo')\n",
    "plt.plot(n_values, tiempos_divide, label='Divide y vencerás, memoización')\n",
    "plt.xlabel('Número de términos')\n",
    "plt.ylabel('Tiempo de cómputo')\n",
    "plt.legend()\n",
    "plt.show()\n",
    "\n",
    "\n"
   ],
   "outputs": [
    {
     "data": {
      "text/plain": [
       "<Figure size 640x480 with 1 Axes>"
      ],
      "image/png": "[encoded data removed]"
     },
     "metadata": {},
     "output_type": "display_data"
    }
   ],
   "execution_count": 7
  },
  {
   "metadata": {},
   "cell_type": "markdown",
   "source": "### Comparación entre técnicas iterativas"
  },
  {
   "metadata": {
    "ExecuteTime": {
     "end_time": "2025-02-28T21:15:41.514636Z",
     "start_time": "2025-02-28T21:15:25.044127Z"
    }
   },
   "cell_type": "code",
   "source": [
    "n_values = list(range(1, 10000 * 20, 10000))\n",
    "\n",
    "tiempos_iterativo = [medir_tiempo(fibonacci_iterativo, n) for n in n_values]\n",
    "tiempos_divide = [medir_tiempo(fibonacci_divide, n) for n in n_values]\n"
   ],
   "outputs": [],
   "execution_count": 29
  },
  {
   "metadata": {
    "ExecuteTime": {
     "end_time": "2025-02-28T21:33:18.252219Z",
     "start_time": "2025-02-28T21:33:18.153016Z"
    }
   },
   "cell_type": "code",
   "source": [
    "\n",
    "plt.plot(n_values, tiempos_iterativo, label='Iterativo')\n",
    "plt.plot(n_values, tiempos_divide, label='Divide y vencerás, memoización')\n",
    "plt.xlabel('Número de términos')\n",
    "plt.ylabel('Tiempo de cómputo')\n",
    "plt.legend()\n",
    "plt.show()\n"
   ],
   "outputs": [
    {
     "data": {
      "text/plain": [
       "<Figure size 640x480 with 1 Axes>"
      ],
      "image/png": "[encoded data removed]"
     },
     "metadata": {},
     "output_type": "display_data"
    }
   ],
   "execution_count": 31
  },
  {
   "metadata": {},
   "cell_type": "markdown",
   "source": "También podemos calcular la complejidad de ambos algoritmos."
  },
  {
   "metadata": {
    "ExecuteTime": {
     "end_time": "2025-01-31T08:12:02.380026Z",
     "start_time": "2025-01-31T08:03:27.693645Z"
    }
   },
   "cell_type": "code",
   "source": [
    "import big_o\n",
    "\n",
    "results_rec = big_o.big_o(fibonacci_recursivo, big_o.datagen.n_, n_repeats=10, min_n=1, max_n=40)\n",
    "results_it = big_o.big_o(fibonacci_iterativo, big_o.datagen.n_, n_repeats=10, min_n=1, max_n=40)"
   ],
   "outputs": [],
   "execution_count": 2
  },
  {
   "metadata": {
    "ExecuteTime": {
     "end_time": "2025-01-31T08:30:47.333454Z",
     "start_time": "2025-01-31T08:30:47.327338Z"
    }
   },
   "cell_type": "code",
   "source": [
    "print(results_rec[0])\n",
    "print(results_it[0])"
   ],
   "outputs": [
    {
     "name": "stdout",
     "output_type": "stream",
     "text": [
      "Exponential: time = 2.6E-06 * 1.6^n (sec)\n",
      "Constant: time = 1.6E-05 (sec)\n"
     ]
    }
   ],
   "execution_count": 5
  },
  {
   "metadata": {},
   "cell_type": "markdown",
   "source": [
    "De esta manera podemos probar que el algoritmo recursivo tiene una complejidad exponencial O(2^n) mientras que el algoritmo iterativo tiene una complejidad lineal O(n).\n",
    "\n",
    "Esto debido a la propía implementación de cada algoritmo al ser recursivo se va a llamar a sí mismo n veces, mientras que el iterativo solo se va a llamar n veces.\n",
    "\n",
    "Siendo en este caso mejor solución y más eficiente el algoritmo iterativo. Más, sin embargo, es mejor usar la fórmula de [Binet](https://es.wikipedia.org/wiki/Sucesi%C3%B3n_de_Fibonacci#Equation_5) para calcular la sucesión de Fibonacci."
   ]
  },
  {
   "metadata": {
    "id": "RgT5XJsZ429L"
   },
   "cell_type": "markdown",
   "source": [
    "## Devolución de cambio por técnica voraz\n",
    "\n",
    "Resuelve el [Problema del Cambio de Moneda](https://es.wikipedia.org/wiki/Problema_de_cambio_de_monedas) utilizando una técnica voraz."
   ]
  },
  {
   "metadata": {},
   "cell_type": "markdown",
   "source": [
    "Para implementar la solución nos basamos en el texto guia de la forma:\n",
    "\n",
    "- Ordenamos los valores (1, v1, v2, ...), de mayor a menor. Estas serán las etapas y, una vez considerada una etapa, ya no volveremos a ella.\n",
    "- En cada etapa, tomamos tantas monedas como podamos (técnica voraz) para acercarnos lo más posible a la cantidad C teniendo en cuenta la cantidad acumulada en las etapas anteriores. Se guarda en un vector V el número de monedas tomadas en cada etapa en la posición i\n",
    "\n",
    "Para identificar la cantidad de monedas tomadas se realiza una división entera de la cantidad entre el valor de la mondeda, y se guarda en el vector solución. Luego aplicamos el modulo de la cantidad entre el valor de la moneda para seguir con la siguiente moneda.\n",
    "\n",
    "Logrando así una solución en términos de O(n) donde n es la cantidad de monedas que se tienen."
   ]
  },
  {
   "metadata": {
    "colab": {
     "base_uri": "https://localhost:8080/"
    },
    "id": "uJtftBLU4-ap",
    "outputId": "b52f7a2c-771b-4c2e-81ab-c4c3ea01318d",
    "ExecuteTime": {
     "end_time": "2025-02-02T05:37:10.930168Z",
     "start_time": "2025-02-02T05:37:10.924128Z"
    }
   },
   "cell_type": "code",
   "source": [
    "# Problema del cambio de moneda\n",
    "import pytest\n",
    "\n",
    "def cambio_monedas(cantidad, monedas):\n",
    "    #Ordenamos las monedas de mayor a menor\n",
    "    #Ya que necesitamos conocer el valor descendente de monedas\n",
    "    #Inicializamos uan lista vacía para guardar la solución\n",
    "    solucion = [0 for _ in monedas]\n",
    "    #Ordenamos las monedas de mayor a menor para poder hacer la división\n",
    "    for i, valor in enumerate(sorted(monedas, reverse=True)):\n",
    "        solucion[i] = cantidad // valor\n",
    "        cantidad %= valor\n",
    "    return solucion\n",
    "\n",
    "print(cambio_monedas(200, [25, 10, 5, 1]))\n",
    "print(cambio_monedas(128, [30, 20, 15, 5, 2, 1]))\n",
    "\n",
    "\n",
    "#Pruebas\n",
    "def test_cambio_monedas():\n",
    "    assert cambio_monedas(123, [25, 10, 5, 1]) == [4, 2, 0, 3]\n",
    "    assert cambio_monedas(123, [25, 10, 5, 1]) != [4, 2, 1, 3]\n",
    "\n",
    "test_cambio_monedas()"
   ],
   "outputs": [
    {
     "name": "stdout",
     "output_type": "stream",
     "text": [
      "[8, 0, 0, 0]\n",
      "[4, 0, 0, 1, 1, 1]\n"
     ]
    }
   ],
   "execution_count": 102
  },
  {
   "metadata": {
    "id": "g8M9GTvy_Fa3"
   },
   "cell_type": "markdown",
   "source": [
    "## N-Reinas por técnica de vuelta atrás\n",
    "Resuelve el [Problema de las N-Reinas](https://es.wikipedia.org/wiki/Problema_de_las_ocho_reinas) en un tablero de dimensión N mediante la técnica de la vuelta atrás (backtraking)."
   ]
  },
  {
   "metadata": {},
   "cell_type": "markdown",
   "source": [
    "Recordando como funciona la técnica de backtracking se basa en la idea de generar todo el conjunto de soluciones a un problema, esto a partir de la combinación de las soluciones parciales en forma de árbol y cuando se llega a una solución no válida se poda la rama y se continúa con la siguiente.\n",
    "\n",
    "Para dar solución al problemas de las N-reinas se realiza de la siguiente manera:\n",
    "\n",
    "- Se crea un tablero de NxN con ceros.\n",
    "- Se coloca una reina en la primera fila y se comprueba si es segura.\n",
    "- Si es segura se coloca la reina en la siguiente fila y se repite el proceso.\n",
    "- Si no es segura se mueve la reina a la siguiente columna y se repite el proceso de comprobación.\n",
    "\n",
    "Para establecer la seguridad de la reina existen las condiciones de:\n",
    "\n",
    "- No se pueden colocar 2 reinas en la misma columna, esto se verifica sumando la fila en el caso de que sea 1 está en peligro.\n",
    "- No se pueden colocar 2 reinas en la misma fila, de manera similar al anterior puede ser verificado con una suma.\n",
    "- Se puede almacenar las posiciones de las reinas y mediante un valor absoluto dado por $ | x_1 - y_1 | = | x_2 - y_2 |$, donde $x_n$ y $y_n$ son las posiciones de las reinas, podemos descartar en el caso que esten en la misma diagonal\n",
    "\n"
   ]
  },
  {
   "cell_type": "code",
   "metadata": {
    "id": "FqOPyCmv_K65",
    "ExecuteTime": {
     "end_time": "2025-02-02T06:31:36.524154Z",
     "start_time": "2025-02-02T06:31:36.509498Z"
    }
   },
   "source": [
    "# Problema de las N-Reinas\n",
    "import pytest\n",
    "import numpy as np\n",
    "\n",
    "\n",
    "class NReinas:\n",
    "    def __init__(self, n):\n",
    "        #Inicializamos la cantidad de reinas y el tablero\n",
    "        self.n = n\n",
    "        self.tablero = np.zeros((n, n), dtype=int)\n",
    "        self.reinas_det_pos =set()\n",
    "        self.reinas_det_neg =set()\n",
    "\n",
    "    def es_segura(self, fila, columna):\n",
    "        if np.sum(self.tablero[:, columna]) == 1:\n",
    "            return False\n",
    "        if np.sum(self.tablero[fila, :]) == 1:\n",
    "            return False\n",
    "        if (fila - columna) in self.reinas_det_neg or (fila + columna) in self.reinas_det_pos:\n",
    "            return False\n",
    "        return True\n",
    "\n",
    "    def resolver(self, fila=0):\n",
    "        #Caso cuando se colocan todas las reinas\n",
    "        if fila == self.n:\n",
    "            return True\n",
    "        for columna in range(self.n):\n",
    "            if self.es_segura(fila, columna):\n",
    "\n",
    "                self.tablero[fila, columna] = 1\n",
    "                current_det =fila - columna\n",
    "                self.reinas_det_neg.add(current_det)\n",
    "                plus_det = fila + columna\n",
    "                self.reinas_det_pos.add(plus_det)\n",
    "                #Evaluamos si existe una siguiente solución\n",
    "                if self.resolver(fila + 1):\n",
    "                    return True\n",
    "                #Reset en el caso de que la siguiente solución no exista\n",
    "                self.tablero[fila, columna] = 0\n",
    "                self.reinas_det_neg.discard(current_det)\n",
    "                self.reinas_det_pos.discard(plus_det)\n",
    "        return False\n",
    "\n",
    "    def __str__(self):\n",
    "        return str(self.tablero)\n",
    "\n",
    "test_sol = []\n",
    "for i in range (1, 10):\n",
    "    reinas = NReinas(i)\n",
    "    status = reinas.resolver()\n",
    "    test_sol.append(reinas)\n",
    "    if not status:\n",
    "        print(f'No se encontró solución para {i} reinas')\n",
    "        continue\n",
    "    print(reinas)\n",
    "\n"
   ],
   "outputs": [
    {
     "name": "stdout",
     "output_type": "stream",
     "text": [
      "[[1]]\n",
      "No se encontró solución para 2 reinas\n",
      "No se encontró solución para 3 reinas\n",
      "[[0 1 0 0]\n",
      " [0 0 0 1]\n",
      " [1 0 0 0]\n",
      " [0 0 1 0]]\n",
      "[[1 0 0 0 0]\n",
      " [0 0 1 0 0]\n",
      " [0 0 0 0 1]\n",
      " [0 1 0 0 0]\n",
      " [0 0 0 1 0]]\n",
      "[[0 1 0 0 0 0]\n",
      " [0 0 0 1 0 0]\n",
      " [0 0 0 0 0 1]\n",
      " [1 0 0 0 0 0]\n",
      " [0 0 1 0 0 0]\n",
      " [0 0 0 0 1 0]]\n",
      "[[1 0 0 0 0 0 0]\n",
      " [0 0 1 0 0 0 0]\n",
      " [0 0 0 0 1 0 0]\n",
      " [0 0 0 0 0 0 1]\n",
      " [0 1 0 0 0 0 0]\n",
      " [0 0 0 1 0 0 0]\n",
      " [0 0 0 0 0 1 0]]\n",
      "[[1 0 0 0 0 0 0 0]\n",
      " [0 0 0 0 1 0 0 0]\n",
      " [0 0 0 0 0 0 0 1]\n",
      " [0 0 0 0 0 1 0 0]\n",
      " [0 0 1 0 0 0 0 0]\n",
      " [0 0 0 0 0 0 1 0]\n",
      " [0 1 0 0 0 0 0 0]\n",
      " [0 0 0 1 0 0 0 0]]\n",
      "[[1 0 0 0 0 0 0 0 0]\n",
      " [0 0 1 0 0 0 0 0 0]\n",
      " [0 0 0 0 0 1 0 0 0]\n",
      " [0 0 0 0 0 0 0 1 0]\n",
      " [0 1 0 0 0 0 0 0 0]\n",
      " [0 0 0 1 0 0 0 0 0]\n",
      " [0 0 0 0 0 0 0 0 1]\n",
      " [0 0 0 0 0 0 1 0 0]\n",
      " [0 0 0 0 1 0 0 0 0]]\n"
     ]
    }
   ],
   "execution_count": 156
  },
  {
   "metadata": {},
   "cell_type": "markdown",
   "source": "Solución adicional por iteraciones en columnas, filas y diagonales anteriores."
  },
  {
   "cell_type": "code",
   "metadata": {
    "ExecuteTime": {
     "end_time": "2025-02-02T06:31:18.495782Z",
     "start_time": "2025-02-02T06:31:18.482757Z"
    }
   },
   "source": [
    "class NReinas_loop:\n",
    "    def __init__(self, n):\n",
    "        #Inicializamos la cantidad de reinas y el tablero\n",
    "        self.n = n\n",
    "        self.tablero = np.zeros((n, n), dtype=int)\n",
    "        self.reinas_det =set()\n",
    "\n",
    "    def es_segura(self, fila, columna):\n",
    "          # Verificar la columna\n",
    "        for i in range(fila):\n",
    "            if self.tablero[i, columna] == 1:\n",
    "                return False\n",
    "        # Verificar la diagonal superior izquierda\n",
    "        for i, j in zip(range(fila, -1, -1), range(columna, -1, -1)):\n",
    "            if self.tablero[i, j] == 1:\n",
    "                return False\n",
    "        # Verificar la diagonal superior derecha\n",
    "        for i, j in zip(range(fila, -1, -1), range(columna, self.n)):\n",
    "            if self.tablero[i, j] == 1:\n",
    "                return False\n",
    "        return True\n",
    "\n",
    "    def resolver(self, fila=0):\n",
    "        #Caso cuando se colocan todas las reinas\n",
    "        if fila == self.n:\n",
    "            return True\n",
    "        for columna in range(self.n):\n",
    "            if self.es_segura(fila, columna):\n",
    "                self.tablero[fila, columna] = 1\n",
    "                if self.resolver(fila + 1):\n",
    "                    return True\n",
    "                #Reset en el caso de que la siguiente solución no exista\n",
    "                self.tablero[fila, columna] = 0\n",
    "        return False\n",
    "\n",
    "    def __str__(self):\n",
    "        return str(self.tablero)\n",
    "\n",
    "correct_sol = []\n",
    "for i in range (1, 10):\n",
    "    reinas = NReinas(i)\n",
    "    status = reinas.resolver()\n",
    "    correct_sol.append(reinas)\n",
    "    if not status:\n",
    "        print(f'No se encontró solución para {i} reinas')\n",
    "        continue\n",
    "    print(reinas)\n"
   ],
   "outputs": [
    {
     "name": "stdout",
     "output_type": "stream",
     "text": [
      "[[1]]\n",
      "No se encontró solución para 2 reinas\n",
      "No se encontró solución para 3 reinas\n",
      "[[0 1 0 0]\n",
      " [0 0 0 1]\n",
      " [1 0 0 0]\n",
      " [0 0 1 0]]\n",
      "[[1 0 0 0 0]\n",
      " [0 0 1 0 0]\n",
      " [0 0 0 0 1]\n",
      " [0 1 0 0 0]\n",
      " [0 0 0 1 0]]\n",
      "[[0 1 0 0 0 0]\n",
      " [0 0 0 1 0 0]\n",
      " [0 0 0 0 0 1]\n",
      " [1 0 0 0 0 0]\n",
      " [0 0 1 0 0 0]\n",
      " [0 0 0 0 1 0]]\n",
      "[[1 0 0 0 0 0 0]\n",
      " [0 0 1 0 0 0 0]\n",
      " [0 0 0 0 1 0 0]\n",
      " [0 0 0 0 0 0 1]\n",
      " [0 1 0 0 0 0 0]\n",
      " [0 0 0 1 0 0 0]\n",
      " [0 0 0 0 0 1 0]]\n",
      "[[1 0 0 0 0 0 0 0]\n",
      " [0 0 0 0 1 0 0 0]\n",
      " [0 0 0 0 0 0 0 1]\n",
      " [0 0 0 0 0 1 0 0]\n",
      " [0 0 1 0 0 0 0 0]\n",
      " [0 0 0 0 0 0 1 0]\n",
      " [0 1 0 0 0 0 0 0]\n",
      " [0 0 0 1 0 0 0 0]]\n",
      "[[1 0 0 0 0 0 0 0 0]\n",
      " [0 0 1 0 0 0 0 0 0]\n",
      " [0 0 0 0 0 1 0 0 0]\n",
      " [0 0 0 0 0 0 0 1 0]\n",
      " [0 1 0 0 0 0 0 0 0]\n",
      " [0 0 0 1 0 0 0 0 0]\n",
      " [0 0 0 0 0 0 0 0 1]\n",
      " [0 0 0 0 0 0 1 0 0]\n",
      " [0 0 0 0 1 0 0 0 0]]\n"
     ]
    }
   ],
   "execution_count": 155
  },
  {
   "metadata": {
    "ExecuteTime": {
     "end_time": "2025-02-02T06:31:45.125363Z",
     "start_time": "2025-02-02T06:31:45.120983Z"
    }
   },
   "cell_type": "code",
   "source": [
    "#Pruebas\n",
    "\n",
    "def test_reinas():\n",
    "    sol_num = 1\n",
    "    for corr_sol, test in zip(correct_sol, test_sol):\n",
    "        print(f'Solución {sol_num}')\n",
    "        assert np.isclose(corr_sol.tablero, test.tablero).all()\n",
    "        sol_num += 1\n",
    "\n",
    "test_reinas()\n"
   ],
   "outputs": [
    {
     "name": "stdout",
     "output_type": "stream",
     "text": [
      "Solución 1\n",
      "Solución 2\n",
      "Solución 3\n",
      "Solución 4\n",
      "Solución 5\n",
      "Solución 6\n",
      "Solución 7\n",
      "Solución 8\n",
      "Solución 9\n"
     ]
    }
   ],
   "execution_count": 157
  },
  {
   "metadata": {},
   "cell_type": "markdown",
   "source": "Comparación de ambas soluciones"
  },
  {
   "metadata": {
    "ExecuteTime": {
     "end_time": "2025-02-02T06:27:43.492275Z",
     "start_time": "2025-02-02T06:26:15.972788Z"
    }
   },
   "cell_type": "code",
   "source": [
    "def solve_queens(n):\n",
    "    reinas = NReinas(n)\n",
    "    reinas.resolver()\n",
    "    return reinas\n",
    "\n",
    "def solve_queens_loop(n):\n",
    "    reinas = NReinas_loop(n)\n",
    "    reinas.resolver()\n",
    "    return reinas\n",
    "\n",
    "\n",
    "n_values = list(range(1, 28, 2))\n",
    "\n",
    "tiempos_almacenando = [medir_tiempo(solve_queens, n) for n in n_values]\n",
    "tiempos_loop = [medir_tiempo(solve_queens_loop, n) for n in n_values]\n"
   ],
   "outputs": [],
   "execution_count": 151
  },
  {
   "metadata": {
    "ExecuteTime": {
     "end_time": "2025-02-02T06:27:59.036123Z",
     "start_time": "2025-02-02T06:27:58.948137Z"
    }
   },
   "cell_type": "code",
   "source": [
    "plt.plot(n_values, tiempos_almacenando, label='Almacenando')\n",
    "plt.plot(n_values, tiempos_loop, label='Iterando')\n",
    "plt.xlabel('Número de términos')\n",
    "plt.ylabel('Tiempo de cómputo')\n",
    "plt.legend()\n",
    "plt.show()\n"
   ],
   "outputs": [
    {
     "data": {
      "text/plain": [
       "<Figure size 640x480 with 1 Axes>"
      ],
      "image/png": "[encoded data removed]"
     },
     "metadata": {},
     "output_type": "display_data"
    }
   ],
   "execution_count": 152
  },
  {
   "metadata": {},
   "cell_type": "markdown",
   "source": "En este caso el método iterativo parece ser mejor que las restricciones por determinante de las diagonales, tanto en términos de tiempo como de memoria al no requerir variables adicionales. Aunque en términos de complejidad ambos son O(n^2) por la cantidad de iteraciones que se realizan en el tablero."
  }
 ],
 "metadata": {
  "colab": {
   "provenance": [],
   "toc_visible": true
  },
  "kernelspec": {
   "display_name": "Python 3 (ipykernel)",
   "language": "python",
   "name": "python3"
  },
  "language_info": {
   "codemirror_mode": {
    "name": "ipython",
    "version": 3
   },
   "file_extension": ".py",
   "mimetype": "text/x-python",
   "name": "python",
   "nbconvert_exporter": "python",
   "pygments_lexer": "ipython3",
   "version": "3.11.5"
  }
 },
 "nbformat": 4,
 "nbformat_minor": 1
}
