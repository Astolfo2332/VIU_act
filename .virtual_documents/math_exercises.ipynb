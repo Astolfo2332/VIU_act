








import  numpy as np

def determinante_recursivo(matriz):
    if matriz.shape[0] != matriz.shape[1]:
        raise ValueError("La matriz no es cuadrada")
    if matriz.shape[0] == 1:
        return matriz[0,0]
    det = 0
    for i in range(matriz.shape[0]):
        det += (-1)**i * matriz[0,i] * determinante_recursivo(np.delete(np.delete(matriz, 0, 0), i, 1))
    return det

test = np.array([[1,2,3],[4,5,6],[7,8,9]])

print(determinante_recursivo(test))
