{
 "cells": [
  {
   "metadata": {},
   "cell_type": "markdown",
   "source": [
    "\n",
    "\n",
    "<a href=\"https://githubtocolab.com/Astolfo2332/VIU_act/blob/main/optimizacion/Algoritmos_R3.ipynb\" target=\"_parent\\\">\n",
    "<img src=\"https://colab.research.google.com/assets/colab-badge.svg\" alt=\"Open in Colab\" > </a>\n"
   ],
   "id": "fbac617807959b50"
  },
  {
   "metadata": {},
   "cell_type": "markdown",
   "source": [
    "# Algoritmos de optimización - Reto 3\n",
    "\n",
    "Nombre: <br> Miguel López Vélez <br>\n",
    "Github: <br> [Astolfo2332](https://github.com/Astolfo2332/VIU_act) <br>"
   ],
   "id": "43a16dfe839ace8b"
  },
  {
   "metadata": {},
   "cell_type": "markdown",
   "source": [
    "### Implementar uno de los siguientes retos para el problema de TSP trabajado en clase:\n",
    "- Mejorar la implementación de búsqueda local implementada en  clase sobre el TSP con otros operadores de vecindad.\n",
    "- Implementar el algoritmo de búsqueda tabú para el TSP de la AG3.\n",
    "- Mejorar la implementación de recocido simulado implementado en clase sobre el TSP eligiendo una generación de solución vecina con un grado de aleatoriedad menor (función genera_vecino_aleatorio()).\n",
    " - Mejorar la implementación de colonia de hormigas implementada en clase sobre el TSP mediante una elección de nodo que tenga en consideración una función de probabilidad que depende de las feromonas.\n",
    "- Mejorar la implementación del algoritmo genético propuesto para la resolución del TSP."
   ],
   "id": "dcd24f754431acd4"
  },
  {
   "metadata": {},
   "cell_type": "markdown",
   "source": "### Mejora de la implementación de colonia de hormigas sobre el TSP.",
   "id": "ca98e23f6b0cdf8d"
  },
  {
   "metadata": {
    "collapsed": true,
    "ExecuteTime": {
     "end_time": "2025-02-05T18:45:35.183253Z",
     "start_time": "2025-02-05T18:45:34.819707Z"
    }
   },
   "cell_type": "code",
   "source": [
    "import os\n",
    "import urllib.request\n",
    "import gzip\n",
    "\n",
    "from sympy.abc import alpha\n",
    "\n",
    "#DATOS DEL PROBLEMA\n",
    "file = \"swiss42.tsp\"\n",
    "urllib.request.urlretrieve(\"http://comopt.ifi.uni-heidelberg.de/software/TSPLIB95/tsp/swiss42.tsp.gz\", file + '.gz')\n",
    "f = gzip.open(file + '.gz')\n",
    "with open (file, 'wb') as out:\n",
    "    out.write(f.read())\n",
    "f.close()\n",
    "\n",
    "# os.rename(\"swiss42.tsp\", \"datasets/swiss42.tsp\")\n",
    "os.remove(\"swiss42.tsp.gz\")\n",
    "os.remove(\"swiss42.tsp\")"
   ],
   "id": "initial_id",
   "outputs": [],
   "execution_count": 3
  },
  {
   "metadata": {},
   "cell_type": "markdown",
   "source": "Rehusamos gran parte del código de colonia de hormigas",
   "id": "57cb1659dcbf9593"
  },
  {
   "metadata": {
    "ExecuteTime": {
     "end_time": "2025-02-05T21:22:44.354818Z",
     "start_time": "2025-02-05T21:22:44.343717Z"
    }
   },
   "cell_type": "code",
   "source": [
    "\n",
    "import tsplib95\n",
    "\n",
    "problem = tsplib95.load(\"./datasets/swiss42.tsp\")\n",
    "#Nodos\n",
    "Nodos = list(problem.get_nodes())\n",
    "\n",
    "#Devuelve la distancia entre dos nodos\n",
    "def distancia(a,b, problem):\n",
    "    return problem.get_weight(a,b)\n",
    "\n",
    "#Devuelve la distancia total de una trayectoria/solucion(lista de nodos)\n",
    "def distancia_total(solucion, problem):\n",
    "    distancia_total = 0\n",
    "    for i in range(len(solucion)-1):\n",
    "        distancia_total += distancia(solucion[i] ,solucion[i+1] ,  problem)\n",
    "    return distancia_total + distancia(solucion[len(solucion)-1] ,solucion[0], problem)\n",
    "\n"
   ],
   "id": "211e9af8b943d816",
   "outputs": [],
   "execution_count": 110
  },
  {
   "metadata": {
    "ExecuteTime": {
     "end_time": "2025-02-05T21:31:15.563416Z",
     "start_time": "2025-02-05T21:31:15.543394Z"
    }
   },
   "cell_type": "code",
   "source": [
    "import random\n",
    "from math import e\n",
    "import numpy as np\n",
    "\n",
    "def Add_Nodo(problem, H ,T ) :\n",
    "    #Mejora:Establecer una funcion de probabilidad para\n",
    "    # añadir un nuevo nodo dependiendo de los nodos mas cercanos y de las feromonas depositadas\n",
    "    Nodos = list(problem.get_nodes())\n",
    "\n",
    "    return random.choice(list(set(range(1,len(Nodos))) - set(H) )  )\n",
    "\n",
    "\n",
    "def Incrementa_Feromona(problem, T, H):\n",
    "    #Incrementa según la calidad de la solución. Añadir una cantidad inversamente proporcional a la distancia total\n",
    "    delta_T = 0\n",
    "    for i in range(len(H)-1):\n",
    "        T[H[i]][H[i+1]] += 1000/distancia_total(H, problem)\n",
    "    return T, delta_T\n",
    "\n",
    "def Evaporar_Feromonas(T, delta_T):\n",
    "    #Evapora 0.3 el valor de la feromona, sin que baje de 1\n",
    "    #Mejora:Podemos elegir diferentes funciones de evaporación dependiendo de la cantidad actual y de la suma total de feromonas depositadas,...\n",
    "    T = [[ max(T[i][j] - 0.3 , 1) for i in range(len(Nodos)) ] for j in range(len(Nodos))]\n",
    "    return T\n"
   ],
   "id": "7ebd44bed68ca735",
   "outputs": [],
   "execution_count": 155
  },
  {
   "metadata": {
    "ExecuteTime": {
     "end_time": "2025-02-05T21:22:49.080825Z",
     "start_time": "2025-02-05T21:22:44.386319Z"
    }
   },
   "cell_type": "code",
   "source": [
    "def hormigas(problem, N) :\n",
    "    #problem = datos del problema\n",
    "    #N = Número de agentes(hormigas)\n",
    "\n",
    "    #Nodos\n",
    "    Nodos = list(problem.get_nodes())\n",
    "    #Aristas\n",
    "    Aristas = list(problem.get_edges())\n",
    "\n",
    "    #Inicializa las aristas con una cantidad inicial de feromonas:1\n",
    "    #Mejora: inicializar con valores diferentes dependiendo diferentes criterios\n",
    "    T = [[ 1 for _ in range(len(Nodos)) ] for _ in range(len(Nodos))]\n",
    "    delta_T = [[0 for _ in range(len(T))] for _ in range(len(T))]\n",
    "\n",
    "    #Se generan los agentes(hormigas) que serán estructuras de caminos desde 0\n",
    "    Hormiga = [[0] for _ in range(N)]\n",
    "\n",
    "    #Recorre cada agente construyendo la solución\n",
    "    for h in range(N) :\n",
    "        #Para cada agente se construye un camino\n",
    "        for i in range(len(Nodos)-1) :\n",
    "\n",
    "            #Elige el siguiente nodo\n",
    "            Nuevo_Nodo = Add_Nodo(problem, Hormiga[h] ,T )\n",
    "            Hormiga[h].append(Nuevo_Nodo)\n",
    "\n",
    "        #Incrementa feromonas en esa arista\n",
    "        T, delta_T = Incrementa_Feromona(problem, T, Hormiga[h])\n",
    "\n",
    "        #Evapora Feromonas\n",
    "        T = Evaporar_Feromonas(T, delta_T)\n",
    "\n",
    "        #Seleccionamos el mejor agente\n",
    "    mejor_solucion = []\n",
    "    mejor_distancia = float('inf')\n",
    "    for h in range(N) :\n",
    "        distancia_actual = distancia_total(Hormiga[h], problem)\n",
    "        if distancia_actual < mejor_distancia:\n",
    "            mejor_solucion = Hormiga[h]\n",
    "            mejor_distancia =distancia_actual\n",
    "\n",
    "\n",
    "    print(mejor_solucion)\n",
    "    print(mejor_distancia)\n",
    "    return mejor_distancia\n",
    "\n",
    "d = hormigas(problem, 1000)"
   ],
   "id": "11c28537cb3b2c95",
   "outputs": [
    {
     "name": "stdout",
     "output_type": "stream",
     "text": [
      "[0, 19, 4, 33, 31, 35, 38, 21, 27, 18, 1, 32, 13, 16, 37, 5, 36, 3, 6, 9, 23, 20, 17, 14, 7, 26, 24, 30, 11, 34, 2, 29, 8, 10, 25, 15, 12, 41, 28, 39, 22, 40]\n",
      "3962\n"
     ]
    }
   ],
   "execution_count": 112
  },
  {
   "metadata": {
    "ExecuteTime": {
     "end_time": "2025-02-05T21:22:49.112360Z",
     "start_time": "2025-02-05T21:22:49.097848Z"
    }
   },
   "cell_type": "code",
   "source": [
    "def test(hormigas, problem, N):\n",
    "    data = []\n",
    "    for _ in range(10):\n",
    "        data.append(hormigas(problem, 1000))\n",
    "\n",
    "    prom_test = np.mean(data)\n",
    "    dev_test = np.std(data)\n",
    "    print(f\"Promedio: {prom_test} Desviación estándar: {dev_test}\")\n",
    "    return prom_test, dev_test"
   ],
   "id": "2c9508accbcff8b",
   "outputs": [],
   "execution_count": 113
  },
  {
   "metadata": {},
   "cell_type": "markdown",
   "source": "## Datos del algoritmo sin mejorar",
   "id": "d753423722c06dc5"
  },
  {
   "metadata": {
    "ExecuteTime": {
     "end_time": "2025-02-05T21:23:35.889305Z",
     "start_time": "2025-02-05T21:22:49.144863Z"
    }
   },
   "cell_type": "code",
   "source": "prom_ini, dev_ini = test(hormigas, problem, 1000)",
   "id": "5bdfb25960b645da",
   "outputs": [
    {
     "name": "stdout",
     "output_type": "stream",
     "text": [
      "[0, 4, 29, 26, 32, 30, 7, 1, 34, 27, 9, 2, 23, 39, 24, 31, 35, 33, 3, 10, 25, 40, 22, 12, 11, 14, 37, 8, 5, 19, 16, 18, 38, 21, 41, 28, 6, 13, 20, 36, 15, 17]\n",
      "3651\n",
      "[0, 35, 36, 19, 25, 40, 30, 38, 4, 8, 23, 26, 7, 10, 28, 33, 27, 9, 20, 29, 37, 16, 11, 1, 22, 24, 39, 13, 12, 31, 6, 34, 2, 21, 41, 18, 17, 15, 14, 5, 32, 3]\n",
      "4035\n",
      "[0, 41, 25, 3, 26, 14, 33, 1, 31, 38, 20, 36, 16, 2, 35, 37, 34, 22, 39, 24, 6, 7, 12, 11, 18, 30, 19, 13, 10, 29, 5, 8, 21, 17, 9, 40, 23, 15, 4, 28, 27, 32]\n",
      "3948\n",
      "[0, 2, 28, 17, 34, 35, 6, 41, 18, 23, 25, 9, 29, 19, 10, 4, 31, 14, 3, 15, 11, 1, 37, 12, 13, 16, 36, 7, 26, 39, 21, 5, 32, 40, 20, 33, 38, 22, 30, 8, 24, 27]\n",
      "3926\n",
      "[0, 30, 29, 32, 12, 25, 8, 27, 6, 37, 14, 1, 31, 36, 17, 38, 41, 9, 2, 7, 39, 40, 13, 3, 24, 11, 16, 15, 35, 28, 20, 33, 26, 10, 34, 4, 5, 22, 18, 19, 23, 21]\n",
      "4029\n",
      "[0, 2, 37, 33, 5, 31, 26, 18, 12, 13, 36, 35, 20, 22, 38, 17, 21, 39, 8, 27, 29, 24, 23, 9, 4, 40, 41, 10, 30, 28, 15, 11, 6, 3, 1, 32, 34, 19, 7, 25, 14, 16]\n",
      "3651\n",
      "[0, 6, 28, 41, 40, 10, 5, 7, 22, 4, 15, 13, 26, 32, 23, 11, 27, 31, 20, 33, 17, 8, 3, 1, 35, 36, 14, 39, 21, 24, 12, 18, 16, 34, 38, 9, 25, 37, 19, 2, 29, 30]\n",
      "3651\n",
      "[0, 26, 10, 37, 17, 6, 13, 27, 15, 12, 30, 40, 29, 34, 8, 9, 20, 7, 31, 1, 2, 4, 25, 18, 5, 21, 23, 41, 28, 22, 24, 3, 32, 33, 14, 11, 39, 19, 16, 36, 35, 38]\n",
      "3929\n",
      "[0, 16, 28, 15, 6, 8, 14, 10, 27, 30, 33, 20, 25, 7, 26, 17, 32, 18, 1, 29, 4, 2, 3, 36, 35, 31, 13, 12, 9, 21, 22, 38, 41, 39, 34, 40, 23, 24, 37, 5, 11, 19]\n",
      "3912\n",
      "[0, 5, 8, 28, 19, 7, 13, 41, 6, 31, 17, 1, 26, 27, 4, 11, 25, 23, 24, 18, 15, 35, 14, 37, 29, 20, 12, 40, 2, 9, 36, 16, 32, 33, 3, 38, 39, 21, 10, 34, 22, 30]\n",
      "4014\n",
      "Promedio: 3874.6 Desviación estándar: 152.11127505875427\n"
     ]
    }
   ],
   "execution_count": 114
  },
  {
   "metadata": {},
   "cell_type": "markdown",
   "source": "## Datos del algoritmo con una mejora en la selección de nodos",
   "id": "e8bc4dbc5106cdb0"
  },
  {
   "metadata": {},
   "cell_type": "markdown",
   "source": [
    "\n",
    "La función Add_Nodo selecciona al azar un nodo con probabilidad uniforme.\n",
    "Para ser mas eficiente debería seleccionar el próximo nodo siguiendo la probabilidad correspondiente a la ecuación:\n",
    "\n",
    "$p^k_{ij}(t) = \\frac{[\\tau_{ij}(t)]^\\alpha[\\nu_{ij}]^\\beta}{\\sum_{l\\in J^k_i} [\\tau_{il}(t)]^\\alpha[\\nu_{il}]^\\beta}$, si $j \\in J^k_i$\n",
    "\n",
    "$p^k_{ij}(t) = 0$, si $j \\notin J^k_i$\n",
    "\n",
    "Donde en este caso $\\nu_{ij} = \\frac{1}{d_{ij}}$ y $d_{ij}$ es la distancia entre los nodos i y j.\n",
    "\n"
   ],
   "id": "e0a7f2b3a684d187"
  },
  {
   "metadata": {
    "ExecuteTime": {
     "end_time": "2025-02-05T21:31:28.330136Z",
     "start_time": "2025-02-05T21:31:28.321027Z"
    }
   },
   "cell_type": "code",
   "source": [
    "def Add_Nodo(problem, H ,T ) :\n",
    "    #Mejora:Establecer una funcion de probabilidad para\n",
    "    # añadir un nuevo nodo dependiendo de los nodos mas cercanos y de las feromonas depositadas\n",
    "    Nodos = list(problem.get_nodes())\n",
    "\n",
    "    # Le damos un valor de mayor posibilidad a los nodos con más feromonas\n",
    "    # a base de la ecuación de probabilidad de la colonia de hormigas\n",
    "    alpha = 0.9\n",
    "    beta = 0.7\n",
    "\n",
    "    prob = []\n",
    "    for nodo in range(len(Nodos)):\n",
    "        #Calculamos la probabilida de ir al nodo\n",
    "        if nodo not in H:\n",
    "            #Obtenemos las feromonas a base de la hormiga anterior\n",
    "            prob.append((T[H[-1]][nodo]**alpha) * ((1/distancia(H[-1], nodo, problem))**beta))\n",
    "        else:\n",
    "            #Si ya está en el camino, no se puede volver a seleccionar\n",
    "            prob.append(0)\n",
    "\n",
    "    #Normalizamos las probabilidades\n",
    "    prob = [p/sum(prob) for p in prob]\n",
    "\n",
    "    return random.choices(range(len(Nodos)), weights=prob)[0]"
   ],
   "id": "c53bcbe6ff351d05",
   "outputs": [],
   "execution_count": 156
  },
  {
   "metadata": {
    "ExecuteTime": {
     "end_time": "2025-02-05T21:32:46.894254Z",
     "start_time": "2025-02-05T21:31:30.249519Z"
    }
   },
   "cell_type": "code",
   "source": "prom_fin, dev_fin = test(hormigas, problem, 1000)",
   "id": "b60da4a4dc8c07da",
   "outputs": [
    {
     "name": "stdout",
     "output_type": "stream",
     "text": [
      "[0, 30, 22, 38, 19, 32, 3, 31, 21, 27, 28, 40, 24, 7, 15, 1, 6, 16, 14, 18, 5, 29, 23, 41, 12, 11, 26, 9, 13, 37, 33, 34, 36, 35, 17, 20, 39, 25, 8, 10, 4, 2]\n",
      "3367\n",
      "[0, 34, 36, 31, 1, 3, 27, 6, 13, 32, 35, 30, 11, 25, 28, 12, 18, 2, 38, 22, 40, 14, 5, 16, 15, 17, 26, 41, 10, 19, 23, 29, 24, 8, 39, 21, 9, 4, 37, 7, 20, 33]\n",
      "3406\n",
      "[0, 2, 4, 5, 13, 26, 33, 38, 22, 11, 23, 15, 17, 16, 14, 37, 6, 30, 10, 7, 1, 18, 3, 27, 28, 25, 21, 41, 24, 9, 29, 32, 31, 12, 8, 40, 39, 19, 35, 36, 20, 34]\n",
      "3244\n",
      "[0, 26, 25, 39, 1, 3, 6, 32, 2, 4, 12, 11, 10, 31, 36, 15, 16, 17, 35, 37, 19, 14, 5, 20, 27, 22, 34, 30, 29, 8, 38, 13, 28, 9, 23, 21, 40, 41, 24, 18, 33, 7]\n",
      "3333\n",
      "[0, 12, 8, 41, 31, 17, 7, 3, 1, 32, 29, 9, 39, 20, 4, 28, 27, 16, 14, 15, 37, 36, 10, 40, 21, 22, 24, 38, 2, 34, 33, 13, 18, 19, 30, 26, 6, 5, 11, 35, 23, 25]\n",
      "3471\n",
      "[0, 13, 14, 41, 9, 20, 34, 1, 29, 10, 8, 6, 27, 35, 15, 37, 16, 17, 33, 38, 23, 21, 28, 4, 26, 30, 19, 7, 39, 24, 40, 25, 12, 18, 3, 2, 32, 11, 5, 36, 31, 22]\n",
      "3477\n",
      "[0, 2, 3, 27, 11, 14, 19, 6, 1, 32, 22, 41, 9, 23, 8, 13, 10, 31, 12, 21, 39, 40, 25, 16, 36, 35, 33, 34, 5, 29, 30, 7, 15, 37, 17, 20, 4, 18, 28, 26, 24, 38]\n",
      "3314\n",
      "[0, 41, 12, 36, 35, 17, 8, 5, 11, 39, 24, 4, 30, 27, 3, 31, 32, 33, 1, 25, 10, 18, 2, 13, 15, 37, 9, 22, 16, 14, 19, 26, 6, 7, 34, 20, 28, 23, 40, 21, 38, 29]\n",
      "3389\n",
      "[0, 18, 20, 36, 33, 34, 38, 10, 25, 23, 3, 5, 14, 13, 7, 17, 22, 39, 28, 27, 2, 29, 11, 12, 21, 9, 30, 8, 32, 1, 31, 15, 37, 16, 19, 35, 40, 41, 26, 6, 24, 4]\n",
      "3467\n",
      "[0, 29, 27, 2, 28, 30, 7, 18, 15, 19, 1, 37, 16, 14, 31, 39, 9, 41, 13, 5, 25, 8, 20, 10, 4, 32, 36, 35, 33, 6, 11, 12, 3, 17, 34, 38, 22, 40, 21, 24, 23, 26]\n",
      "3102\n",
      "Promedio: 3357.0 Desviación estándar: 111.01351269102334\n"
     ]
    }
   ],
   "execution_count": 157
  },
  {
   "metadata": {},
   "cell_type": "markdown",
   "source": [
    "Mejorando la selección de nodos y disminuyendo la distancia cerca de 500 unidades.\n",
    "\n",
    "¿Podemos mejorarlo más? Podemos cambiar la función de evaporación de feromonas siguiendo lo propuesto por el algoritmo dado por la formúla:\n",
    "\n",
    "$$\n",
    "\\tau_{xy} \\leftarrow (1 - \\rho) \\tau_{xy} + \\sum_{k} \\Delta \\tau_{xy}^k\n",
    "$$\n"
   ],
   "id": "d45295b632ef4f83"
  },
  {
   "metadata": {
    "ExecuteTime": {
     "end_time": "2025-02-05T22:05:57.670288Z",
     "start_time": "2025-02-05T22:05:57.656222Z"
    }
   },
   "cell_type": "code",
   "source": [
    "def Incrementa_Feromona(problem, T, H ) :\n",
    "    #Incrementa según la calidad de la solución. Añadir una cantidad inversamente proporcional a la distancia total\n",
    "\n",
    "    delta_T = [[0 for _ in range(len(T))] for _ in range(len(T))]\n",
    "\n",
    "    for i in range(len(H)-1):\n",
    "        T[H[i]][H[i+1]] += 1000/distancia_total(H, problem)\n",
    "        delta_T[H[i]][H[i+1]] += 1000/distancia_total(H, problem)\n",
    "    return T, delta_T\n",
    "\n",
    "def Evaporar_Feromonas(T, delta_T):\n",
    "    #Aplicamos la formúla de evaporación de feromonas\n",
    "    rho = 0.3\n",
    "    T = [[ max((1 - rho) * T[i][j] + delta_T[i][j], 1) for i in range(len(Nodos)) ] for j in range(len(Nodos))]\n",
    "\n",
    "    return T"
   ],
   "id": "82da59041379d6a",
   "outputs": [],
   "execution_count": 167
  },
  {
   "metadata": {
    "ExecuteTime": {
     "end_time": "2025-02-05T22:07:57.130293Z",
     "start_time": "2025-02-05T22:05:59.817885Z"
    }
   },
   "cell_type": "code",
   "source": "prom_update, dev_update = test(hormigas, problem, 1000)",
   "id": "127f5d1068f7a2b1",
   "outputs": [
    {
     "name": "stdout",
     "output_type": "stream",
     "text": [
      "[0, 17, 31, 20, 26, 4, 1, 2, 29, 8, 10, 34, 32, 18, 16, 13, 40, 24, 14, 19, 27, 41, 3, 39, 30, 38, 21, 28, 5, 23, 22, 33, 36, 35, 15, 37, 9, 25, 12, 11, 6, 7]\n",
      "3498\n",
      "[0, 12, 11, 18, 5, 19, 15, 9, 30, 38, 1, 6, 37, 7, 27, 2, 14, 17, 31, 29, 8, 10, 40, 41, 23, 32, 16, 22, 24, 39, 4, 3, 35, 33, 20, 28, 26, 25, 21, 13, 34, 36]\n",
      "3508\n",
      "[0, 22, 32, 30, 34, 4, 12, 11, 33, 20, 35, 17, 1, 36, 3, 2, 14, 28, 13, 31, 25, 10, 41, 18, 7, 37, 26, 5, 6, 15, 19, 16, 24, 40, 21, 27, 29, 39, 9, 8, 23, 38]\n",
      "3418\n",
      "[0, 19, 28, 3, 6, 25, 10, 5, 18, 33, 32, 38, 20, 15, 17, 26, 34, 36, 12, 41, 8, 9, 40, 24, 21, 39, 29, 14, 16, 7, 31, 35, 30, 1, 2, 37, 11, 23, 22, 13, 4, 27]\n",
      "3400\n",
      "[0, 4, 12, 14, 26, 1, 13, 16, 31, 15, 3, 20, 33, 17, 30, 21, 24, 40, 28, 7, 9, 39, 41, 34, 19, 36, 37, 25, 11, 18, 27, 2, 10, 29, 23, 8, 22, 38, 35, 5, 6, 32]\n",
      "3456\n",
      "[0, 36, 17, 35, 28, 29, 2, 12, 6, 4, 26, 3, 27, 34, 37, 24, 39, 21, 41, 23, 9, 30, 38, 40, 33, 1, 10, 25, 22, 8, 18, 13, 20, 31, 14, 19, 32, 7, 11, 5, 16, 15]\n",
      "3368\n",
      "[0, 30, 29, 8, 33, 5, 41, 40, 39, 10, 20, 35, 2, 27, 28, 37, 14, 16, 26, 12, 11, 25, 6, 38, 21, 24, 22, 9, 1, 4, 7, 3, 32, 17, 36, 31, 13, 15, 19, 18, 23, 34]\n",
      "3255\n",
      "[0, 14, 18, 29, 33, 31, 15, 17, 5, 1, 4, 20, 30, 22, 38, 39, 27, 28, 21, 40, 6, 11, 25, 12, 8, 32, 7, 36, 35, 16, 37, 13, 26, 19, 24, 41, 23, 10, 9, 3, 34, 2]\n",
      "3249\n",
      "[0, 13, 16, 1, 31, 5, 7, 9, 29, 32, 20, 28, 27, 36, 17, 35, 4, 2, 37, 19, 30, 8, 26, 22, 15, 14, 33, 34, 6, 18, 12, 10, 11, 25, 38, 23, 41, 24, 39, 21, 40, 3]\n",
      "3347\n",
      "[0, 17, 39, 20, 34, 30, 32, 3, 1, 2, 27, 11, 12, 4, 28, 29, 18, 15, 14, 16, 31, 7, 37, 5, 21, 25, 10, 9, 24, 38, 6, 8, 41, 19, 26, 36, 35, 33, 40, 22, 23, 13]\n",
      "3362\n",
      "Promedio: 3386.1 Desviación estándar: 84.79321906850808\n"
     ]
    }
   ],
   "execution_count": 168
  },
  {
   "metadata": {},
   "cell_type": "markdown",
   "source": "Eliminando la restricción de que la feromona no puede ser menor a 1:",
   "id": "32a6c1a1a6051e95"
  },
  {
   "metadata": {
    "ExecuteTime": {
     "end_time": "2025-02-05T22:07:57.222914Z",
     "start_time": "2025-02-05T22:07:57.208108Z"
    }
   },
   "cell_type": "code",
   "source": [
    "def Evaporar_Feromonas(T, delta_T):\n",
    "    #Aplicamos la formúla de evaporación de feromonas\n",
    "    rho = 0.3\n",
    "    T = [[ (1 - rho) * T[i][j] + delta_T[i][j] for i in range(len(Nodos)) ] for j in range(len(Nodos))]\n",
    "\n",
    "    return T"
   ],
   "id": "baf0f856307c6ed5",
   "outputs": [],
   "execution_count": 171
  },
  {
   "metadata": {
    "ExecuteTime": {
     "end_time": "2025-02-05T22:09:50.945250Z",
     "start_time": "2025-02-05T22:07:57.238943Z"
    }
   },
   "cell_type": "code",
   "source": "prom_update_2, dev_update_2 = test(hormigas, problem, 1000)",
   "id": "20f51bdd15f2546f",
   "outputs": [
    {
     "name": "stdout",
     "output_type": "stream",
     "text": [
      "[0, 16, 14, 32, 22, 9, 8, 41, 10, 12, 21, 24, 40, 29, 26, 31, 17, 7, 1, 4, 3, 38, 34, 33, 20, 27, 23, 39, 2, 19, 5, 13, 36, 11, 25, 18, 35, 37, 15, 6, 30, 28]\n",
      "2986\n",
      "[0, 14, 25, 18, 26, 33, 41, 21, 22, 15, 16, 19, 5, 13, 12, 1, 4, 9, 8, 11, 10, 23, 30, 6, 35, 32, 29, 24, 40, 39, 17, 31, 36, 37, 3, 2, 28, 27, 7, 20, 34, 38]\n",
      "3217\n",
      "[0, 27, 2, 8, 37, 15, 36, 21, 39, 29, 22, 40, 18, 30, 28, 1, 4, 23, 9, 32, 38, 35, 31, 19, 13, 25, 11, 16, 17, 3, 26, 5, 41, 14, 7, 24, 20, 34, 33, 6, 10, 12]\n",
      "3651\n",
      "[0, 1, 6, 13, 11, 12, 39, 5, 2, 30, 18, 22, 40, 29, 35, 33, 34, 20, 17, 31, 7, 15, 14, 19, 27, 32, 16, 37, 38, 4, 25, 41, 8, 9, 26, 3, 36, 24, 21, 23, 10, 28]\n",
      "3268\n",
      "[0, 28, 29, 30, 34, 32, 8, 14, 7, 12, 22, 39, 21, 3, 11, 18, 6, 1, 38, 26, 13, 5, 19, 16, 15, 37, 20, 33, 36, 35, 24, 40, 41, 23, 31, 17, 9, 2, 27, 4, 25, 10]\n",
      "3095\n",
      "[0, 1, 6, 4, 26, 10, 27, 32, 38, 21, 22, 30, 33, 34, 28, 29, 3, 2, 18, 11, 12, 9, 7, 15, 40, 23, 24, 39, 41, 20, 13, 37, 31, 17, 25, 8, 14, 16, 5, 19, 36, 35]\n",
      "3135\n",
      "[0, 20, 5, 26, 1, 3, 37, 14, 16, 19, 33, 8, 11, 12, 25, 39, 22, 13, 17, 32, 27, 36, 35, 34, 24, 40, 41, 23, 9, 10, 38, 21, 30, 29, 18, 6, 28, 2, 15, 7, 31, 4]\n",
      "3103\n",
      "[0, 1, 22, 28, 3, 4, 24, 29, 30, 21, 39, 25, 38, 18, 40, 23, 9, 41, 33, 20, 34, 5, 19, 15, 16, 7, 14, 37, 6, 13, 26, 11, 36, 35, 2, 27, 32, 17, 31, 8, 10, 12]\n",
      "3177\n",
      "[0, 10, 41, 9, 6, 1, 28, 14, 16, 3, 24, 12, 19, 13, 7, 4, 8, 11, 25, 37, 35, 32, 31, 33, 20, 34, 38, 22, 29, 30, 39, 23, 40, 21, 18, 26, 5, 17, 36, 15, 27, 2]\n",
      "2954\n",
      "[0, 34, 20, 16, 14, 18, 7, 13, 15, 6, 3, 32, 9, 21, 40, 27, 28, 1, 35, 33, 38, 22, 8, 23, 24, 12, 25, 41, 30, 10, 11, 29, 39, 37, 31, 5, 26, 19, 36, 17, 2, 4]\n",
      "3164\n",
      "Promedio: 3175.0 Desviación estándar: 182.99180309511135\n"
     ]
    }
   ],
   "execution_count": 172
  },
  {
   "metadata": {},
   "cell_type": "markdown",
   "source": "Comparando los resultados tenemos que:",
   "id": "5ab19762b0ac735d"
  },
  {
   "metadata": {},
   "cell_type": "markdown",
   "source": "Como se puede observar la mejora de nodos y evaporación es la mejor en este caso, pero a coste de una mayor desviación estándar que solo la mejora de nodos, debido principalmente a el cambio de evaporación de femonas donde puede disminuir a valores por debajo de 1 disminuyendo el factor de diversificación, aun así se logra disminuir cerca de 800 unidades con respecto al algoritmo original.",
   "id": "308587dd9c44ed87"
  },
  {
   "metadata": {
    "ExecuteTime": {
     "end_time": "2025-02-05T22:11:29.151731Z",
     "start_time": "2025-02-05T22:11:29.047090Z"
    }
   },
   "cell_type": "code",
   "source": [
    "import matplotlib.pyplot as plt\n",
    "\n",
    "\n",
    "plt.figure(figsize=(10,5))\n",
    "plt.bar([\"Inicial\", \"Mejora nodos\", \"Mejora evaporación\", \"Mejora evaporación sin limite\"],\n",
    "        [prom_ini, prom_fin, prom_update, prom_update_2],\n",
    "        yerr=[dev_ini, dev_fin, dev_update, dev_update_2])\n",
    "plt.ylabel(\"Distancia\")\n",
    "plt.title(\"Comparación de distancias\")\n",
    "\n",
    "plt.show()"
   ],
   "id": "8c43baac29d18324",
   "outputs": [
    {
     "data": {
      "text/plain": [
       "<Figure size 1000x500 with 1 Axes>"
      ],
      "image/png": "[encoded data removed]"
     },
     "metadata": {},
     "output_type": "display_data"
    }
   ],
   "execution_count": 175
  }
 ],
 "metadata": {
  "kernelspec": {
   "display_name": "Python 3",
   "language": "python",
   "name": "python3"
  },
  "language_info": {
   "codemirror_mode": {
    "name": "ipython",
    "version": 2
   },
   "file_extension": ".py",
   "mimetype": "text/x-python",
   "name": "python",
   "nbconvert_exporter": "python",
   "pygments_lexer": "ipython2",
   "version": "2.7.6"
  }
 },
 "nbformat": 4,
 "nbformat_minor": 5
}
