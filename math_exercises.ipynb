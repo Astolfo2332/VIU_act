{
 "cells": [
  {
   "cell_type": "markdown",
   "id": "70885d33aadb3735",
   "metadata": {},
   "source": [
    "\n",
    "<a href=\"https://githubtocolab.com/Astolfo2332/white_paper_LoRa/blob/main/math_exercises.ipynb\" target=\"_parent\\\">\n",
    "<img src=\"https://colab.research.google.com/assets/colab-badge.svg\" alt=\"Open in Colab\" > </a>\n"
   ]
  },
  {
   "cell_type": "markdown",
   "id": "b0038f90adbb9809",
   "metadata": {},
   "source": [
    "<div style=\"display: flex; align-items: center;\">\n",
    "    <div>\n",
    "        <h2>Ejercicios evaluables</h2>\n",
    "        <h2>Miguel López</h2>\n",
    "        <h2>ID 1001014378</h2>\n",
    "    </div>\n",
    "    <img src=\"https://yt3.ggpht.com/-10IUL9wra6k/AAAAAAAAAAI/AAAAAAAAAAA/UOBLu1uYOOE/s900-c-k-no/photo.jpg\" alt=\"Image description\" width=\"200\" style=\"margin-left: 20px;\"/>\n",
    "</div>"
   ]
  },
  {
   "cell_type": "markdown",
   "id": "92cee788d8bdc3d7",
   "metadata": {},
   "source": [
    "## Solución\n",
    "\n",
    "### 1. a Implementa una función, determinante recursivo, que obtenga el determinante de una matriz cuadrada utilizando la definición recursiva de Laplace."
   ]
  },
  {
   "cell_type": "code",
   "id": "6c9f1ccae262dc81",
   "metadata": {
    "ExecuteTime": {
     "end_time": "2024-12-12T05:55:07.346295Z",
     "start_time": "2024-12-12T05:55:07.339924Z"
    }
   },
   "source": [
    "import  numpy as np\n",
    "\n",
    "def determinante_recursivo(matriz):\n",
    "    #Evaluar si la matriz es cuadrada\n",
    "    if matriz.shape[0] != matriz.shape[1]:\n",
    "        raise ValueError(\"La matriz no es cuadrada\")\n",
    "    if matriz.shape[0] == 1:\n",
    "        return matriz[0,0]\n",
    "    det = 0\n",
    "    for i in range(matriz.shape[0]):\n",
    "        #Tomamos los valores de la primera fila y los delimitamos con la columna i\n",
    "        #Eliminando la primera fila y la columna i\n",
    "        det += (-1)**i * matriz[0,i] * determinante_recursivo(np.delete(np.delete(matriz, 0, 0), i, 1))\n",
    "    return det\n",
    "\n",
    "test = [np.array([[1,2,3],[4,5,6],[7,8,9]]),\n",
    "        np.array([[1,2,3],[4,5,6],[7,8,10]]),\n",
    "        np.array([[1,2],[3,4]])]\n",
    "\n",
    "for i in test:\n",
    "    print(i)\n",
    "    print(\"Determinante:\", determinante_recursivo(i))\n"
   ],
   "outputs": [
    {
     "name": "stdout",
     "output_type": "stream",
     "text": [
      "[[1 2 3]\n",
      " [4 5 6]\n",
      " [7 8 9]]\n",
      "Determinante: 0\n",
      "[[ 1  2  3]\n",
      " [ 4  5  6]\n",
      " [ 7  8 10]]\n",
      "Determinante: -3\n",
      "[[1 2]\n",
      " [3 4]]\n",
      "Determinante: -2\n"
     ]
    }
   ],
   "execution_count": 5
  },
  {
   "metadata": {},
   "cell_type": "markdown",
   "source": [
    "### 1. b\n",
    "Si A es una matriz cuadrada $n×n$ y triangular (superior o inferior, es decir, con entradas nulas por debajo o por encima de la diagonal, respectivamente), ¿existe alguna forma de calcular de forma directa y sencilla su determinante? Justifíquese la respuesta.\n",
    "\n",
    "### Respuesta\n",
    "\n",
    " Nos ayudaremos del código anterior, pero en sí se da debido a que la multiplicación con sus pares superiores o inferiores van a ser 0, por ende solo quedaría multiplicar los elementos de la diagonal principal. Notes claro que si uno de estos elementos es 0 el determinante será 0. Pero se puede demostrar de la siguiente forma en un caso general de matriz triangular inferior:\n",
    "\n",
    "$$\n",
    "\\begin{vmatrix}\n",
    "a & b & c \\\\\n",
    "0 & d & e \\\\\n",
    "0 & 0 & f \\\\\n",
    "\\end{vmatrix}\n",
    "= a \\cdot\n",
    "\\begin{vmatrix}\n",
    "d & e \\\\\n",
    "0 & f \\\\\n",
    "\\end{vmatrix}\n",
    "- b \\cdot\n",
    "\\begin{vmatrix}\n",
    "0 & e \\\\\n",
    "0 & f \\\\\n",
    "\\end{vmatrix}\n",
    "+ c \\cdot\n",
    "\\begin{vmatrix}\n",
    "0 & d \\\\\n",
    "0 & 0 \\\\\n",
    "\\end{vmatrix}\n",
    "$$\n",
    "\n",
    "$$\n",
    "= a \\cdot (d \\cdot f) - b \\cdot 0 + c \\cdot 0\n",
    "$$\n",
    "\n",
    "$$\n",
    "= a \\cdot d \\cdot f\n",
    "$$\n",
    "\n",
    "Para una triangular superior funciona de la misma forma.\n",
    "\n",
    "$$\n",
    "\\begin{vmatrix}\n",
    "a & 0 & 0 \\\\\n",
    "b & d & 0 \\\\\n",
    "c & e & f \\\\\n",
    "\\end{vmatrix}\n",
    "= a \\cdot\n",
    "\\begin{vmatrix}\n",
    "d & 0 \\\\\n",
    "e & f \\\\\n",
    "\\end{vmatrix}\n",
    "- 0 \\cdot\n",
    "\\begin{vmatrix}\n",
    "b & 0 \\\\\n",
    "c & f \\\\\n",
    "\\end{vmatrix}\n",
    "+ 0 \\cdot\n",
    "\\begin{vmatrix}\n",
    "b & d \\\\\n",
    "c & e \\\\\n",
    "\\end{vmatrix}\n",
    "$$\n",
    "\n",
    "$$\n",
    "= a \\cdot (d \\cdot f) -  0 +  0\n",
    "$$\n",
    "\n",
    "$$\n",
    "= a \\cdot d \\cdot f\n",
    "$$\n",
    "\n",
    "\n",
    "\n"
   ],
   "id": "345ed9566b7461be"
  },
  {
   "metadata": {
    "ExecuteTime": {
     "end_time": "2024-12-12T06:20:43.266120Z",
     "start_time": "2024-12-12T06:20:43.260340Z"
    }
   },
   "cell_type": "code",
   "source": [
    "# Usando la función determinante_recursivo\n",
    "\n",
    "test = [np.array([[1,0,0],[2,3,0],[4,5,6]]),\n",
    "        np.array([[1,2,3],[0,4,5],[0,0,6]]),\n",
    "        np.array([[1,0,0],[2,3,0],[4,5,6]]),]\n",
    "\n",
    "for i in test:\n",
    "    print(i)\n",
    "    print(\"Determinante:\", determinante_recursivo(i))\n",
    "    #np.prod multiplica los elementos de un array y np.diag obtiene la diagonal de una matriz\n",
    "    print(\"Determinante multiplicando diagonal:\", np.prod(np.diag(i)))"
   ],
   "id": "b8396343e7fd542d",
   "outputs": [
    {
     "name": "stdout",
     "output_type": "stream",
     "text": [
      "[[1 0 0]\n",
      " [2 3 0]\n",
      " [4 5 6]]\n",
      "Determinante: 18\n",
      "Determinante multiplicando diagonal: 18\n",
      "[[1 2 3]\n",
      " [0 4 5]\n",
      " [0 0 6]]\n",
      "Determinante: 24\n",
      "Determinante multiplicando diagonal: 24\n",
      "[[1 0 0]\n",
      " [2 3 0]\n",
      " [4 5 6]]\n",
      "Determinante: 18\n",
      "Determinante multiplicando diagonal: 18\n"
     ]
    }
   ],
   "execution_count": 8
  },
  {
   "metadata": {},
   "cell_type": "markdown",
   "source": [
    "### 1. c\n",
    "Determínese de forma justificada cómo alteran el determinante de una\n",
    "matriz $n × n$ las dos operaciones elementales siguientes:\n",
    "\n",
    "- Intercambiar una fila (o columna) por otra fila (o columna).\n",
    "- Sumar a una fila (o columna) otra fila (o columna) multiplicada por un escalar α.\n",
    "\n",
    "### Respuesta\n",
    "\n",
    "En el caso de intercamabiar una fila por otra, el determinante cambia de signo, esto se puede demostrar de la siguiente forma, supongamos una matrix $A$ y otra $A'$ que es la matriz $A$ con las filas $i$ y $j$ intercambiadas, entonces:\n",
    "$$\n",
    "A =\n",
    "\\begin{vmatrix}\n",
    "a & b \\\\\n",
    "c & d \\\\\n",
    "\\end{vmatrix}\n",
    "= a \\cdot d - b \\cdot c\n",
    "$$\n",
    "\n",
    "Al realizar el cambio de fila:\n",
    "\n",
    "$$\n",
    "A' =\n",
    "\\begin{vmatrix}\n",
    "c & d \\\\\n",
    "a & b \\\\\n",
    "\\end{vmatrix}\n",
    "= c \\cdot b - d \\cdot a\n",
    "$$\n",
    "\n",
    "Así si igualamos las dos expresiones anteriores:\n",
    "\n",
    "$$\n",
    "a \\cdot d - b \\cdot c = -(d \\cdot a - c \\cdot b)\n",
    "$$\n",
    "\n",
    "Por consiguiente se puede concluir que el determinante es:\n",
    "\n",
    "$$\n",
    "det(A) = -det(A')\n",
    "$$\n"
   ],
   "id": "6be6d49abb1d0b12"
  },
  {
   "metadata": {
    "ExecuteTime": {
     "end_time": "2024-12-12T06:34:15.074860Z",
     "start_time": "2024-12-12T06:34:15.070176Z"
    }
   },
   "cell_type": "code",
   "source": [
    "test = [np.array([[1,2],[3,4]]),\n",
    "        np.array([[4,5],[6,7]])]\n",
    "\n",
    "for i in test:\n",
    "    print(i)\n",
    "    print(\"Determinante:\", determinante_recursivo(i))\n",
    "    #Intercambiamos las filas\n",
    "    print(i[::-1])\n",
    "    print(\"Determinante con filas intercambiadas:\", determinante_recursivo(i[::-1]))"
   ],
   "id": "eb955ab1302237b6",
   "outputs": [
    {
     "name": "stdout",
     "output_type": "stream",
     "text": [
      "[[1 2]\n",
      " [3 4]]\n",
      "Determinante: -2\n",
      "[[3 4]\n",
      " [1 2]]\n",
      "Determinante con filas intercambiadas: 2\n",
      "[[4 5]\n",
      " [6 7]]\n",
      "Determinante: -2\n",
      "[[6 7]\n",
      " [4 5]]\n",
      "Determinante con filas intercambiadas: 2\n"
     ]
    }
   ],
   "execution_count": 11
  },
  {
   "metadata": {},
   "cell_type": "markdown",
   "source": [
    "En el caso de sumar a una fila otra fila multiplicada por un escalar $\\alpha$, el determinante no se ve afectado, esto se puede demostrar de la siguiente forma, supongamos una matrix $A$ y otra $A'$ que es la matriz $A$ con la fila $i$ multiplicada por un escalar $\\alpha$ y sumada a la fila $j$, entonces:\n",
    "$$\n",
    "A =\n",
    "\\begin{vmatrix}\n",
    "a & b \\\\\n",
    "c & d \\\\\n",
    "\\end{vmatrix}\n",
    "= a \\cdot d - b \\cdot c\n",
    "$$\n",
    "\n",
    "Aplicando la transformación:\n",
    "\n",
    "$$\n",
    "A' =\n",
    "\\begin{vmatrix}\n",
    "a & b \\\\\n",
    "c + \\alpha a & d + \\alpha b \\\\\n",
    "\\end{vmatrix}\n",
    "= a \\cdot (d + \\alpha b) - b \\cdot (c + \\alpha a)\n",
    "= a \\cdot d + a \\cdot \\alpha b - b \\cdot c - b \\cdot \\alpha a\n",
    "= a \\cdot d - b \\cdot c\n",
    "$$\n",
    "\n",
    "Por ende el determinante no se ve afectado.\n"
   ],
   "id": "13107b2c4f869c4a"
  },
  {
   "metadata": {
    "ExecuteTime": {
     "end_time": "2024-12-12T06:40:00.158689Z",
     "start_time": "2024-12-12T06:40:00.153801Z"
    }
   },
   "cell_type": "code",
   "source": [
    "test = [np.array([[1,2],[3,4]]),\n",
    "        np.array([[4,5],[6,7]])]\n",
    "\n",
    "for i in test:\n",
    "    print(i)\n",
    "    print(\"Determinante:\", determinante_recursivo(i))\n",
    "    #Multiplicamos la primera fila por 2 y la sumamos a la segunda\n",
    "    i[1] = i[1] + 2*i[0]\n",
    "    print(i)\n",
    "    print(\"Determinante con filas sumadas:\", determinante_recursivo(i))"
   ],
   "id": "c3262a3cba8c20f5",
   "outputs": [
    {
     "name": "stdout",
     "output_type": "stream",
     "text": [
      "[[1 2]\n",
      " [3 4]]\n",
      "Determinante: -2\n",
      "[[1 2]\n",
      " [5 8]]\n",
      "Determinante con filas sumadas: -2\n",
      "[[4 5]\n",
      " [6 7]]\n",
      "Determinante: -2\n",
      "[[ 4  5]\n",
      " [14 17]]\n",
      "Determinante con filas sumadas: -2\n"
     ]
    }
   ],
   "execution_count": 13
  },
  {
   "metadata": {},
   "cell_type": "markdown",
   "source": [
    "### 1. d\n",
    "Investiga sobre el método de eliminación de Gauss con pivoteo parcial e impleméntalo para escalonar una matriz (es decir, convertirla en una matriz triangular inferior) a partir de las operaciones elementales descritas en el apartado anterior."
   ],
   "id": "578c39aea917be72"
  },
  {
   "metadata": {
    "ExecuteTime": {
     "end_time": "2024-12-12T06:43:24.756458Z",
     "start_time": "2024-12-12T06:43:24.748129Z"
    }
   },
   "cell_type": "code",
   "source": [
    "def gauss_pivoteo_parcial(matriz):\n",
    "    #Matriz aumentada\n",
    "    matriz = matriz.astype(float)\n",
    "    n = matriz.shape[0]\n",
    "    for i in range(n):\n",
    "        #Pivoteo parcial\n",
    "        max_index = np.argmax(np.abs(matriz[i:,i])) + i\n",
    "        matriz[[i,max_index]] = matriz[[max_index,i]]\n",
    "        for j in range(i+1, n):\n",
    "            #Dividimos la fila por el pivote\n",
    "            matriz[j] = matriz[j] - matriz[i] * matriz[j,i] / matriz[i,i]\n",
    "    return matriz\n",
    "\n",
    "test = [np.array([[1,2,3],[4,5,6],[7,8,9]]),\n",
    "        np.array([[1,2,3],[4,5,6],[7,8,10]]),\n",
    "        np.array([[1,2],[3,4]])]\n",
    "\n",
    "for i in test:\n",
    "    print(i)\n",
    "    print(gauss_pivoteo_parcial(i))"
   ],
   "id": "2f50f6f88f9c5c19",
   "outputs": [
    {
     "name": "stdout",
     "output_type": "stream",
     "text": [
      "[[1 2 3]\n",
      " [4 5 6]\n",
      " [7 8 9]]\n",
      "[[ 7.00000000e+00  8.00000000e+00  9.00000000e+00]\n",
      " [ 0.00000000e+00  8.57142857e-01  1.71428571e+00]\n",
      " [ 0.00000000e+00  0.00000000e+00 -7.77156117e-16]]\n",
      "[[ 1  2  3]\n",
      " [ 4  5  6]\n",
      " [ 7  8 10]]\n",
      "[[ 7.          8.         10.        ]\n",
      " [ 0.          0.85714286  1.57142857]\n",
      " [ 0.          0.         -0.5       ]]\n",
      "[[1 2]\n",
      " [3 4]]\n",
      "[[3.         4.        ]\n",
      " [0.         0.66666667]]\n"
     ]
    }
   ],
   "execution_count": 14
  }
 ],
 "metadata": {
  "kernelspec": {
   "display_name": "Python [conda env:base] *",
   "language": "python",
   "name": "conda-base-py"
  },
  "language_info": {
   "codemirror_mode": {
    "name": "ipython",
    "version": 3
   },
   "file_extension": ".py",
   "mimetype": "text/x-python",
   "name": "python",
   "nbconvert_exporter": "python",
   "pygments_lexer": "ipython3",
   "version": "3.11.9"
  }
 },
 "nbformat": 4,
 "nbformat_minor": 5
}
